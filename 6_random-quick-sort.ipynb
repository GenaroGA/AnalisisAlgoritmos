{
 "cells": [
  {
   "cell_type": "markdown",
   "metadata": {},
   "source": [
    "## 6 Randomized Quick Sort"
   ]
  },
  {
   "cell_type": "markdown",
   "metadata": {},
   "source": [
    "Este algoritmo ordena un arreglo de tamaño n. Realizan una partición aleatoria y luego pasa a un lado los elementos mayores al pivote y del otro los elementos menores al pivote. Así recursivamente repite el proceso con los 2 subarreglos que se generaron después de la partición."
   ]
  },
  {
   "cell_type": "markdown",
   "metadata": {},
   "source": [
    "### 6.1 Algoritmo"
   ]
  },
  {
   "cell_type": "code",
   "execution_count": 10,
   "metadata": {},
   "outputs": [],
   "source": [
    "from random import randint\n",
    "\n",
    "def partition (A, p, r):\n",
    "    x=A[r]\n",
    "    i=p-1\n",
    "    for j in range (p, r):\n",
    "        if A[j]<=x:\n",
    "            i += 1\n",
    "            A[i], A[j] = A[j], A[i]\n",
    "    A[i+1], A[r] = A[r], A[i+1]\n",
    "    return i+1\n",
    "\n",
    "def randomized_partition (A, p, r):\n",
    "    i = randint(p,r)\n",
    "    A[i], A[r] = A[r], A[i]\n",
    "    return partition(A,p,r)\n",
    "\n",
    "def randomized_quick_sort (A, p, r):\n",
    "    if p < r:\n",
    "        q = randomized_partition(A, p, r)\n",
    "        randomized_quick_sort(A, p, q-1)\n",
    "        randomized_quick_sort(A, q+1, r)\n",
    "    return A"
   ]
  },
  {
   "cell_type": "markdown",
   "metadata": {},
   "source": [
    "### 6.2 Verificación"
   ]
  },
  {
   "cell_type": "code",
   "execution_count": 14,
   "metadata": {},
   "outputs": [
    {
     "name": "stdout",
     "output_type": "stream",
     "text": [
      "[4, 8, 15, 21, 23, 39, 43, 48, 56, 64, 70]\n"
     ]
    }
   ],
   "source": [
    "A = [15,64,23,8,39,70,48,56, 43, 21, 4]\n",
    "\n",
    "A = randomized_quick_sort(A, 0, len(A)-1)\n",
    "print(A)"
   ]
  },
  {
   "cell_type": "markdown",
   "metadata": {},
   "source": [
    "**Loop invariante:** En la i-ésima iteración todos los elementos menores que el pivote están antes de éste y los elementos mayores están después y el pivote queda acomodado en su lugar.  \n",
    "**Inicilización:** En la primera iteración se supone que hubo una partición antes que dejó un arreglo de n elementos y otro de 0 elementos con un pivote con valor infinito. Lo que cumple con el loop invaiante.   \n",
    "**Mantenimiento:** Como con cada vez que se entra en la recursión se cumple el loop invariante y al realizar el proceso de partición se elige un pivote y se acomodan de un lado los elementos menores y del otro los mayores, se sigue cumpliendo la invariante para entrar en la siguiente recursión.  \n",
    "**Finalización:** Finalmente cuando el arreglo a ordenar es de un solo elemento, el pivote es éste y está en su lugar. Como todos los elementos del arreglo en algún momento son el pivote, el algoritmo es correcto."
   ]
  },
  {
   "cell_type": "markdown",
   "metadata": {},
   "source": [
    "### 6.3 Análisis del tiempo de ejecución"
   ]
  },
  {
   "cell_type": "markdown",
   "metadata": {},
   "source": [
    "Analizando el tiempo de ejecución por cada línea: La línea 1 se ejecuta $\\theta(1)$ veces. La línea 2 tiene tiempo de ejecución $\\theta(n)$ ya que ese es el tiempo de ejecución de la función PARTITION. Las líneas 3 y 4 tienen en promedio tiempo de ejecución $T(n/2)$ ya que el pivote es aleatorio. Al sumar todas las líneas tenemos que  \n",
    "$T(n) = T(n/2)+\\theta(n)+\\theta(1)$  \n",
    "Luego al resolver la recursión con el método maestro, llegamos a que  \n",
    "$T(n) = \\theta(nlog(n))$"
   ]
  },
  {
   "cell_type": "markdown",
   "metadata": {},
   "source": [
    "### 6.4 Experimentación en el tiempo de ejecución"
   ]
  },
  {
   "cell_type": "markdown",
   "metadata": {},
   "source": [
    "Vamos a realizar 16 ejecuciones del algoritmo para entradas A de tamaño 1000*i con entradas aleatorias con $i\\in\\{1,\\dots,16\\}$. Luego tomaremos el timempo que tarda el algoritmo con cada arreglo."
   ]
  },
  {
   "cell_type": "code",
   "execution_count": 21,
   "metadata": {},
   "outputs": [
    {
     "name": "stdout",
     "output_type": "stream",
     "text": [
      "1000 elementos: 0.002095999996527098\n",
      "2000 elementos: 0.0062827999936416745\n",
      "3000 elementos: 0.008883500006049871\n",
      "4000 elementos: 0.0138810999924317\n",
      "5000 elementos: 0.02109349999227561\n",
      "6000 elementos: 0.023903599998448044\n",
      "7000 elementos: 0.02999130000534933\n",
      "8000 elementos: 0.037802300008479506\n",
      "9000 elementos: 0.046367400005692616\n",
      "10000 elementos: 0.05680380000558216\n",
      "11000 elementos: 0.0616602999944007\n",
      "12000 elementos: 0.07181880000280216\n",
      "13000 elementos: 0.0798711999959778\n",
      "14000 elementos: 0.0877086000109557\n",
      "15000 elementos: 0.09806709999975283\n",
      "16000 elementos: 0.1122795999981463\n"
     ]
    }
   ],
   "source": [
    "from random import randint\n",
    "from timeit import default_timer\n",
    "\n",
    "A=[]\n",
    "for i in range (16):\n",
    "    for j in range(1000):\n",
    "        A.append(randint(0,200))\n",
    "    inicio = default_timer()\n",
    "    A = randomized_quick_sort(A, 0, len(A)-1)\n",
    "    fin = default_timer()\n",
    "    print(str(len(A)) + ' elementos: ' + str(fin-inicio))"
   ]
  },
  {
   "cell_type": "markdown",
   "metadata": {},
   "source": [
    "A continuación, graficaremos los puntos $(n,time)$ donde $n$ corresponde al tamaño del arreglo y para fines prácticos, redondearemos los tiempos. "
   ]
  },
  {
   "cell_type": "code",
   "execution_count": 23,
   "metadata": {},
   "outputs": [
    {
     "data": {
      "text/plain": [
       "Text(0, 0.5, 'segundos')"
      ]
     },
     "execution_count": 23,
     "metadata": {},
     "output_type": "execute_result"
    },
    {
     "data": {
      "image/png": "[encoded data removed]",
      "text/plain": [
       "<Figure size 432x288 with 1 Axes>"
      ]
     },
     "metadata": {
      "needs_background": "light"
     },
     "output_type": "display_data"
    }
   ],
   "source": [
    "import matplotlib.pyplot as plt\n",
    "\n",
    "x=[1,2,3,4,5,6,7,8,9,10,11,12,13,14,15,16]\n",
    "y=[0.002,0.0062,0.0088,0.0138,0.021,0.0239,0.0299,0.0378,0.0463,0.0568,0.0616,0.0718,0.0798,0.0877,0.098,0.1122]\n",
    "\n",
    "plt.plot(x, y)\n",
    "plt.xlabel('tamaño de la entrada x 100')\n",
    "plt.ylabel('segundos')"
   ]
  }
 ],
 "metadata": {
  "kernelspec": {
   "display_name": "Python 3.10.2 64-bit",
   "language": "python",
   "name": "python3"
  },
  "language_info": {
   "codemirror_mode": {
    "name": "ipython",
    "version": 3
   },
   "file_extension": ".py",
   "mimetype": "text/x-python",
   "name": "python",
   "nbconvert_exporter": "python",
   "pygments_lexer": "ipython3",
   "version": "3.10.2"
  },
  "orig_nbformat": 4,
  "vscode": {
   "interpreter": {
    "hash": "4ae8321023a43e8750d8ff3593eda6e0e7606e9c5757d8cb19436b51b76db73b"
   }
  }
 },
 "nbformat": 4,
 "nbformat_minor": 2
}
