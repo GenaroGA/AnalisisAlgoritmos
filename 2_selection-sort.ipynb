{
 "cells": [
  {
   "cell_type": "markdown",
   "metadata": {},
   "source": [
    "## 2 Selection sort"
   ]
  },
  {
   "cell_type": "markdown",
   "metadata": {},
   "source": [
    "Este algoritmo resuelve el problema de ordenación. Busca dentro del arreglo el elemento más pequeño y lo coloca al inicio del arreglo, luego recorta el primer elemento del arreglo. Repite este proceso hasta que solo quede un elemento en el arreglo."
   ]
  },
  {
   "cell_type": "markdown",
   "metadata": {},
   "source": [
    "### 2.1 Algoritmo"
   ]
  },
  {
   "cell_type": "code",
   "execution_count": 6,
   "metadata": {},
   "outputs": [],
   "source": [
    "def selectionSort (A, p, n):\n",
    "    if p < n:\n",
    "        min = p\n",
    "        for i in range (p, n):\n",
    "            if A[i] < A[min]:\n",
    "                min = i\n",
    "        A[p], A[min] = A[min], A[p]\n",
    "        selectionSort(A, p+1, n)\n",
    "        return A"
   ]
  },
  {
   "cell_type": "markdown",
   "metadata": {},
   "source": [
    "### 2.2 Verificación"
   ]
  },
  {
   "cell_type": "code",
   "execution_count": 7,
   "metadata": {},
   "outputs": [],
   "source": [
    "A=[15,64,23,8,39,21,48,56]"
   ]
  },
  {
   "cell_type": "code",
   "execution_count": 8,
   "metadata": {},
   "outputs": [
    {
     "name": "stdout",
     "output_type": "stream",
     "text": [
      "[8, 15, 21, 23, 39, 48, 56, 64]\n"
     ]
    }
   ],
   "source": [
    "A=selectionSort(A, 0, len(A))\n",
    "print(A)"
   ]
  },
  {
   "cell_type": "markdown",
   "metadata": {},
   "source": [
    "**Loop invariante:** En la i-ésima iteración están ordenados los primeros $i-1$ elementos y el resto de elementos son mayores a todos los $i$ elementos ordenados.  \n",
    "**Inicilización:** En la primera iteración se elige el mínimo y se coloca al principio del arreglo, lo que cumple el loop invariante.  \n",
    "**Mantenimiento:** En la i-ésima iteración como los primeros $i-1$ elementos están ordenados, al poner el mínimo de los elementos no ordenados al principo de éstos, se garantiza que ahora los primeros $i$ elementos estarán ordenados.  \n",
    "**Finalización:**  El algoritmo termina cuando $i=n$ y se ordena el n-ésimo elemento. Todos los elementos están ordenados, por lo tanto es correcto el algoritmo"
   ]
  },
  {
   "cell_type": "markdown",
   "metadata": {},
   "source": [
    "### 2.3 Análisis del tiempo de ejecución"
   ]
  },
  {
   "cell_type": "markdown",
   "metadata": {},
   "source": [
    "Analizando línea por línea: Las líneas 1 y 2 se ejecutan $\\theta(1)$ veces. Las líneas 3, 4 y 5 al estar en un ciclo for se ejecutan $\\theta(n)$ veces. La línea 6 se ejecuta $\\theta(1)$ veces. La línea 7 tiene tiempo de ejecición $T(n-1)$ ya que se llama a la misma función pero el arreglo tiene un elemento menos.  Y por  último, la línea 8 ejecuta $\\theta(1)$ veces.  \n",
    "Al sumar, el tiempo de ejecución de todas las líneas, el tiempo de ejecición del algoritmo quedaría de la siguiente forma: $T(n)=T(n-1)+\\theta(n^2)+\\theta(1)$.  \n",
    "Luego de resolver la recursión se llega a lo siguiente: $T(n)=\\theta(n^2)$"
   ]
  },
  {
   "cell_type": "markdown",
   "metadata": {},
   "source": [
    "### 2.4 Experimentación en el tiempo de ejecución"
   ]
  },
  {
   "cell_type": "markdown",
   "metadata": {},
   "source": [
    "Vamos a realizar 16 ejecuciones del algoritmo para entradas A de tamaño 100*i con entradas aleatorias con $i\\in\\{1,\\dots,16\\}$. Luego tomaremos el timempo que tarda el algoritmo con cada arreglo."
   ]
  },
  {
   "cell_type": "code",
   "execution_count": 9,
   "metadata": {},
   "outputs": [
    {
     "name": "stdout",
     "output_type": "stream",
     "text": [
      "100 elementos: 0.0007317000126931816\n",
      "200 elementos: 0.002510699996491894\n",
      "300 elementos: 0.004627199989045039\n",
      "400 elementos: 0.009407700010342523\n",
      "500 elementos: 0.008855899999616668\n",
      "600 elementos: 0.011428300000261515\n",
      "700 elementos: 0.013503499998478219\n",
      "800 elementos: 0.01755990000674501\n",
      "900 elementos: 0.02182840000023134\n",
      "1000 elementos: 0.028540500003146008\n",
      "1100 elementos: 0.03370979998726398\n",
      "1200 elementos: 0.04010380001273006\n",
      "1300 elementos: 0.04801090000546537\n",
      "1400 elementos: 0.053535800019744784\n",
      "1500 elementos: 0.06270139999105595\n",
      "1600 elementos: 0.07539290000568144\n"
     ]
    }
   ],
   "source": [
    "from random import randint\n",
    "from timeit import default_timer\n",
    "\n",
    "A=[]\n",
    "for i in range (16):\n",
    "    for j in range(100):\n",
    "        A.append(randint(0,200))\n",
    "    inicio = default_timer()\n",
    "    A = selectionSort(A, 0, len(A))\n",
    "    fin = default_timer()\n",
    "    print(str(len(A)) + ' elementos: ' + str(fin-inicio))"
   ]
  },
  {
   "cell_type": "markdown",
   "metadata": {},
   "source": [
    "A continuación, graficaremos los puntos $(n,time)$ donde $n$ corresponde al tamaño del arreglo y para fines prácticos, redondearemos los tiempos. "
   ]
  },
  {
   "cell_type": "code",
   "execution_count": 92,
   "metadata": {},
   "outputs": [
    {
     "data": {
      "text/plain": [
       "Text(0, 0.5, 'segundos')"
      ]
     },
     "execution_count": 92,
     "metadata": {},
     "output_type": "execute_result"
    },
    {
     "data": {
      "image/png": "[encoded data removed]",
      "text/plain": [
       "<Figure size 432x288 with 1 Axes>"
      ]
     },
     "metadata": {
      "needs_background": "light"
     },
     "output_type": "display_data"
    }
   ],
   "source": [
    "import matplotlib.pyplot as plt\n",
    "\n",
    "x=[1,2,3,4,5,6,7,8,9,10,11,12,13,14,15,16]\n",
    "y=[0.0002,0.001,0.0022,0.0045,0.0069,0.0102,0.0142,0.018,0.0223,0.0278,0.033,0.04,0.0461,0.054,0.0636,0.0716]\n",
    "\n",
    "plt.plot(x, y)\n",
    "plt.xlabel('tamaño de la entrada x 100')\n",
    "plt.ylabel('segundos')"
   ]
  },
  {
   "cell_type": "markdown",
   "metadata": {},
   "source": [
    "Ahora ajustaremos una curva cuadrática vía mínimos cuadrados (en naranja) y la dibujaremos encima de la curva azul."
   ]
  },
  {
   "cell_type": "code",
   "execution_count": 116,
   "metadata": {},
   "outputs": [
    {
     "data": {
      "text/plain": [
       "Text(0, 0.5, 'segundos')"
      ]
     },
     "execution_count": 116,
     "metadata": {},
     "output_type": "execute_result"
    },
    {
     "data": {
      "image/png": "[encoded data removed]",
      "text/plain": [
       "<Figure size 432x288 with 1 Axes>"
      ]
     },
     "metadata": {
      "needs_background": "light"
     },
     "output_type": "display_data"
    }
   ],
   "source": [
    "import numpy as np\n",
    "\n",
    "M = np.zeros((17,7))\n",
    "suma = 0\n",
    "for k in range(4):\n",
    "    suma = 0\n",
    "    for i in range(16):\n",
    "        M[i,k] = x[i]**(k+1)\n",
    "        suma += M[i,k]\n",
    "    M[16,k] = suma\n",
    "\n",
    "for k in range(3):\n",
    "    suma = 0\n",
    "    for i in range(16):\n",
    "        M[i,4+k] = y[i]*(x[i]**k)\n",
    "        suma += M[i,4+k]\n",
    "    M[16,4+k] = suma\n",
    "\n",
    "MatrizDeCoeficientes = np.zeros((3,3))\n",
    "for i in range (3):\n",
    "    for j in range (3):\n",
    "        if i+j>0:\n",
    "            MatrizDeCoeficientes[i,j] = M[16,i+j-1]\n",
    "        else:\n",
    "            MatrizDeCoeficientes[i,j] = 16\n",
    "\n",
    "MatrizDeResultados = np.zeros((3,1))\n",
    "for i in range(3):\n",
    "    MatrizDeResultados[i,0]=M[16,4+i]\n",
    "\n",
    "coeficientes = np.dot(np.linalg.inv(MatrizDeCoeficientes), MatrizDeResultados)\n",
    "\n",
    "def f(x):\n",
    "    return coeficientes[0] + coeficientes[1]*x + coeficientes[2]*x*x\n",
    "plt.plot(x, y)\n",
    "plt.plot(x, f(x))\n",
    "plt.xlabel('tamaño de la entrada x 100')\n",
    "plt.ylabel('segundos')"
   ]
  }
 ],
 "metadata": {
  "kernelspec": {
   "display_name": "Julia 1.8.0",
   "language": "julia",
   "name": "julia-1.8"
  },
  "language_info": {
   "codemirror_mode": {
    "name": "ipython",
    "version": 3
   },
   "file_extension": ".py",
   "mimetype": "text/x-python",
   "name": "julia",
   "nbconvert_exporter": "python",
   "pygments_lexer": "ipython3",
   "version": "3.10.2"
  },
  "orig_nbformat": 4,
  "vscode": {
   "interpreter": {
    "hash": "4ae8321023a43e8750d8ff3593eda6e0e7606e9c5757d8cb19436b51b76db73b"
   }
  }
 },
 "nbformat": 4,
 "nbformat_minor": 2
}
