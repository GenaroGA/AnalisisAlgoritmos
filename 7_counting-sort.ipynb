{
 "cells": [
  {
   "cell_type": "markdown",
   "metadata": {},
   "source": [
    "# 7 Counting Sort\n",
    "Counting sort es un algoritmo de ordenamiento que supone que el arreglo de números a ordenar contiene números enteros ubicados en cierto rango. El algoritmo cuenta cuantos números hay de diferente valor."
   ]
  },
  {
   "cell_type": "markdown",
   "metadata": {},
   "source": [
    "### 7.1 Algoritmo"
   ]
  },
  {
   "cell_type": "code",
   "execution_count": 15,
   "metadata": {},
   "outputs": [],
   "source": [
    "def countingSort(A):\n",
    "    max_e = int(max(A))\n",
    "    min_e = int(min(A))\n",
    "    rango = max_e - min_e + 1\n",
    "    cuenta = [0 for _ in range(rango)]\n",
    "    resultado = [0 for _ in range(len(A))]\n",
    "    for i in range(len(A)):\n",
    "        cuenta[A[i] - min_e] += 1\n",
    "    for i in range(1,rango):\n",
    "        cuenta[i] += cuenta[i-1]\n",
    "    for i in range(len(A)-1,-1,-1):\n",
    "        resultado[cuenta[A[i] - min_e] - 1] = A[i]\n",
    "        cuenta[A[i] - min_e] -= 1\n",
    "    for i in range(len(A)):\n",
    "        A[i] = resultado[i]\n",
    "    return A"
   ]
  },
  {
   "cell_type": "markdown",
   "metadata": {},
   "source": [
    "### 7.2 Verificación"
   ]
  },
  {
   "cell_type": "code",
   "execution_count": 16,
   "metadata": {},
   "outputs": [
    {
     "data": {
      "text/plain": [
       "[-10, -5, -3, -1, 0, 5, 8, 10]"
      ]
     },
     "execution_count": 16,
     "metadata": {},
     "output_type": "execute_result"
    }
   ],
   "source": [
    "A = [-5, -10, 0, -3, 8, 5, -1, 10]\n",
    "countingSort(A)"
   ]
  },
  {
   "cell_type": "markdown",
   "metadata": {},
   "source": [
    "**Loop Invariante**\n",
    "\n",
    "Counting sort crea dos arreglos, uno de ceros para contar los elementos ($B$) y otro para acomodar los elementos ordenadamente ($C$), el arreglo $B$ es del tamaño del rango de valores que hay en el arreglo original y suma 1 en la posición donde se encuentra el elemento encontrado en el arreglo original, creando así un arreglo donde, $A[i]\\leq A[i+j]| i,j \\in N$. Así la forma de ordenar el arreglo original es, una vez contados los números, se guardan en el arreglo $C$ los números dependiendo de la posición del arreglo $B$, de forma en que los números insertados en el arreglo $B$ se ordenarán sin sobre escribir los elementos.\n",
    " \n",
    "**Inicio**\n",
    "\n",
    "Al inicio no se ha leído ningún número por lo que el arreglo $B$ está vació y por consiguiente el arreglo $C$ esta vació y ordenado.\n",
    "\n",
    "**Termino**\n",
    "\n",
    "El algoritmo termina cuando el último elemento del arreglo sin ordenar se coloca en el arreglo $C$ tomando la posición indicada en el arreglo $B$, cumpliendo el loop invariante."
   ]
  },
  {
   "cell_type": "markdown",
   "metadata": {},
   "source": [
    "### 7.3 Análisis del tiempo de ejecución\n",
    "Se observa que en las lineas 1 y 2 el tiempo de ejecución es a los más $\\theta(n)$, en la linea 3,4 y 5 es $\\theta(1)$, a partir de ahí el tiempo de ejecución de los ciclos $for$ serán $\\theta(k)$ en el caso del ciclo de la linea 7 y $\\theta(n)$ para el resto de los ciclos así los el tiempo de ejecución es $O(n+k)$"
   ]
  },
  {
   "cell_type": "markdown",
   "metadata": {},
   "source": [
    "### 7.4 Experimentación en el tiémpo de ejecución\n",
    "Se realizarán 20 ejecuciones del algoritmo con entradas aleatorias de tamaño $1,000 \\times i, \\forall i \\in N | 1 \\leq i \\leq 20$ y se registrara el tiempo de ejecución para generar una grafica similar al tiempo de ejecución obtenido de $T(n)=\\theta(n^2)$"
   ]
  },
  {
   "cell_type": "markdown",
   "metadata": {},
   "source": [
    "#### 7.4.1 Creando arreglos aleatorios\n"
   ]
  },
  {
   "cell_type": "code",
   "execution_count": 17,
   "metadata": {},
   "outputs": [],
   "source": [
    "import random\n",
    "def random_arr(n):\n",
    "    A = []\n",
    "    for i in range(n):\n",
    "        A.append(random.randint(0,1000000))\n",
    "    return A"
   ]
  },
  {
   "cell_type": "markdown",
   "metadata": {},
   "source": [
    "#### 7.4.2 Midiendo tiempos de ejecución\n"
   ]
  },
  {
   "cell_type": "code",
   "execution_count": 22,
   "metadata": {},
   "outputs": [
    {
     "name": "stdout",
     "output_type": "stream",
     "text": [
      "1000 elementos 0.23725485801696777s\n",
      "2000 elementos 0.22368240356445312s\n",
      "3000 elementos 0.23959040641784668s\n",
      "4000 elementos 0.23032069206237793s\n",
      "5000 elementos 0.22715187072753906s\n",
      "6000 elementos 0.2403702735900879s\n",
      "7000 elementos 0.23868823051452637s\n",
      "8000 elementos 0.23499202728271484s\n",
      "9000 elementos 0.24102139472961426s\n",
      "10000 elementos 0.2460651397705078s\n",
      "11000 elementos 0.2492067813873291s\n",
      "12000 elementos 0.24895668029785156s\n",
      "13000 elementos 0.2894415855407715s\n",
      "14000 elementos 0.2624974250793457s\n",
      "15000 elementos 0.2848343849182129s\n",
      "16000 elementos 0.28486061096191406s\n",
      "17000 elementos 0.26088595390319824s\n",
      "18000 elementos 0.28242921829223633s\n",
      "19000 elementos 0.30522847175598145s\n",
      "20000 elementos 0.2704732418060303s\n"
     ]
    }
   ],
   "source": [
    "import time\n",
    "x = []\n",
    "y = []\n",
    "for i in range(1,21):\n",
    "    n=1000*i\n",
    "    x.append(n)\n",
    "    A = random_arr(n)\n",
    "    inicio = time.time()\n",
    "    countingSort(A)\n",
    "    fin = time.time()\n",
    "    y.append(fin-inicio)\n",
    "    print(str(n) + \" elementos \" + str(fin-inicio) + \"s\")"
   ]
  },
  {
   "cell_type": "markdown",
   "metadata": {},
   "source": [
    "A continuación se graficarán los puntos $(n,tiempo)$ donde $n$ es el tamaño del arreglo."
   ]
  },
  {
   "cell_type": "code",
   "execution_count": null,
   "metadata": {},
   "outputs": [],
   "source": [
    "import matplotlib.pyplot as plt\n",
    "plt.plot(x,y)\n",
    "plt.xlabel('Tamaño de entrada x 1000')\n",
    "plt.ylabel('segundos')"
   ]
  }
 ],
 "metadata": {
  "kernelspec": {
   "display_name": "Python 3.10.6 64-bit",
   "language": "python",
   "name": "python3"
  },
  "language_info": {
   "codemirror_mode": {
    "name": "ipython",
    "version": 3
   },
   "file_extension": ".py",
   "mimetype": "text/x-python",
   "name": "python",
   "nbconvert_exporter": "python",
   "pygments_lexer": "ipython3",
   "version": "3.10.6"
  },
  "orig_nbformat": 4,
  "vscode": {
   "interpreter": {
    "hash": "916dbcbb3f70747c44a77c7bcd40155683ae19c65e1c03b4aa3499c5328201f1"
   }
  }
 },
 "nbformat": 4,
 "nbformat_minor": 2
}
