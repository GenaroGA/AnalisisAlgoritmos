{
 "cells": [
  {
   "cell_type": "markdown",
   "metadata": {},
   "source": [
    "<h3>Matrix chain  multiplication</h3>\n",
    "Este algoritmo tiene la finalidad de encontrar la manera óptima de realizar una serie de multiplicaciones de matrices, esto quiere decir que regresa el orden con el cual se deben realizar las multiplicaciones para realizar la menor cantidad de operaciones posibles, lo cual se traduce en menos tiempo de ejecución.\n",
    "<br>\n",
    "La idea detrás de este algoritmo es usar Programación Dinámica, esto se debe a que la solución correcta (y por lo tanto óptima) depende de el problema y los datos que nos estén dando, es decir, al solucionarse con un algoritmo greedy no se puede garantizar la optimalidad.\n"
   ]
  },
  {
   "cell_type": "markdown",
   "metadata": {},
   "source": [
    "<h3>Función que construye las matrices auxiliares m y s</h3>\n",
    "El funcionamiento de este primer algoritmo se basa en el arreglo p, el cual se compone por todos los tamaños de matriz que tenemos en nuestro arreglo A de matrices.<br>\n",
    "Ejemplo:<br>\n",
    "<img src=\"https://github.com/GenaroGA/AnalisisAlgoritmos/blob/main/img/arreglo_p.JPG?raw=true\" alt=\"Arreglo p\" /><br>\n",
    "En este caso el arreglo p = <30, 35, 15, 5, 10, 20, 25><br>\n",
    "\n",
    "El pseudo código que utilizaremos como referencia es:\n",
    "<br>\n",
    "<img src=\"https://github.com/GenaroGA/AnalisisAlgoritmos/blob/main/img/pseudo_ms.JPG?raw=true\" alt=\"Pseudocodigo Matrix Chain Order\" />"
   ]
  },
  {
   "cell_type": "code",
   "execution_count": 18,
   "metadata": {},
   "outputs": [],
   "source": [
    "#import numpy as np\n",
    "def chainMultiplication (p):\n",
    "    #Longitud del arreglo p - 1\n",
    "    n = len(p)-1\n",
    "    #Crear la matriz m, la de costos\n",
    "    m = []\n",
    "    for i in range(n):\n",
    "        m.append([])\n",
    "        for j in range(n): \n",
    "            m[i].append([])\n",
    "    #Esta es la matriz s, la de los paréntesis\n",
    "    s = []\n",
    "    for i in range(n):\n",
    "        s.append([])\n",
    "        #El tamaño de esta matriz se hizo con el fin de respetar los índices del Cormen, se explica en NOTA 1\n",
    "        for j in range(n+1): \n",
    "            s[i].append([])\n",
    "    #LLenar de 0 en la diagonal la matriz m (la parte de abajo de la pirámide)\n",
    "    for i in range(1, n+1):\n",
    "        m[i-1][i-1] = 0\n",
    "        s[i-1][i-1] = 0\n",
    "    for l in range(2, n+1):\n",
    "        for i in range(1, n-l+2):\n",
    "            j = i+l-1\n",
    "            #Primer costo, para que depues empiecen a quedar los más chicos (centinela)\n",
    "            m[i-1][j-1] = 1000000\n",
    "            t = i\n",
    "            for k in range(t, j):\n",
    "                #Calcular el costo\n",
    "                q = m[i-1][k-1] + m[k][j-1]+ p[i-1]*p[k]*p[j]\n",
    "                #Si el costo más pequeño\n",
    "                if q < m[i-1][j-1]:\n",
    "                    #Se almacena el costo en la matriz m\n",
    "                    m[i-1][j-1] = q\n",
    "                    #y también se almacena el lugar donde va el parentesis en la matriz s\n",
    "                    s[i-1][j] = k\n",
    "    #print(\"Matriz m:\")\n",
    "    #print(m)\n",
    "    #print(\"Matriz s:\")\n",
    "    #print(s)\n",
    "    return s"
   ]
  },
  {
   "cell_type": "markdown",
   "metadata": {},
   "source": [
    "<h5>NOTA 1:</h5>\n",
    "En la matriz s se están agregando columnas adicionales para mantener los índices del pseudo código ya que la matriz s se \"empieza\" en 2 y se ve de la siguiente manera.\n",
    "<br>\n",
    "<img src=\"https://github.com/GenaroGA/AnalisisAlgoritmos/blob/main/img/matriz_s.JPG?raw=true\" alt=\"Matriz s\" />"
   ]
  },
  {
   "cell_type": "markdown",
   "metadata": {},
   "source": [
    "<h3>Función que nos devuelve el orden óptimo de los paréntesis</h3>\n",
    "El Algoritmo que se usó como referencia es el siguiente:\n",
    "<br>\n",
    "<img src=\"https://github.com/GenaroGA/AnalisisAlgoritmos/blob/main/img/pseudo_par.JPG?raw=true\" alt=\"Pseaudocódigo Paréntesis\" />"
   ]
  },
  {
   "cell_type": "code",
   "execution_count": 14,
   "metadata": {},
   "outputs": [],
   "source": [
    "def parentesisOptimos(s, i, j):\n",
    "    if i == j:\n",
    "    #Este es el caso base de la recursión\n",
    "        print(\"A_\"+ str(i), end = \" \")\n",
    "    else:\n",
    "        print(\"(\", end = \" \")\n",
    "        #Aquí la recursión se hace para lo anterior al parentesis\n",
    "        parentesisOptimos(s, i, s[i-1][j])\n",
    "        #Aquí la recursión se hace para lo posterior al parentesis\n",
    "        parentesisOptimos(s, s[i-1][j]+1, j)\n",
    "        print(\")\", end = \" \")\n"
   ]
  },
  {
   "cell_type": "markdown",
   "metadata": {},
   "source": [
    "Prueba de funcionamiento de ambas funciones con el ejemplo del Cormen"
   ]
  },
  {
   "cell_type": "code",
   "execution_count": 42,
   "metadata": {
    "scrolled": true
   },
   "outputs": [
    {
     "name": "stdout",
     "output_type": "stream",
     "text": [
      "Orden óptimo de los paréntesis: \n",
      "( ( A_1 ( A_2 A_3 ) ) ( ( A_4 A_5 ) A_6 ) ) "
     ]
    }
   ],
   "source": [
    "#declaramos el arreglo p\n",
    "p=[30,35,15,5,10,20,25]\n",
    "#obtenemos las matrices m y s\n",
    "x = chainMultiplication(p)\n",
    "# con la segunda función imprimimos los parétesis en el orden correcto\n",
    "print(\"Orden óptimo de los paréntesis: \")\n",
    "y = parentesisOptimos(x, 1, len(p)-1)\n"
   ]
  },
  {
   "cell_type": "markdown",
   "metadata": {},
   "source": [
    "<h3>Verificación de los algoritmos</h3>\n",
    "<h4>Chain Multiplication:</h4>\n",
    "<br>\n",
    "<b>Loop invariante:</b> Los ciclos for que realemnte afectan el funcionamiento empiezan en la línea 5 del pseudocódigo, antes de eso solo se crean 2 matrices, el primer ciclo for (línea 5) empieza en 2 y siempre termina en n iteraciones, dependiendo de la longitud del arreglo p y posteroirmente los siguientes ciclos for dependen de el primero.<br>\n",
    "<b>Incicialicazión:</b> El mínimo caso posible serían 2 matrices (se necesitan mínimo 2 para realizar una multiplicación) para ese caso se entra una sola vez a los cilcos y funciona:<br>\n",
    "Primer ciclo for:<br>\n",
    "<b>l = 2</b><br>\n",
    "<b>n = 2</b><br>\n",
    "\n",
    "Segundo ciclo for:<br>\n",
    "<b>i = 1</b><br>\n",
    "<b>n - l + 1 = 1</b><br>\n",
    "\n",
    "Tercer ciclo for:<br>\n",
    "<b>k = 1</b><br>\n",
    "j = 1 + 2 - 1 = 2<br>\n",
    "<b>j - 1 = 1</b><br>\n",
    "\n",
    "<b>Matenimiento:</b> Por cada iteración del ciclo for de la línea 5 se están llenando los datos de una línea de las matrices auxiliares y los otros dos for se van ajustando a las dimensiones de la línea de matriz donde nos encontramos<br>\n",
    "\n",
    "<b>Finalización:</b> El algortimo termina cuando l == n y regresa la matriz s (de paréntesis)<br>\n",
    "\n",
    "<h4>paretesisOptimos (recursivo):</h4>\n",
    "<br>\n",
    "En la primera línea hay un if, el cual es el caso base cuando sólo hay 1 elemento.<br>\n",
    "En el else nos encontramos la recursión (2 casos):<br>\n",
    "parentesisOptimos(s, i, s[i-1][j])<br>\n",
    "En el primer caso se volverá a ejecutar el algoritmo pero para los elementos en el rango (1, s[i-1][j]) por lo que mínimo será 1 elemento menos, es del inicio a el primer paréntesis que encuentre, antes había menos paréntesis por eso reduce de manera obligatoria.<br>\n",
    "parentesisOptimos(s, s[i-1][j]+1, j)<br>\n",
    "En el segundo caso se volverá a ejecutar el algoritmo pero para los elementos en el rango (s[i-1][j], j) por lo que mínimo será 1 elemento menos, es desde el primer paréntesis que encuentre hasta final del paréntesis, antes había menos paréntesis por eso reduce de manera obligatoria.<br>\n",
    "\n",
    "Como ambos reducen su tamaño en cada ejecución siempre se va a llegar al caso base i==j."
   ]
  },
  {
   "cell_type": "markdown",
   "metadata": {},
   "source": [
    "<h3>Tiempo de ejecución</h3>"
   ]
  },
  {
   "cell_type": "markdown",
   "metadata": {},
   "source": [
    "En la función Chain Multiplication por los 3 for anidados tendríamos un timpo de ejecución cúbico (n^3), la ventaja de estar resolviendo el problema con programación diámica es que esta función debe ejecutarse una sola vez para calcular la matrices auxiliares.\n",
    "\n",
    "Y una vez que tenemos la matrices auxiliares construídas, podemos ejecutar la segunda función paretesisOptimos, la cual, después de resolver la recursión nos queda: <p>&Omega; (2^n)</p>"
   ]
  },
  {
   "cell_type": "markdown",
   "metadata": {},
   "source": [
    "<h3>Experimentación con el tiempo de ejecución</h3>\n",
    "Vamor a realizar 15 ejecuciones del algoritmo recursivo (parentesisOptimos) con diferentes tamaños de arreglo p y graficaremos sus tiempos de ejecución."
   ]
  },
  {
   "cell_type": "code",
   "execution_count": 40,
   "metadata": {},
   "outputs": [
    {
     "name": "stdout",
     "output_type": "stream",
     "text": [
      "Orden óptimo de los paréntesis: \n",
      "( ( A_1 ( A_2 ( A_3 ( A_4 ( A_5 ( A_6 ( A_7 ( A_8 ( A_9 ( A_10 ( A_11 ( A_12 ( A_13 ( A_14 ( A_15 ( A_16 ( A_17 ( A_18 ( A_19 ( A_20 ( A_21 ( ( A_22 ( A_23 ( A_24 ( A_25 ( A_26 ( A_27 ( A_28 ( A_29 ( A_30 ( A_31 ( A_32 ( A_33 ( A_34 ( A_35 A_36 ) ) ) ) ) ) ) ) ) ) ) ) ) ) ( ( ( ( ( ( ( ( ( ( ( ( ( ( ( ( ( ( ( A_37 A_38 ) A_39 ) A_40 ) A_41 ) A_42 ) A_43 ) A_44 ) A_45 ) A_46 ) A_47 ) A_48 ) A_49 ) A_50 ) A_51 ) A_52 ) A_53 ) A_54 ) ( A_55 ( A_56 ( A_57 ( A_58 ( A_59 ( A_60 ( A_61 ( A_62 ( A_63 ( A_64 ( A_65 ( A_66 ( A_67 ( A_68 ( A_69 ( A_70 ( A_71 ( A_72 ( A_73 ( A_74 ( A_75 ( A_76 A_77 ) ) ) ) ) ) ) ) ) ) ) ) ) ) ) ) ) ) ) ) ) ) ) ( ( ( A_78 A_79 ) A_80 ) ( ( ( ( ( ( ( ( ( ( ( ( ( ( A_81 A_82 ) A_83 ) A_84 ) A_85 ) A_86 ) A_87 ) A_88 ) A_89 ) A_90 ) A_91 ) A_92 ) A_93 ) ( A_94 ( A_95 ( A_96 ( A_97 ( A_98 ( A_99 ( A_100 ( A_101 ( A_102 ( A_103 ( A_104 ( A_105 ( A_106 ( A_107 ( A_108 ( A_109 ( A_110 ( A_111 ( A_112 ( A_113 ( A_114 ( A_115 ( A_116 ( A_117 ( A_118 ( A_119 ( A_120 ( A_121 ( A_122 ( A_123 ( A_124 ( A_125 A_126 ) ) ) ) ) ) ) ) ) ) ) ) ) ) ) ) ) ) ) ) ) ) ) ) ) ) ) ) ) ) ) ) ) ( ( ( ( ( ( ( ( ( ( ( ( ( ( ( ( ( ( ( ( ( ( ( ( ( ( ( ( ( ( ( ( ( ( ( ( ( ( ( ( ( ( ( ( ( ( ( ( ( ( ( ( ( ( ( ( ( ( ( ( ( ( ( ( ( ( ( ( ( ( ( A_127 A_128 ) A_129 ) A_130 ) A_131 ) A_132 ) A_133 ) A_134 ) A_135 ) A_136 ) A_137 ) A_138 ) A_139 ) A_140 ) A_141 ) A_142 ) A_143 ) A_144 ) A_145 ) A_146 ) A_147 ) A_148 ) A_149 ) A_150 ) A_151 ) A_152 ) A_153 ) A_154 ) A_155 ) A_156 ) A_157 ) A_158 ) A_159 ) A_160 ) A_161 ) A_162 ) A_163 ) A_164 ) A_165 ) A_166 ) A_167 ) A_168 ) A_169 ) A_170 ) A_171 ) A_172 ) A_173 ) A_174 ) A_175 ) A_176 ) A_177 ) A_178 ) A_179 ) A_180 ) A_181 ) A_182 ) A_183 ) A_184 ) A_185 ) A_186 ) A_187 ) A_188 ) A_189 ) A_190 ) A_191 ) A_192 ) A_193 ) A_194 ) A_195 ) A_196 ) ( A_197 ( A_198 ( A_199 ( A_200 ( A_201 ( A_202 ( A_203 ( A_204 ( A_205 ( A_206 ( A_207 ( A_208 ( A_209 ( A_210 ( A_211 ( A_212 ( A_213 ( A_214 ( A_215 ( A_216 ( A_217 ( A_218 A_219 ) ) ) ) ) ) ) ) ) ) ) ) ) ) ) ) ) ) ) ) ) ) ) ( ( ( ( ( A_220 A_221 ) A_222 ) A_223 ) A_224 ) ( A_225 ( A_226 ( A_227 ( A_228 ( A_229 ( A_230 ( A_231 ( A_232 ( A_233 ( A_234 ( A_235 ( A_236 ( A_237 ( A_238 ( A_239 ( A_240 ( A_241 ( A_242 ( A_243 ( A_244 ( A_245 ( A_246 ( A_247 ( A_248 ( A_249 ( A_250 ( A_251 ( A_252 ( A_253 ( A_254 ( A_255 ( A_256 ( A_257 ( A_258 ( A_259 ( A_260 ( A_261 ( A_262 ( A_263 ( A_264 ( A_265 ( A_266 ( A_267 ( A_268 ( A_269 ( A_270 ( A_271 ( A_272 ( A_273 ( A_274 ( A_275 ( A_276 ( A_277 ( A_278 ( A_279 ( A_280 ( A_281 ( A_282 ( A_283 ( A_284 ( A_285 ( A_286 ( A_287 ( A_288 ( A_289 ( A_290 ( A_291 ( A_292 ( A_293 ( A_294 ( A_295 ( A_296 ( A_297 ( A_298 ( A_299 ( A_300 ( A_301 ( A_302 ( A_303 ( A_304 ( A_305 ( A_306 ( A_307 ( A_308 ( A_309 ( A_310 ( A_311 ( A_312 ( A_313 ( A_314 ( A_315 ( A_316 ( A_317 ( A_318 ( A_319 ( A_320 ( A_321 ( A_322 ( A_323 ( A_324 ( A_325 ( A_326 ( A_327 ( A_328 ( A_329 ( A_330 ( A_331 ( A_332 ( A_333 ( A_334 ( A_335 ( A_336 ( A_337 ( A_338 ( A_339 ( A_340 ( A_341 ( A_342 ( A_343 ( A_344 ( A_345 ( A_346 ( A_347 ( A_348 ( A_349 ( A_350 ( A_351 ( A_352 ( A_353 ( A_354 ( A_355 ( A_356 ( A_357 ( A_358 ( A_359 ( A_360 ( A_361 ( A_362 ( A_363 ( A_364 ( A_365 ( A_366 ( A_367 ( A_368 ( A_369 ( A_370 ( A_371 ( A_372 ( A_373 ( A_374 ( A_375 ( A_376 ( A_377 ( A_378 ( A_379 ( A_380 ( A_381 ( A_382 ( A_383 ( A_384 ( A_385 ( A_386 ( A_387 ( A_388 ( A_389 ( A_390 ( A_391 ( A_392 ( A_393 ( A_394 ( A_395 ( A_396 ( A_397 ( A_398 ( A_399 ( A_400 ( A_401 ( A_402 ( A_403 ( A_404 ( A_405 ( A_406 ( A_407 A_408 ) ) ) ) ) ) ) ) ) ) ) ) ) ) ) ) ) ) ) ) ) ) ) ) ) ) ) ) ) ) ) ) ) ) ) ) ) ) ) ) ) ) ) ) ) ) ) ) ) ) ) ) ) ) ) ) ) ) ) ) ) ) ) ) ) ) ) ) ) ) ) ) ) ) ) ) ) ) ) ) ) ) ) ) ) ) ) ) ) ) ) ) ) ) ) ) ) ) ) ) ) ) ) ) ) ) ) ) ) ) ) ) ) ) ) ) ) ) ) ) ) ) ) ) ) ) ) ) ) ) ) ) ) ) ) ) ) ) ) ) ) ) ) ) ) ) ) ) ) ) ) ) ) ) ) ) ) ) ) ) ) ) ) ) ) ) ) ) ) ) ) ) ) ) ) ) ) ) ) ) ) ) ) ) ) ) ) ) ) ) ) ) ) ) ) ) ) ) ) ) ) ) ) ) ) ) ) ) ) ) ( ( ( ( ( ( ( ( ( ( ( ( ( ( ( ( ( ( ( ( ( ( ( ( ( ( ( ( ( ( ( ( ( ( ( ( ( ( ( ( A_409 A_410 ) A_411 ) A_412 ) A_413 ) A_414 ) A_415 ) A_416 ) A_417 ) A_418 ) A_419 ) A_420 ) A_421 ) A_422 ) A_423 ) A_424 ) A_425 ) A_426 ) A_427 ) A_428 ) A_429 ) A_430 ) A_431 ) A_432 ) A_433 ) A_434 ) A_435 ) A_436 ) A_437 ) A_438 ) A_439 ) A_440 ) A_441 ) A_442 ) A_443 ) A_444 ) A_445 ) A_446 ) A_447 ) A_448 ) A_449 ) ) \n",
      "450 elementos: 17.407085599999846\n"
     ]
    }
   ],
   "source": [
    "from timeit import default_timer\n",
    "import random\n",
    "\n",
    "p = []\n",
    "#en este ciclo for se define el tamaño del arreglo p\n",
    "for i in range(0, 450):\n",
    "  n = random.randint(1,50)\n",
    "  p.append(n)\n",
    "#print(p)\n",
    "inicio = default_timer()\n",
    "x = chainMultiplication(p)\n",
    "print(\"Orden óptimo de los paréntesis: \")\n",
    "y = parentesisOptimos(x, 1, len(p)-1)\n",
    "fin = default_timer()\n",
    "print(\"\")\n",
    "print(str(i+1) + ' elementos: ' + str(fin-inicio))"
   ]
  },
  {
   "cell_type": "code",
   "execution_count": 50,
   "metadata": {},
   "outputs": [
    {
     "data": {
      "text/plain": [
       "Text(0, 0.5, 'Segundos')"
      ]
     },
     "execution_count": 50,
     "metadata": {},
     "output_type": "execute_result"
    },
    {
     "data": {
      "image/png": "[encoded data removed]",
      "text/plain": [
       "<Figure size 640x480 with 1 Axes>"
      ]
     },
     "metadata": {},
     "output_type": "display_data"
    }
   ],
   "source": [
    "import matplotlib.pyplot as plt\n",
    "\n",
    "elementos = [50, 100, 150, 200, 250, 300, 350, 400, 450, 500]\n",
    "tiempos = [0.0470049000000472, 0.196574199999759, 0.6000440000002527, 1.6370457999996688, 2.8739112999996905, 4.915760800000044, 7.928668500000185,11.961814400000094, 17.407085599999846, 24.092559400000027]\n",
    "\n",
    "plt.plot(elementos, tiempos)\n",
    "plt.xlabel('Tamaño del arreglo')\n",
    "plt.ylabel('Segundos')"
   ]
  },
  {
   "cell_type": "code",
   "execution_count": null,
   "metadata": {},
   "outputs": [],
   "source": []
  }
 ],
 "metadata": {
  "kernelspec": {
   "display_name": "Python 3.10.8 64-bit (microsoft store)",
   "language": "python",
   "name": "python3"
  },
  "language_info": {
   "codemirror_mode": {
    "name": "ipython",
    "version": 3
   },
   "file_extension": ".py",
   "mimetype": "text/x-python",
   "name": "python",
   "nbconvert_exporter": "python",
   "pygments_lexer": "ipython3",
   "version": "3.10.8"
  },
  "vscode": {
   "interpreter": {
    "hash": "bceb2ce64f67447df4f7d5b4345e4bd0834bcd96655eb64332a64af621c6428d"
   }
  }
 },
 "nbformat": 4,
 "nbformat_minor": 4
}
