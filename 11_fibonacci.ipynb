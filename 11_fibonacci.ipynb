{
 "cells": [
  {
   "cell_type": "markdown",
   "metadata": {},
   "source": [
    "# 11 Fibonacci\n",
    "La sucesión de Fibonacci es la sucesión infinita de números naturales que se construye sumando los dos números anteriores de la sucesión siendo 0 y 1 los dos primeros números de la sucesión. Aquí se presentarán y analizarán los algoritmos iterativo y recursivo que calculan el $n-simo$ término de la sucesión de Fibonacci."
   ]
  },
  {
   "cell_type": "markdown",
   "metadata": {},
   "source": [
    "### 11.1.1 Algoritmo Iterativo"
   ]
  },
  {
   "cell_type": "code",
   "execution_count": 8,
   "metadata": {},
   "outputs": [],
   "source": [
    "def fibonacci_i(n):\n",
    "    if n == 0:\n",
    "        return 0\n",
    "    else:\n",
    "        x = 0\n",
    "        y = 1\n",
    "    for i in range(n-1):\n",
    "        z = x + y\n",
    "        x = y\n",
    "        y = z\n",
    "    return y"
   ]
  },
  {
   "cell_type": "markdown",
   "metadata": {},
   "source": [
    "### 11.1.2 Algoritmo Recursivo"
   ]
  },
  {
   "cell_type": "code",
   "execution_count": 10,
   "metadata": {},
   "outputs": [],
   "source": [
    "def fibonacci_r(n):\n",
    "    if n <= 1:\n",
    "        return n\n",
    "    return fibonacci_r(n-1) + fibonacci_r(n-2)"
   ]
  },
  {
   "cell_type": "markdown",
   "metadata": {},
   "source": [
    "### 11.2.1 Verificación (Iterativo)\n",
    "**Loop invariante:**\n",
    "\n",
    "En la $i-esima$ iteración del ciclo $for$ el valor es $z=(i-2)+(i-1)$ cumpliendo con la definición de la sucesión de Fibonacci\n",
    "\n",
    "**Inicio:**\n",
    "\n",
    "En el caso de $n=0$ el algoritmo cumple la condición del la sentencia $if$ $else$ y el algoritmo devuelve $0$ en cualquier otro caso, es decir, $n\\neq 0$ el ciclo $for$ inicia con $x=0$, $y=1$ y $z=1$ obteniendo el primer termino de la sucesión de Fibonacci de forma correcta.\n",
    "\n",
    "**Mantenimiento**\n",
    "\n",
    "En la $i-esima$ iteración del ciclo $for$ $z=x+y=(i-2)+(i-1)$ luego de esto el contador $i$ aumenta en 1 y se restablece el ciclo.\n",
    "\n",
    "**Término**\n",
    "\n",
    "El algoritmo finaliza cuando $i=n-1$ devolviendo el valor de $z=(n-2)+(n-1)$ por lo tanto el algoritmo es correcto."
   ]
  },
  {
   "cell_type": "code",
   "execution_count": 12,
   "metadata": {},
   "outputs": [
    {
     "data": {
      "text/plain": [
       "3"
      ]
     },
     "execution_count": 12,
     "metadata": {},
     "output_type": "execute_result"
    }
   ],
   "source": [
    "x = fibonacci_i(4)\n",
    "x"
   ]
  },
  {
   "cell_type": "markdown",
   "metadata": {},
   "source": [
    "### 11.2.2 Verificación (Recursivo)\n",
    "Para esta versión del algoritmo, se presupone que solo se recibirán números enteros mayores o iguales a $0$, dicho esto el caso base devuelve 0 cuando $n=0$ y 1 cuando $n=1$, dando los primeros valores de la sucesión. Para $n>1$ el algoritmo devuelve el valor $n=(n-2)+(n-1)$."
   ]
  },
  {
   "cell_type": "code",
   "execution_count": 13,
   "metadata": {},
   "outputs": [
    {
     "data": {
      "text/plain": [
       "3"
      ]
     },
     "execution_count": 13,
     "metadata": {},
     "output_type": "execute_result"
    }
   ],
   "source": [
    "x=fibonacci_r(4)\n",
    "x"
   ]
  },
  {
   "cell_type": "markdown",
   "metadata": {},
   "source": [
    "### 11.3.1 Análisis del tiempo de ejecución (Iterativo)"
   ]
  }
 ],
 "metadata": {
  "kernelspec": {
   "display_name": "Python 3.9.13 ('base')",
   "language": "python",
   "name": "python3"
  },
  "language_info": {
   "codemirror_mode": {
    "name": "ipython",
    "version": 3
   },
   "file_extension": ".py",
   "mimetype": "text/x-python",
   "name": "python",
   "nbconvert_exporter": "python",
   "pygments_lexer": "ipython3",
   "version": "3.9.13"
  },
  "orig_nbformat": 4,
  "vscode": {
   "interpreter": {
    "hash": "8d1e3d84b4c43325572ec7e11db39c0ae4266da507fa4f7a6e4ceaf8215a2830"
   }
  }
 },
 "nbformat": 4,
 "nbformat_minor": 2
}
