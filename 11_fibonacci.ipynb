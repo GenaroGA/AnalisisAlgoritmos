{
 "cells": [
  {
   "cell_type": "markdown",
   "metadata": {},
   "source": [
    "# 11 Fibonacci\n",
    "La sucesión de Fibonacci es la sucesión infinita de números naturales que se construye sumando los dos números anteriores de la sucesión siendo 0 y 1 los dos primeros números de la sucesión. Aquí se presentarán y analizarán los algoritmos iterativo y recursivo que calculan el $n-simo$ término de la sucesión de Fibonacci."
   ]
  },
  {
   "cell_type": "markdown",
   "metadata": {},
   "source": [
    "### 11.1.1 Algoritmo Iterativo"
   ]
  },
  {
   "cell_type": "code",
   "execution_count": 2,
   "metadata": {},
   "outputs": [],
   "source": [
    "def fibonacci_i(n):\n",
    "    if n == 0:\n",
    "        return 0\n",
    "    else:\n",
    "        x = 0\n",
    "        y = 1\n",
    "    for i in range(n-1):\n",
    "        z = x + y\n",
    "        x = y\n",
    "        y = z\n",
    "    return y"
   ]
  },
  {
   "cell_type": "markdown",
   "metadata": {},
   "source": [
    "### 11.1.2 Algoritmo Recursivo"
   ]
  },
  {
   "cell_type": "code",
   "execution_count": 3,
   "metadata": {},
   "outputs": [],
   "source": [
    "def fibonacci_r(n):\n",
    "    if n <= 1:\n",
    "        return n\n",
    "    return fibonacci_r(n-1) + fibonacci_r(n-2)"
   ]
  },
  {
   "cell_type": "markdown",
   "metadata": {},
   "source": [
    "### 11.2.1 Verificación (Iterativo)\n",
    "**Loop invariante:**\n",
    "\n",
    "En la $i-esima$ iteración del ciclo $for$ el valor es $z=(i-2)+(i-1)$ cumpliendo con la definición de la sucesión de Fibonacci\n",
    "\n",
    "**Inicio:**\n",
    "\n",
    "En el caso de $n=0$ el algoritmo cumple la condición del la sentencia $if$ $else$ y el algoritmo devuelve $0$ en cualquier otro caso, es decir, $n\\neq 0$ el ciclo $for$ inicia con $x=0$, $y=1$ y $z=1$ obteniendo el primer termino de la sucesión de Fibonacci de forma correcta.\n",
    "\n",
    "**Mantenimiento**\n",
    "\n",
    "En la $i-esima$ iteración del ciclo $for$ $z=x+y=(i-2)+(i-1)$ luego de esto el contador $i$ aumenta en 1 y se restablece el ciclo.\n",
    "\n",
    "**Término**\n",
    "\n",
    "El algoritmo finaliza cuando $i=n-1$ devolviendo el valor de $z=(n-2)+(n-1)$ por lo tanto el algoritmo es correcto."
   ]
  },
  {
   "cell_type": "code",
   "execution_count": 4,
   "metadata": {},
   "outputs": [
    {
     "data": {
      "text/plain": [
       "3"
      ]
     },
     "execution_count": 4,
     "metadata": {},
     "output_type": "execute_result"
    }
   ],
   "source": [
    "x = fibonacci_i(4)\n",
    "x"
   ]
  },
  {
   "cell_type": "markdown",
   "metadata": {},
   "source": [
    "### 11.2.2 Verificación (Recursivo)\n",
    "Para esta versión del algoritmo, se presupone que solo se recibirán números enteros mayores o iguales a $0$, dicho esto el caso base devuelve 0 cuando $n=0$ y 1 cuando $n=1$, dando los primeros valores de la sucesión. Para $n>1$ el algoritmo devuelve el valor $n=(n-2)+(n-1)$."
   ]
  },
  {
   "cell_type": "code",
   "execution_count": 5,
   "metadata": {},
   "outputs": [
    {
     "data": {
      "text/plain": [
       "3"
      ]
     },
     "execution_count": 5,
     "metadata": {},
     "output_type": "execute_result"
    }
   ],
   "source": [
    "x=fibonacci_r(4)\n",
    "x"
   ]
  },
  {
   "cell_type": "markdown",
   "metadata": {},
   "source": [
    "### 11.3.1 Análisis del tiempo de ejecución (Iterativo)\n",
    "Observando la ejecución del código linea a linea, se nota que hasta la linea 5 el tiempo de ejecución es constante y una vez que se entra al ciclo for las lineas dentro de él se ejecutaran en el peor de los casos $n-1$ veces obteniendo así un tiempo de ejecución lienal, es decir, $\\theta(n-1)$"
   ]
  },
  {
   "cell_type": "markdown",
   "metadata": {},
   "source": [
    "### 11.3.2 Análisis del tiempo de ejecución (Recursivo)\n",
    "En el caso recursivo el tiempo de ejecución de todas las lineas es constante excepto por la última que forma la siguiente recursión:\n",
    "$$T(n)=T(n-2)+T(n-1)$$\n",
    "La cuál puede expresarse como \n",
    "$$T(n)=kT(n-k)+T(n-k+1)+k\\theta(1)$$\n",
    "Si $k+1=n$, entonces $T(n)=\\theta(n-1)$"
   ]
  },
  {
   "cell_type": "markdown",
   "metadata": {},
   "source": [
    "### 11.4.1 Experimentación en el tiempo de ejecución (Iterativo)\n",
    "Se realizarán 20 ejecuciones del algoritmo pidiendo el número $100,000 \\times i, \\forall i \\in N | 1 \\leq i \\leq 20$ y se registrara el tiempo de ejecución para generar una grafica similar al tiempo de ejecución obtenido de $\\theta(n-1)$."
   ]
  },
  {
   "cell_type": "code",
   "execution_count": 11,
   "metadata": {},
   "outputs": [
    {
     "name": "stdout",
     "output_type": "stream",
     "text": [
      "100000-simo elemento de la sucesión de fibonacci 0.09807538986206055s\n",
      "200000-simo elemento de la sucesión de fibonacci 0.3259127140045166s\n",
      "300000-simo elemento de la sucesión de fibonacci 0.6483540534973145s\n",
      "400000-simo elemento de la sucesión de fibonacci 1.1492674350738525s\n",
      "500000-simo elemento de la sucesión de fibonacci 1.7549750804901123s\n",
      "600000-simo elemento de la sucesión de fibonacci 2.5359346866607666s\n",
      "700000-simo elemento de la sucesión de fibonacci 3.41019868850708s\n",
      "800000-simo elemento de la sucesión de fibonacci 4.4519829750061035s\n",
      "900000-simo elemento de la sucesión de fibonacci 5.646338939666748s\n",
      "1000000-simo elemento de la sucesión de fibonacci 6.964437246322632s\n",
      "1100000-simo elemento de la sucesión de fibonacci 8.41261887550354s\n",
      "1200000-simo elemento de la sucesión de fibonacci 10.099892854690552s\n",
      "1300000-simo elemento de la sucesión de fibonacci 11.892218351364136s\n",
      "1400000-simo elemento de la sucesión de fibonacci 13.530029535293579s\n",
      "1500000-simo elemento de la sucesión de fibonacci 15.572668313980103s\n",
      "1600000-simo elemento de la sucesión de fibonacci 17.65859603881836s\n",
      "1700000-simo elemento de la sucesión de fibonacci 19.952322244644165s\n",
      "1800000-simo elemento de la sucesión de fibonacci 22.351893424987793s\n",
      "1900000-simo elemento de la sucesión de fibonacci 24.946663856506348s\n",
      "2000000-simo elemento de la sucesión de fibonacci 27.541252613067627s\n"
     ]
    }
   ],
   "source": [
    "import time\n",
    "x = []\n",
    "y = []\n",
    "for i in range(1,21):\n",
    "    n=100000*i\n",
    "    x.append(n)\n",
    "    inicio = time.time()\n",
    "    fibonacci_i(n)\n",
    "    fin = time.time()\n",
    "    y.append(fin-inicio)\n",
    "    print(str(n) + \"-simo elemento de la sucesión de fibonacci \" + str(fin-inicio) + \"s\")"
   ]
  },
  {
   "cell_type": "markdown",
   "metadata": {},
   "source": [
    "A continuación se graficarán los puntos $(n,tiempo)$ donde $n$ es el número de la sucesión de fibonacci a calcular."
   ]
  },
  {
   "cell_type": "code",
   "execution_count": 12,
   "metadata": {},
   "outputs": [
    {
     "data": {
      "text/plain": [
       "Text(0, 0.5, 'segundos')"
      ]
     },
     "execution_count": 12,
     "metadata": {},
     "output_type": "execute_result"
    },
    {
     "data": {
      "image/png": "[encoded data removed]",
      "text/plain": [
       "<Figure size 640x480 with 1 Axes>"
      ]
     },
     "metadata": {},
     "output_type": "display_data"
    }
   ],
   "source": [
    "import matplotlib.pyplot as plt\n",
    "plt.plot(x,y)\n",
    "plt.xlabel('Tamaño de entrada x 100000')\n",
    "plt.ylabel('segundos')"
   ]
  }
 ],
 "metadata": {
  "kernelspec": {
   "display_name": "Python 3.9.13 ('base')",
   "language": "python",
   "name": "python3"
  },
  "language_info": {
   "codemirror_mode": {
    "name": "ipython",
    "version": 3
   },
   "file_extension": ".py",
   "mimetype": "text/x-python",
   "name": "python",
   "nbconvert_exporter": "python",
   "pygments_lexer": "ipython3",
   "version": "3.9.13"
  },
  "orig_nbformat": 4,
  "vscode": {
   "interpreter": {
    "hash": "8d1e3d84b4c43325572ec7e11db39c0ae4266da507fa4f7a6e4ceaf8215a2830"
   }
  }
 },
 "nbformat": 4,
 "nbformat_minor": 2
}
