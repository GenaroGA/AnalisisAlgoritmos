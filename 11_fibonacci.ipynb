{
 "cells": [
  {
   "cell_type": "markdown",
   "metadata": {},
   "source": [
    "# 11 Fibonacci\n",
    "La sucesión de Fibonacci es la sucesión infinita de números naturales que se construye sumando los dos números anteriores de la sucesión siendo 0 y 1 los dos primeros números de la sucesión. Aquí se presentarán y analizarán los algoritmos iterativo y recursivo que calculan el $n-simo$ término de la sucesión de Fibonacci."
   ]
  },
  {
   "cell_type": "markdown",
   "metadata": {},
   "source": [
    "### 11.1.1 Algoritmo Iterativo"
   ]
  },
  {
   "cell_type": "code",
   "execution_count": 2,
   "metadata": {},
   "outputs": [],
   "source": [
    "def fibonacci_i(n):\n",
    "    if n == 0:\n",
    "        return 0\n",
    "    else:\n",
    "        x = 0\n",
    "        y = 1\n",
    "    for i in range(n-1):\n",
    "        z = x + y\n",
    "        x = y\n",
    "        y = z\n",
    "    return y"
   ]
  },
  {
   "cell_type": "markdown",
   "metadata": {},
   "source": [
    "### 11.1.2 Algoritmo Recursivo"
   ]
  },
  {
   "cell_type": "code",
   "execution_count": 13,
   "metadata": {},
   "outputs": [],
   "source": [
    "def fibonacci_r(n):\n",
    "    if n <= 1:\n",
    "        return n\n",
    "    return fibonacci_r(n-1) + fibonacci_r(n-2)"
   ]
  },
  {
   "cell_type": "markdown",
   "metadata": {},
   "source": [
    "### 11.2.1 Verificación (Iterativo)\n",
    "**Loop invariante:**\n",
    "\n",
    "En la $i-esima$ iteración del ciclo $for$ el valor es $z=(i-2)+(i-1)$ cumpliendo con la definición de la sucesión de Fibonacci\n",
    "\n",
    "**Inicio:**\n",
    "\n",
    "En el caso de $n=0$ el algoritmo cumple la condición del la sentencia $if$ $else$ y el algoritmo devuelve $0$ en cualquier otro caso, es decir, $n\\neq 0$ el ciclo $for$ inicia con $x=0$, $y=1$ y $z=1$ obteniendo el primer termino de la sucesión de Fibonacci de forma correcta.\n",
    "\n",
    "**Mantenimiento**\n",
    "\n",
    "En la $i-esima$ iteración del ciclo $for$ $z=x+y=(i-2)+(i-1)$ luego de esto el contador $i$ aumenta en 1 y se restablece el ciclo.\n",
    "\n",
    "**Término**\n",
    "\n",
    "El algoritmo finaliza cuando $i=n-1$ devolviendo el valor de $z=(n-2)+(n-1)$ por lo tanto el algoritmo es correcto."
   ]
  },
  {
   "cell_type": "code",
   "execution_count": 4,
   "metadata": {},
   "outputs": [
    {
     "data": {
      "text/plain": [
       "3"
      ]
     },
     "execution_count": 4,
     "metadata": {},
     "output_type": "execute_result"
    }
   ],
   "source": [
    "x = fibonacci_i(4)\n",
    "x"
   ]
  },
  {
   "cell_type": "markdown",
   "metadata": {},
   "source": [
    "### 11.2.2 Verificación (Recursivo)\n",
    "Para esta versión del algoritmo, se presupone que solo se recibirán números enteros mayores o iguales a $0$, dicho esto el caso base devuelve 0 cuando $n=0$ y 1 cuando $n=1$, dando los primeros valores de la sucesión. Para $n>1$ el algoritmo devuelve el valor $n=(n-2)+(n-1)$."
   ]
  },
  {
   "cell_type": "code",
   "execution_count": 18,
   "metadata": {},
   "outputs": [
    {
     "data": {
      "text/plain": [
       "3"
      ]
     },
     "execution_count": 18,
     "metadata": {},
     "output_type": "execute_result"
    }
   ],
   "source": [
    "x=fibonacci_r(4)\n",
    "x"
   ]
  },
  {
   "cell_type": "markdown",
   "metadata": {},
   "source": [
    "### 11.3.1 Análisis del tiempo de ejecución (Iterativo)\n",
    "Observando la ejecución del código linea a linea, se nota que hasta la linea 5 el tiempo de ejecución es constante y una vez que se entra al ciclo for las lineas dentro de él se ejecutaran en el peor de los casos $n-1$ veces obteniendo así un tiempo de ejecución lienal, es decir, $\\theta(n-1)$"
   ]
  },
  {
   "cell_type": "markdown",
   "metadata": {},
   "source": [
    "### 11.3.2 Análisis del tiempo de ejecución (Recursivo)\n",
    "En el caso recursivo el tiempo de ejecución de todas las lineas es constante excepto por la última que forma la siguiente recursión:\n",
    "$$T(n)=T(n-2)+T(n-1)$$\n",
    "La cuál puede expresarse como \n",
    "$$T(n)=kT(n-k)+T(n-k+1)+k\\theta(1)$$\n",
    "Si $k+1=n$, entonces $T(n)=\\theta(n-1)$"
   ]
  },
  {
   "cell_type": "markdown",
   "metadata": {},
   "source": [
    "### 11.4.1 Experimentación en el tiempo de ejecución (Iterativo)\n",
    "Se realizarán 100 ejecuciones del algoritmo pidiendo el número $1,000 \\times i, \\forall i \\in N | 1 \\leq i \\leq 100$ y se registrara el tiempo de ejecución para generar una grafica similar al tiempo de ejecución obtenido de $\\theta(n-1)$."
   ]
  },
  {
   "cell_type": "code",
   "execution_count": 11,
   "metadata": {},
   "outputs": [
    {
     "name": "stdout",
     "output_type": "stream",
     "text": [
      "1000-simo elemento de la sucesión de fibonacci 5.817413330078125e-05s\n",
      "2000-simo elemento de la sucesión de fibonacci 0.0001900196075439453s\n",
      "3000-simo elemento de la sucesión de fibonacci 0.0002715587615966797s\n",
      "4000-simo elemento de la sucesión de fibonacci 0.0003540515899658203s\n",
      "5000-simo elemento de la sucesión de fibonacci 0.00040411949157714844s\n",
      "6000-simo elemento de la sucesión de fibonacci 0.000568389892578125s\n",
      "7000-simo elemento de la sucesión de fibonacci 0.0006749629974365234s\n",
      "8000-simo elemento de la sucesión de fibonacci 0.0007886886596679688s\n",
      "9000-simo elemento de la sucesión de fibonacci 0.0011968612670898438s\n",
      "10000-simo elemento de la sucesión de fibonacci 0.0043735504150390625s\n",
      "11000-simo elemento de la sucesión de fibonacci 0.001898050308227539s\n",
      "12000-simo elemento de la sucesión de fibonacci 0.0022678375244140625s\n",
      "13000-simo elemento de la sucesión de fibonacci 0.0021598339080810547s\n",
      "14000-simo elemento de la sucesión de fibonacci 0.002608060836791992s\n",
      "15000-simo elemento de la sucesión de fibonacci 0.0030069351196289062s\n",
      "16000-simo elemento de la sucesión de fibonacci 0.0028531551361083984s\n",
      "17000-simo elemento de la sucesión de fibonacci 0.0037331581115722656s\n",
      "18000-simo elemento de la sucesión de fibonacci 0.0034673213958740234s\n",
      "19000-simo elemento de la sucesión de fibonacci 0.00456690788269043s\n",
      "20000-simo elemento de la sucesión de fibonacci 0.00445103645324707s\n",
      "21000-simo elemento de la sucesión de fibonacci 0.005187034606933594s\n",
      "22000-simo elemento de la sucesión de fibonacci 0.00555419921875s\n",
      "23000-simo elemento de la sucesión de fibonacci 0.006353855133056641s\n",
      "24000-simo elemento de la sucesión de fibonacci 0.007228374481201172s\n",
      "25000-simo elemento de la sucesión de fibonacci 0.007245779037475586s\n",
      "26000-simo elemento de la sucesión de fibonacci 0.010527372360229492s\n",
      "27000-simo elemento de la sucesión de fibonacci 0.011568784713745117s\n",
      "28000-simo elemento de la sucesión de fibonacci 0.00943613052368164s\n",
      "29000-simo elemento de la sucesión de fibonacci 0.009027242660522461s\n",
      "30000-simo elemento de la sucesión de fibonacci 0.011499643325805664s\n",
      "31000-simo elemento de la sucesión de fibonacci 0.012069463729858398s\n",
      "32000-simo elemento de la sucesión de fibonacci 0.009618997573852539s\n",
      "33000-simo elemento de la sucesión de fibonacci 0.010823965072631836s\n",
      "34000-simo elemento de la sucesión de fibonacci 0.011636495590209961s\n",
      "35000-simo elemento de la sucesión de fibonacci 0.011542320251464844s\n",
      "36000-simo elemento de la sucesión de fibonacci 0.014276742935180664s\n",
      "37000-simo elemento de la sucesión de fibonacci 0.013979434967041016s\n",
      "38000-simo elemento de la sucesión de fibonacci 0.014859914779663086s\n",
      "39000-simo elemento de la sucesión de fibonacci 0.014320611953735352s\n",
      "40000-simo elemento de la sucesión de fibonacci 0.015964746475219727s\n",
      "41000-simo elemento de la sucesión de fibonacci 0.018060922622680664s\n",
      "42000-simo elemento de la sucesión de fibonacci 0.016791105270385742s\n",
      "43000-simo elemento de la sucesión de fibonacci 0.018779277801513672s\n",
      "44000-simo elemento de la sucesión de fibonacci 0.017921924591064453s\n",
      "45000-simo elemento de la sucesión de fibonacci 0.018596410751342773s\n",
      "46000-simo elemento de la sucesión de fibonacci 0.020427227020263672s\n",
      "47000-simo elemento de la sucesión de fibonacci 0.019295930862426758s\n",
      "48000-simo elemento de la sucesión de fibonacci 0.022660493850708008s\n",
      "49000-simo elemento de la sucesión de fibonacci 0.022731304168701172s\n",
      "50000-simo elemento de la sucesión de fibonacci 0.02348017692565918s\n",
      "51000-simo elemento de la sucesión de fibonacci 0.02351093292236328s\n",
      "52000-simo elemento de la sucesión de fibonacci 0.026136159896850586s\n",
      "53000-simo elemento de la sucesión de fibonacci 0.023479700088500977s\n",
      "54000-simo elemento de la sucesión de fibonacci 0.025241851806640625s\n",
      "55000-simo elemento de la sucesión de fibonacci 0.027499914169311523s\n",
      "56000-simo elemento de la sucesión de fibonacci 0.026127099990844727s\n",
      "57000-simo elemento de la sucesión de fibonacci 0.02652716636657715s\n",
      "58000-simo elemento de la sucesión de fibonacci 0.027325153350830078s\n",
      "59000-simo elemento de la sucesión de fibonacci 0.028923511505126953s\n",
      "60000-simo elemento de la sucesión de fibonacci 0.03112649917602539s\n",
      "61000-simo elemento de la sucesión de fibonacci 0.03336811065673828s\n",
      "62000-simo elemento de la sucesión de fibonacci 0.03156089782714844s\n",
      "63000-simo elemento de la sucesión de fibonacci 0.03231215476989746s\n",
      "64000-simo elemento de la sucesión de fibonacci 0.03405165672302246s\n",
      "65000-simo elemento de la sucesión de fibonacci 0.03489041328430176s\n",
      "66000-simo elemento de la sucesión de fibonacci 0.0363767147064209s\n",
      "67000-simo elemento de la sucesión de fibonacci 0.040207862854003906s\n",
      "68000-simo elemento de la sucesión de fibonacci 0.03752446174621582s\n",
      "69000-simo elemento de la sucesión de fibonacci 0.03801083564758301s\n",
      "70000-simo elemento de la sucesión de fibonacci 0.040780067443847656s\n",
      "71000-simo elemento de la sucesión de fibonacci 0.040022850036621094s\n",
      "72000-simo elemento de la sucesión de fibonacci 0.04401588439941406s\n",
      "73000-simo elemento de la sucesión de fibonacci 0.04357409477233887s\n",
      "74000-simo elemento de la sucesión de fibonacci 0.04420065879821777s\n",
      "75000-simo elemento de la sucesión de fibonacci 0.04533791542053223s\n",
      "76000-simo elemento de la sucesión de fibonacci 0.045291900634765625s\n",
      "77000-simo elemento de la sucesión de fibonacci 0.04848289489746094s\n",
      "78000-simo elemento de la sucesión de fibonacci 0.0507657527923584s\n",
      "79000-simo elemento de la sucesión de fibonacci 0.050252437591552734s\n",
      "80000-simo elemento de la sucesión de fibonacci 0.04989910125732422s\n",
      "81000-simo elemento de la sucesión de fibonacci 0.05165243148803711s\n",
      "82000-simo elemento de la sucesión de fibonacci 0.05663800239562988s\n",
      "83000-simo elemento de la sucesión de fibonacci 0.05439400672912598s\n",
      "84000-simo elemento de la sucesión de fibonacci 0.05764937400817871s\n",
      "85000-simo elemento de la sucesión de fibonacci 0.05817699432373047s\n",
      "86000-simo elemento de la sucesión de fibonacci 0.05933117866516113s\n",
      "87000-simo elemento de la sucesión de fibonacci 0.05997657775878906s\n",
      "88000-simo elemento de la sucesión de fibonacci 0.06136918067932129s\n",
      "89000-simo elemento de la sucesión de fibonacci 0.061498165130615234s\n",
      "90000-simo elemento de la sucesión de fibonacci 0.06320643424987793s\n",
      "91000-simo elemento de la sucesión de fibonacci 0.06819033622741699s\n",
      "92000-simo elemento de la sucesión de fibonacci 0.06630611419677734s\n",
      "93000-simo elemento de la sucesión de fibonacci 0.07166767120361328s\n",
      "94000-simo elemento de la sucesión de fibonacci 0.06989097595214844s\n",
      "95000-simo elemento de la sucesión de fibonacci 0.07067704200744629s\n",
      "96000-simo elemento de la sucesión de fibonacci 0.07010626792907715s\n",
      "97000-simo elemento de la sucesión de fibonacci 0.0723109245300293s\n",
      "98000-simo elemento de la sucesión de fibonacci 0.07508659362792969s\n",
      "99000-simo elemento de la sucesión de fibonacci 0.07486677169799805s\n"
     ]
    }
   ],
   "source": [
    "import time\n",
    "x = []\n",
    "y = []\n",
    "for i in range(1,100):\n",
    "    n=1000*i\n",
    "    x.append(n)\n",
    "    inicio = time.time()\n",
    "    fibonacci_i(n)\n",
    "    fin = time.time()\n",
    "    y.append(fin-inicio)\n",
    "    print(str(n) + \"-simo elemento de la sucesión de fibonacci \" + str(fin-inicio) + \"s\")"
   ]
  },
  {
   "cell_type": "markdown",
   "metadata": {},
   "source": [
    "A continuación se graficarán los puntos $(n,tiempo)$ donde $n$ es el número de la sucesión de fibonacci a calcular."
   ]
  },
  {
   "cell_type": "code",
   "execution_count": 8,
   "metadata": {},
   "outputs": [
    {
     "data": {
      "text/plain": [
       "Text(0, 0.5, 'segundos')"
      ]
     },
     "execution_count": 8,
     "metadata": {},
     "output_type": "execute_result"
    },
    {
     "data": {
      "image/png": "[encoded data removed]",
      "text/plain": [
       "<Figure size 640x480 with 1 Axes>"
      ]
     },
     "metadata": {},
     "output_type": "display_data"
    }
   ],
   "source": [
    "import matplotlib.pyplot as plt\n",
    "plt.plot(x,y)\n",
    "plt.xlabel('Tamaño de entrada x 1000')\n",
    "plt.ylabel('segundos')"
   ]
  },
  {
   "cell_type": "markdown",
   "metadata": {},
   "source": [
    "### 11.4.1 Experimentación en el tiempo de ejecución (Recursivo)\n",
    "Se realizarán 100 ejecuciones del algoritmo pidiendo el número $i, \\forall i \\in N | 1 \\leq i \\leq 100$ y se registrara el tiempo de ejecución para generar una grafica similar al tiempo de ejecución obtenido de $\\theta(n-1)$."
   ]
  },
  {
   "cell_type": "code",
   "execution_count": 22,
   "metadata": {},
   "outputs": [
    {
     "name": "stdout",
     "output_type": "stream",
     "text": [
      "1-simo elemento de la sucesión de fibonacci 1.1920928955078125e-06s\n",
      "2-simo elemento de la sucesión de fibonacci 1.430511474609375e-06s\n",
      "3-simo elemento de la sucesión de fibonacci 9.5367431640625e-07s\n",
      "4-simo elemento de la sucesión de fibonacci 1.430511474609375e-06s\n",
      "5-simo elemento de la sucesión de fibonacci 2.1457672119140625e-06s\n",
      "6-simo elemento de la sucesión de fibonacci 2.86102294921875e-06s\n",
      "7-simo elemento de la sucesión de fibonacci 5.0067901611328125e-06s\n",
      "8-simo elemento de la sucesión de fibonacci 7.152557373046875e-06s\n",
      "9-simo elemento de la sucesión de fibonacci 1.1205673217773438e-05s\n",
      "10-simo elemento de la sucesión de fibonacci 1.7881393432617188e-05s\n",
      "11-simo elemento de la sucesión de fibonacci 2.86102294921875e-05s\n",
      "12-simo elemento de la sucesión de fibonacci 4.601478576660156e-05s\n",
      "13-simo elemento de la sucesión de fibonacci 7.128715515136719e-05s\n",
      "14-simo elemento de la sucesión de fibonacci 9.250640869140625e-05s\n",
      "15-simo elemento de la sucesión de fibonacci 0.00015044212341308594s\n",
      "16-simo elemento de la sucesión de fibonacci 0.0002741813659667969s\n",
      "17-simo elemento de la sucesión de fibonacci 0.0003237724304199219s\n",
      "18-simo elemento de la sucesión de fibonacci 0.0005614757537841797s\n",
      "19-simo elemento de la sucesión de fibonacci 0.0009288787841796875s\n",
      "20-simo elemento de la sucesión de fibonacci 0.0011398792266845703s\n",
      "21-simo elemento de la sucesión de fibonacci 0.0026116371154785156s\n",
      "22-simo elemento de la sucesión de fibonacci 0.0029904842376708984s\n",
      "23-simo elemento de la sucesión de fibonacci 0.006639719009399414s\n",
      "24-simo elemento de la sucesión de fibonacci 0.009794950485229492s\n",
      "25-simo elemento de la sucesión de fibonacci 0.015033483505249023s\n",
      "26-simo elemento de la sucesión de fibonacci 0.024442672729492188s\n",
      "27-simo elemento de la sucesión de fibonacci 0.03853154182434082s\n",
      "28-simo elemento de la sucesión de fibonacci 0.05817890167236328s\n",
      "29-simo elemento de la sucesión de fibonacci 0.09415149688720703s\n"
     ]
    }
   ],
   "source": [
    "y = []\n",
    "x= []\n",
    "for i in range(1,30):\n",
    "    n = i\n",
    "    x.append(n)\n",
    "    inicio = time.time()\n",
    "    fibonacci_r(n)\n",
    "    fin = time.time()\n",
    "    y.append(fin-inicio)\n",
    "    print(str(n) + \"-simo elemento de la sucesión de fibonacci \" + str(fin-inicio) + \"s\")"
   ]
  },
  {
   "cell_type": "markdown",
   "metadata": {},
   "source": [
    "A continuación se graficarán los puntos (n,tiempo) donde $n$ es el n'umero de la sucesión de fibonacci a calcular"
   ]
  },
  {
   "cell_type": "code",
   "execution_count": 23,
   "metadata": {},
   "outputs": [
    {
     "data": {
      "text/plain": [
       "Text(0, 0.5, 'segundos')"
      ]
     },
     "execution_count": 23,
     "metadata": {},
     "output_type": "execute_result"
    },
    {
     "data": {
      "image/png": "[encoded data removed]",
      "text/plain": [
       "<Figure size 640x480 with 1 Axes>"
      ]
     },
     "metadata": {},
     "output_type": "display_data"
    }
   ],
   "source": [
    "plt.plot(x,y)\n",
    "plt.xlabel('Tamaño de entrada')\n",
    "plt.ylabel('segundos')"
   ]
  },
  {
   "cell_type": "markdown",
   "metadata": {},
   "source": [
    "En la practica notamos que los tiempos de ejecución en el caso iterativo forman algo simiar a una recta, sin embargo en el caso recursivo notamos que el tiempo de ejecución se asemeja a una función exponencial, esto puede deberce a que el uso de memoria de en el caso recursivo es mayor que en el iterativo y la computadora en la que se hicieron las prubas cuenta con poca memoria."
   ]
  }
 ],
 "metadata": {
  "kernelspec": {
   "display_name": "Python 3.9.13 ('base')",
   "language": "python",
   "name": "python3"
  },
  "language_info": {
   "codemirror_mode": {
    "name": "ipython",
    "version": 3
   },
   "file_extension": ".py",
   "mimetype": "text/x-python",
   "name": "python",
   "nbconvert_exporter": "python",
   "pygments_lexer": "ipython3",
   "version": "3.9.13"
  },
  "orig_nbformat": 4,
  "vscode": {
   "interpreter": {
    "hash": "8d1e3d84b4c43325572ec7e11db39c0ae4266da507fa4f7a6e4ceaf8215a2830"
   }
  }
 },
 "nbformat": 4,
 "nbformat_minor": 2
}
