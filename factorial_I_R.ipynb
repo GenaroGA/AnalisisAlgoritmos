{
 "cells": [
  {
   "cell_type": "markdown",
   "id": "d5361954",
   "metadata": {},
   "source": [
    "## 9 Factorial"
   ]
  },
  {
   "cell_type": "markdown",
   "id": "20ccd617",
   "metadata": {},
   "source": [
    "Estos algoritmos calculan el factorial de un numero n de forma iterativa y recursiva."
   ]
  },
  {
   "cell_type": "markdown",
   "id": "65cef87a",
   "metadata": {},
   "source": [
    "### 9.1.1 Algoritmo Iterativo"
   ]
  },
  {
   "cell_type": "code",
   "execution_count": 16,
   "id": "c5d258c2",
   "metadata": {
    "scrolled": false
   },
   "outputs": [
    {
     "data": {
      "text/plain": [
       "Fact_I (generic function with 2 methods)"
      ]
     },
     "execution_count": 16,
     "metadata": {},
     "output_type": "execute_result"
    }
   ],
   "source": [
    "function Fact_I(n::Int64)::Int64\n",
    "    x::Int64 = 1\n",
    "    for i::Int64 in 1:n\n",
    "        x = x * i \n",
    "    end\n",
    "    return x \n",
    "end"
   ]
  },
  {
   "cell_type": "markdown",
   "id": "f1dcb9fd",
   "metadata": {},
   "source": [
    "### 9.1.2 Algoritmo Recursivo"
   ]
  },
  {
   "cell_type": "code",
   "execution_count": 17,
   "id": "463c3329",
   "metadata": {},
   "outputs": [
    {
     "data": {
      "text/plain": [
       "Fact_R (generic function with 2 methods)"
      ]
     },
     "execution_count": 17,
     "metadata": {},
     "output_type": "execute_result"
    }
   ],
   "source": [
    "function Fact_R(n::Int64)::Int64\n",
    "    if n == 0\n",
    "        return 1\n",
    "    else\n",
    "        return n * Fact_R(n - 1)\n",
    "    end\n",
    "end"
   ]
  },
  {
   "cell_type": "markdown",
   "id": "3ab3dde0",
   "metadata": {},
   "source": [
    "### 9.2.1Verificación (Iterativo)"
   ]
  },
  {
   "cell_type": "code",
   "execution_count": 6,
   "id": "e0ccb2ba",
   "metadata": {},
   "outputs": [
    {
     "name": "stdout",
     "output_type": "stream",
     "text": [
      "1\n",
      "120\n",
      "3628800\n",
      "1307674368000\n",
      "2432902008176640000\n"
     ]
    }
   ],
   "source": [
    "println(Fact_I(0))\n",
    "println(Fact_I(5))\n",
    "println(Fact_I(10))\n",
    "println(Fact_I(15))\n",
    "println(Fact_I(20))"
   ]
  },
  {
   "cell_type": "code",
   "execution_count": 7,
   "id": "975fc2b4",
   "metadata": {
    "scrolled": true
   },
   "outputs": [
    {
     "name": "stdout",
     "output_type": "stream",
     "text": [
      "1\n",
      "120\n",
      "3628800\n",
      "1307674368000\n",
      "2432902008176640000\n"
     ]
    }
   ],
   "source": [
    "println(Fact_R(0))\n",
    "println(Fact_R(5))\n",
    "println(Fact_R(10))\n",
    "println(Fact_R(15))\n",
    "println(Fact_R(20))"
   ]
  },
  {
   "cell_type": "markdown",
   "id": "96cec8e2",
   "metadata": {},
   "source": [
    "### 9.3.1 Análisis del tiempo de ejecución (Iterativo)"
   ]
  },
  {
   "cell_type": "markdown",
   "id": "7debac55",
   "metadata": {},
   "source": [
    "Para el analisis solo necesitamos prestar atencion a las lineas 2-4 ya que la 1 y la 5 tendran complejidad $\\Theta(1)$ sin importar el valor de $n$.\n",
    "El for-loop de las lineas 2-4 se ejecuta siempre $n$ veces, su cuerpo tiene una sola instruccion con complejidad $\\Theta(1)$. Por lo tanto la complejidad del algoritmo sera $\\Theta(n)$."
   ]
  },
  {
   "cell_type": "markdown",
   "id": "91d9eca6",
   "metadata": {},
   "source": [
    "### 9.3.2 Análisis del tiempo de ejecución (Recursivo)"
   ]
  },
  {
   "cell_type": "markdown",
   "id": "0ec268b9",
   "metadata": {},
   "source": [
    "Podemos ver que el tiempo de ejecucion es igual a $T(n) = T(n-1) + 1$.\n",
    "\n",
    "Asumamos que $T(n-1) \\leq c(n-1) + d$, sustituyendo\n",
    "\n",
    "$T(n) \\leq c(n-1) + d + 1$\n",
    "\n",
    "$T(n) \\leq cn - c + d + 1$\n",
    "\n",
    "$T(n) \\leq cn + d + (1-c)$\n",
    "\n",
    "$T(n) \\leq cn + d$\n",
    "\n",
    "Por lo tanto concluimos que $T(n) = O(n)$"
   ]
  },
  {
   "cell_type": "markdown",
   "id": "7a6c8cd0",
   "metadata": {},
   "source": [
    "### 9.4.1 Experimentación en el tiempo de ejecución (Iterativo)"
   ]
  },
  {
   "cell_type": "code",
   "execution_count": 7,
   "id": "fbd85fc6",
   "metadata": {},
   "outputs": [],
   "source": [
    "using BenchmarkTools\n",
    "using Plots"
   ]
  },
  {
   "cell_type": "markdown",
   "id": "a3eef81a",
   "metadata": {},
   "source": [
    "Vamos a realizar 20 ejecuciones del algoritmo con valores entre 0 y 19 para verificar que el tiempo de ejecucion sea una funcion lineal.\n",
    "Ademas imprimiremos los puntos $(n, time)$ para poder visualizar mejor los resultados optenidos."
   ]
  },
  {
   "cell_type": "code",
   "execution_count": 18,
   "id": "de7c8173",
   "metadata": {
    "scrolled": false
   },
   "outputs": [
    {
     "data": {
      "text/plain": [
       "21-element Vector{Float64}:\n",
       "  3.1\n",
       "  3.6\n",
       "  3.7\n",
       "  4.1\n",
       "  5.0\n",
       "  4.4\n",
       "  4.7\n",
       "  5.3\n",
       "  5.6\n",
       "  5.4\n",
       "  5.7\n",
       "  6.5\n",
       "  6.8\n",
       "  6.8\n",
       "  6.8\n",
       "  7.407407407407407\n",
       " 12.725450901803606\n",
       " 13.326653306613226\n",
       " 13.613613613613614\n",
       " 15.315315315315317\n",
       " 14.428857715430862"
      ]
     },
     "execution_count": 18,
     "metadata": {},
     "output_type": "execute_result"
    }
   ],
   "source": [
    "A = [@belapsed Fact_I($i) for i in 0:20] * 10^9"
   ]
  },
  {
   "cell_type": "code",
   "execution_count": 19,
   "id": "078cca73",
   "metadata": {
    "scrolled": false
   },
   "outputs": [
    {
     "data": {
      "image/svg+xml": [
       "<?xml version=\"1.0\" encoding=\"utf-8\"?>\n",
       "<svg xmlns=\"http://www.w3.org/2000/svg\" xmlns:xlink=\"http://www.w3.org/1999/xlink\" width=\"600\" height=\"400\" viewBox=\"0 0 2400 1600\">\n",
       "<defs>\n",
       "  <clipPath id=\"clip520\">\n",
       "    <rect x=\"0\" y=\"0\" width=\"2400\" height=\"1600\"/>\n",
       "  </clipPath>\n",
       "</defs>\n",
       "<path clip-path=\"url(#clip520)\" d=\"\n",
       "M0 1600 L2400 1600 L2400 0 L0 0  Z\n",
       "  \" fill=\"#ffffff\" fill-rule=\"evenodd\" fill-opacity=\"1\"/>\n",
       "<defs>\n",
       "  <clipPath id=\"clip521\">\n",
       "    <rect x=\"480\" y=\"0\" width=\"1681\" height=\"1600\"/>\n",
       "  </clipPath>\n",
       "</defs>\n",
       "<path clip-path=\"url(#clip520)\" d=\"\n",
       "M184.191 1486.45 L2352.76 1486.45 L2352.76 47.2441 L184.191 47.2441  Z\n",
       "  \" fill=\"#ffffff\" fill-rule=\"evenodd\" fill-opacity=\"1\"/>\n",
       "<defs>\n",
       "  <clipPath id=\"clip522\">\n",
       "    <rect x=\"184\" y=\"47\" width=\"2170\" height=\"1440\"/>\n",
       "  </clipPath>\n",
       "</defs>\n",
       "<polyline clip-path=\"url(#clip522)\" style=\"stroke:#000000; stroke-linecap:round; stroke-linejoin:round; stroke-width:2; stroke-opacity:0.1; fill:none\" points=\"\n",
       "  654.728,1486.45 654.728,47.2441 \n",
       "  \"/>\n",
       "<polyline clip-path=\"url(#clip522)\" style=\"stroke:#000000; stroke-linecap:round; stroke-linejoin:round; stroke-width:2; stroke-opacity:0.1; fill:none\" points=\"\n",
       "  1166.18,1486.45 1166.18,47.2441 \n",
       "  \"/>\n",
       "<polyline clip-path=\"url(#clip522)\" style=\"stroke:#000000; stroke-linecap:round; stroke-linejoin:round; stroke-width:2; stroke-opacity:0.1; fill:none\" points=\"\n",
       "  1677.64,1486.45 1677.64,47.2441 \n",
       "  \"/>\n",
       "<polyline clip-path=\"url(#clip522)\" style=\"stroke:#000000; stroke-linecap:round; stroke-linejoin:round; stroke-width:2; stroke-opacity:0.1; fill:none\" points=\"\n",
       "  2189.09,1486.45 2189.09,47.2441 \n",
       "  \"/>\n",
       "<polyline clip-path=\"url(#clip520)\" style=\"stroke:#000000; stroke-linecap:round; stroke-linejoin:round; stroke-width:4; stroke-opacity:1; fill:none\" points=\"\n",
       "  184.191,1486.45 2352.76,1486.45 \n",
       "  \"/>\n",
       "<polyline clip-path=\"url(#clip520)\" style=\"stroke:#000000; stroke-linecap:round; stroke-linejoin:round; stroke-width:4; stroke-opacity:1; fill:none\" points=\"\n",
       "  654.728,1486.45 654.728,1467.55 \n",
       "  \"/>\n",
       "<polyline clip-path=\"url(#clip520)\" style=\"stroke:#000000; stroke-linecap:round; stroke-linejoin:round; stroke-width:4; stroke-opacity:1; fill:none\" points=\"\n",
       "  1166.18,1486.45 1166.18,1467.55 \n",
       "  \"/>\n",
       "<polyline clip-path=\"url(#clip520)\" style=\"stroke:#000000; stroke-linecap:round; stroke-linejoin:round; stroke-width:4; stroke-opacity:1; fill:none\" points=\"\n",
       "  1677.64,1486.45 1677.64,1467.55 \n",
       "  \"/>\n",
       "<polyline clip-path=\"url(#clip520)\" style=\"stroke:#000000; stroke-linecap:round; stroke-linejoin:round; stroke-width:4; stroke-opacity:1; fill:none\" points=\"\n",
       "  2189.09,1486.45 2189.09,1467.55 \n",
       "  \"/>\n",
       "<path clip-path=\"url(#clip520)\" d=\"M645.006 1514.29 L663.363 1514.29 L663.363 1518.22 L649.289 1518.22 L649.289 1526.7 Q650.307 1526.35 651.326 1526.19 Q652.344 1526 653.363 1526 Q659.15 1526 662.529 1529.17 Q665.909 1532.34 665.909 1537.76 Q665.909 1543.34 662.437 1546.44 Q658.965 1549.52 652.645 1549.52 Q650.469 1549.52 648.201 1549.15 Q645.955 1548.78 643.548 1548.04 L643.548 1543.34 Q645.631 1544.47 647.853 1545.03 Q650.076 1545.58 652.553 1545.58 Q656.557 1545.58 658.895 1543.48 Q661.233 1541.37 661.233 1537.76 Q661.233 1534.15 658.895 1532.04 Q656.557 1529.94 652.553 1529.94 Q650.678 1529.94 648.803 1530.35 Q646.951 1530.77 645.006 1531.65 L645.006 1514.29 Z\" fill=\"#000000\" fill-rule=\"evenodd\" fill-opacity=\"1\" /><path clip-path=\"url(#clip520)\" d=\"M1140.87 1544.91 L1148.51 1544.91 L1148.51 1518.55 L1140.2 1520.21 L1140.2 1515.95 L1148.46 1514.29 L1153.14 1514.29 L1153.14 1544.91 L1160.78 1544.91 L1160.78 1548.85 L1140.87 1548.85 L1140.87 1544.91 Z\" fill=\"#000000\" fill-rule=\"evenodd\" fill-opacity=\"1\" /><path clip-path=\"url(#clip520)\" d=\"M1180.22 1517.37 Q1176.61 1517.37 1174.78 1520.93 Q1172.98 1524.47 1172.98 1531.6 Q1172.98 1538.71 1174.78 1542.27 Q1176.61 1545.82 1180.22 1545.82 Q1183.86 1545.82 1185.66 1542.27 Q1187.49 1538.71 1187.49 1531.6 Q1187.49 1524.47 1185.66 1520.93 Q1183.86 1517.37 1180.22 1517.37 M1180.22 1513.66 Q1186.03 1513.66 1189.09 1518.27 Q1192.17 1522.85 1192.17 1531.6 Q1192.17 1540.33 1189.09 1544.94 Q1186.03 1549.52 1180.22 1549.52 Q1174.41 1549.52 1171.33 1544.94 Q1168.28 1540.33 1168.28 1531.6 Q1168.28 1522.85 1171.33 1518.27 Q1174.41 1513.66 1180.22 1513.66 Z\" fill=\"#000000\" fill-rule=\"evenodd\" fill-opacity=\"1\" /><path clip-path=\"url(#clip520)\" d=\"M1652.82 1544.91 L1660.46 1544.91 L1660.46 1518.55 L1652.15 1520.21 L1652.15 1515.95 L1660.41 1514.29 L1665.09 1514.29 L1665.09 1544.91 L1672.73 1544.91 L1672.73 1548.85 L1652.82 1548.85 L1652.82 1544.91 Z\" fill=\"#000000\" fill-rule=\"evenodd\" fill-opacity=\"1\" /><path clip-path=\"url(#clip520)\" d=\"M1682.22 1514.29 L1700.58 1514.29 L1700.58 1518.22 L1686.5 1518.22 L1686.5 1526.7 Q1687.52 1526.35 1688.54 1526.19 Q1689.56 1526 1690.58 1526 Q1696.36 1526 1699.74 1529.17 Q1703.12 1532.34 1703.12 1537.76 Q1703.12 1543.34 1699.65 1546.44 Q1696.18 1549.52 1689.86 1549.52 Q1687.68 1549.52 1685.41 1549.15 Q1683.17 1548.78 1680.76 1548.04 L1680.76 1543.34 Q1682.84 1544.47 1685.07 1545.03 Q1687.29 1545.58 1689.77 1545.58 Q1693.77 1545.58 1696.11 1543.48 Q1698.45 1541.37 1698.45 1537.76 Q1698.45 1534.15 1696.11 1532.04 Q1693.77 1529.94 1689.77 1529.94 Q1687.89 1529.94 1686.02 1530.35 Q1684.16 1530.77 1682.22 1531.65 L1682.22 1514.29 Z\" fill=\"#000000\" fill-rule=\"evenodd\" fill-opacity=\"1\" /><path clip-path=\"url(#clip520)\" d=\"M2167.86 1544.91 L2184.18 1544.91 L2184.18 1548.85 L2162.24 1548.85 L2162.24 1544.91 Q2164.9 1542.16 2169.48 1537.53 Q2174.09 1532.88 2175.27 1531.53 Q2177.52 1529.01 2178.4 1527.27 Q2179.3 1525.51 2179.3 1523.82 Q2179.3 1521.07 2177.35 1519.33 Q2175.43 1517.6 2172.33 1517.6 Q2170.13 1517.6 2167.68 1518.36 Q2165.25 1519.13 2162.47 1520.68 L2162.47 1515.95 Q2165.29 1514.82 2167.75 1514.24 Q2170.2 1513.66 2172.24 1513.66 Q2177.61 1513.66 2180.8 1516.35 Q2184 1519.03 2184 1523.52 Q2184 1525.65 2183.19 1527.57 Q2182.4 1529.47 2180.29 1532.07 Q2179.72 1532.74 2176.61 1535.95 Q2173.51 1539.15 2167.86 1544.91 Z\" fill=\"#000000\" fill-rule=\"evenodd\" fill-opacity=\"1\" /><path clip-path=\"url(#clip520)\" d=\"M2204 1517.37 Q2200.39 1517.37 2198.56 1520.93 Q2196.75 1524.47 2196.75 1531.6 Q2196.75 1538.71 2198.56 1542.27 Q2200.39 1545.82 2204 1545.82 Q2207.63 1545.82 2209.44 1542.27 Q2211.27 1538.71 2211.27 1531.6 Q2211.27 1524.47 2209.44 1520.93 Q2207.63 1517.37 2204 1517.37 M2204 1513.66 Q2209.81 1513.66 2212.86 1518.27 Q2215.94 1522.85 2215.94 1531.6 Q2215.94 1540.33 2212.86 1544.94 Q2209.81 1549.52 2204 1549.52 Q2198.19 1549.52 2195.11 1544.94 Q2192.05 1540.33 2192.05 1531.6 Q2192.05 1522.85 2195.11 1518.27 Q2198.19 1513.66 2204 1513.66 Z\" fill=\"#000000\" fill-rule=\"evenodd\" fill-opacity=\"1\" /><polyline clip-path=\"url(#clip522)\" style=\"stroke:#000000; stroke-linecap:round; stroke-linejoin:round; stroke-width:2; stroke-opacity:0.1; fill:none\" points=\"\n",
       "  184.191,1234.53 2352.76,1234.53 \n",
       "  \"/>\n",
       "<polyline clip-path=\"url(#clip522)\" style=\"stroke:#000000; stroke-linecap:round; stroke-linejoin:round; stroke-width:2; stroke-opacity:0.1; fill:none\" points=\"\n",
       "  184.191,956.653 2352.76,956.653 \n",
       "  \"/>\n",
       "<polyline clip-path=\"url(#clip522)\" style=\"stroke:#000000; stroke-linecap:round; stroke-linejoin:round; stroke-width:2; stroke-opacity:0.1; fill:none\" points=\"\n",
       "  184.191,678.777 2352.76,678.777 \n",
       "  \"/>\n",
       "<polyline clip-path=\"url(#clip522)\" style=\"stroke:#000000; stroke-linecap:round; stroke-linejoin:round; stroke-width:2; stroke-opacity:0.1; fill:none\" points=\"\n",
       "  184.191,400.9 2352.76,400.9 \n",
       "  \"/>\n",
       "<polyline clip-path=\"url(#clip522)\" style=\"stroke:#000000; stroke-linecap:round; stroke-linejoin:round; stroke-width:2; stroke-opacity:0.1; fill:none\" points=\"\n",
       "  184.191,123.024 2352.76,123.024 \n",
       "  \"/>\n",
       "<polyline clip-path=\"url(#clip520)\" style=\"stroke:#000000; stroke-linecap:round; stroke-linejoin:round; stroke-width:4; stroke-opacity:1; fill:none\" points=\"\n",
       "  184.191,1486.45 184.191,47.2441 \n",
       "  \"/>\n",
       "<polyline clip-path=\"url(#clip520)\" style=\"stroke:#000000; stroke-linecap:round; stroke-linejoin:round; stroke-width:4; stroke-opacity:1; fill:none\" points=\"\n",
       "  184.191,1234.53 203.088,1234.53 \n",
       "  \"/>\n",
       "<polyline clip-path=\"url(#clip520)\" style=\"stroke:#000000; stroke-linecap:round; stroke-linejoin:round; stroke-width:4; stroke-opacity:1; fill:none\" points=\"\n",
       "  184.191,956.653 203.088,956.653 \n",
       "  \"/>\n",
       "<polyline clip-path=\"url(#clip520)\" style=\"stroke:#000000; stroke-linecap:round; stroke-linejoin:round; stroke-width:4; stroke-opacity:1; fill:none\" points=\"\n",
       "  184.191,678.777 203.088,678.777 \n",
       "  \"/>\n",
       "<polyline clip-path=\"url(#clip520)\" style=\"stroke:#000000; stroke-linecap:round; stroke-linejoin:round; stroke-width:4; stroke-opacity:1; fill:none\" points=\"\n",
       "  184.191,400.9 203.088,400.9 \n",
       "  \"/>\n",
       "<polyline clip-path=\"url(#clip520)\" style=\"stroke:#000000; stroke-linecap:round; stroke-linejoin:round; stroke-width:4; stroke-opacity:1; fill:none\" points=\"\n",
       "  184.191,123.024 203.088,123.024 \n",
       "  \"/>\n",
       "<path clip-path=\"url(#clip520)\" d=\"M81.0614 1217.25 L99.4178 1217.25 L99.4178 1221.18 L85.3438 1221.18 L85.3438 1229.66 Q86.3623 1229.31 87.3808 1229.15 Q88.3993 1228.96 89.4178 1228.96 Q95.2049 1228.96 98.5845 1232.13 Q101.964 1235.31 101.964 1240.72 Q101.964 1246.3 98.4919 1249.4 Q95.0197 1252.48 88.7003 1252.48 Q86.5243 1252.48 84.2558 1252.11 Q82.0105 1251.74 79.6031 1251 L79.6031 1246.3 Q81.6864 1247.43 83.9086 1247.99 Q86.1308 1248.55 88.6077 1248.55 Q92.6123 1248.55 94.9502 1246.44 Q97.2882 1244.33 97.2882 1240.72 Q97.2882 1237.11 94.9502 1235 Q92.6123 1232.9 88.6077 1232.9 Q86.7327 1232.9 84.8577 1233.31 Q83.0058 1233.73 81.0614 1234.61 L81.0614 1217.25 Z\" fill=\"#000000\" fill-rule=\"evenodd\" fill-opacity=\"1\" /><path clip-path=\"url(#clip520)\" d=\"M111.177 1245.93 L116.061 1245.93 L116.061 1251.81 L111.177 1251.81 L111.177 1245.93 Z\" fill=\"#000000\" fill-rule=\"evenodd\" fill-opacity=\"1\" /><path clip-path=\"url(#clip520)\" d=\"M136.246 1220.33 Q132.635 1220.33 130.807 1223.89 Q129.001 1227.43 129.001 1234.56 Q129.001 1241.67 130.807 1245.24 Q132.635 1248.78 136.246 1248.78 Q139.881 1248.78 141.686 1245.24 Q143.515 1241.67 143.515 1234.56 Q143.515 1227.43 141.686 1223.89 Q139.881 1220.33 136.246 1220.33 M136.246 1216.62 Q142.056 1216.62 145.112 1221.23 Q148.191 1225.81 148.191 1234.56 Q148.191 1243.29 145.112 1247.9 Q142.056 1252.48 136.246 1252.48 Q130.436 1252.48 127.357 1247.9 Q124.302 1243.29 124.302 1234.56 Q124.302 1225.81 127.357 1221.23 Q130.436 1216.62 136.246 1216.62 Z\" fill=\"#000000\" fill-rule=\"evenodd\" fill-opacity=\"1\" /><path clip-path=\"url(#clip520)\" d=\"M80.8299 939.373 L103.052 939.373 L103.052 941.364 L90.5058 973.933 L85.6216 973.933 L97.4271 943.308 L80.8299 943.308 L80.8299 939.373 Z\" fill=\"#000000\" fill-rule=\"evenodd\" fill-opacity=\"1\" /><path clip-path=\"url(#clip520)\" d=\"M112.172 968.054 L117.057 968.054 L117.057 973.933 L112.172 973.933 L112.172 968.054 Z\" fill=\"#000000\" fill-rule=\"evenodd\" fill-opacity=\"1\" /><path clip-path=\"url(#clip520)\" d=\"M127.288 939.373 L145.644 939.373 L145.644 943.308 L131.57 943.308 L131.57 951.78 Q132.589 951.433 133.607 951.271 Q134.626 951.086 135.644 951.086 Q141.431 951.086 144.811 954.257 Q148.191 957.429 148.191 962.845 Q148.191 968.424 144.718 971.526 Q141.246 974.604 134.927 974.604 Q132.751 974.604 130.482 974.234 Q128.237 973.864 125.83 973.123 L125.83 968.424 Q127.913 969.558 130.135 970.114 Q132.357 970.669 134.834 970.669 Q138.839 970.669 141.177 968.563 Q143.515 966.456 143.515 962.845 Q143.515 959.234 141.177 957.128 Q138.839 955.021 134.834 955.021 Q132.959 955.021 131.084 955.438 Q129.232 955.855 127.288 956.734 L127.288 939.373 Z\" fill=\"#000000\" fill-rule=\"evenodd\" fill-opacity=\"1\" /><path clip-path=\"url(#clip520)\" d=\"M51.6634 692.122 L59.3023 692.122 L59.3023 665.756 L50.9921 667.423 L50.9921 663.163 L59.256 661.497 L63.9319 661.497 L63.9319 692.122 L71.5707 692.122 L71.5707 696.057 L51.6634 696.057 L51.6634 692.122 Z\" fill=\"#000000\" fill-rule=\"evenodd\" fill-opacity=\"1\" /><path clip-path=\"url(#clip520)\" d=\"M91.0151 664.575 Q87.404 664.575 85.5753 668.14 Q83.7697 671.682 83.7697 678.811 Q83.7697 685.918 85.5753 689.483 Q87.404 693.024 91.0151 693.024 Q94.6493 693.024 96.4548 689.483 Q98.2835 685.918 98.2835 678.811 Q98.2835 671.682 96.4548 668.14 Q94.6493 664.575 91.0151 664.575 M91.0151 660.872 Q96.8252 660.872 99.8808 665.478 Q102.959 670.061 102.959 678.811 Q102.959 687.538 99.8808 692.145 Q96.8252 696.728 91.0151 696.728 Q85.2049 696.728 82.1262 692.145 Q79.0707 687.538 79.0707 678.811 Q79.0707 670.061 82.1262 665.478 Q85.2049 660.872 91.0151 660.872 Z\" fill=\"#000000\" fill-rule=\"evenodd\" fill-opacity=\"1\" /><path clip-path=\"url(#clip520)\" d=\"M111.177 690.177 L116.061 690.177 L116.061 696.057 L111.177 696.057 L111.177 690.177 Z\" fill=\"#000000\" fill-rule=\"evenodd\" fill-opacity=\"1\" /><path clip-path=\"url(#clip520)\" d=\"M136.246 664.575 Q132.635 664.575 130.807 668.14 Q129.001 671.682 129.001 678.811 Q129.001 685.918 130.807 689.483 Q132.635 693.024 136.246 693.024 Q139.881 693.024 141.686 689.483 Q143.515 685.918 143.515 678.811 Q143.515 671.682 141.686 668.14 Q139.881 664.575 136.246 664.575 M136.246 660.872 Q142.056 660.872 145.112 665.478 Q148.191 670.061 148.191 678.811 Q148.191 687.538 145.112 692.145 Q142.056 696.728 136.246 696.728 Q130.436 696.728 127.357 692.145 Q124.302 687.538 124.302 678.811 Q124.302 670.061 127.357 665.478 Q130.436 660.872 136.246 660.872 Z\" fill=\"#000000\" fill-rule=\"evenodd\" fill-opacity=\"1\" /><path clip-path=\"url(#clip520)\" d=\"M52.6588 414.245 L60.2976 414.245 L60.2976 387.879 L51.9875 389.546 L51.9875 385.287 L60.2513 383.62 L64.9272 383.62 L64.9272 414.245 L72.5661 414.245 L72.5661 418.18 L52.6588 418.18 L52.6588 414.245 Z\" fill=\"#000000\" fill-rule=\"evenodd\" fill-opacity=\"1\" /><path clip-path=\"url(#clip520)\" d=\"M86.0382 414.245 L102.358 414.245 L102.358 418.18 L80.4133 418.18 L80.4133 414.245 Q83.0753 411.49 87.6586 406.861 Q92.2651 402.208 93.4456 400.865 Q95.691 398.342 96.5706 396.606 Q97.4734 394.847 97.4734 393.157 Q97.4734 390.403 95.5289 388.666 Q93.6076 386.93 90.5058 386.93 Q88.3067 386.93 85.8531 387.694 Q83.4225 388.458 80.6447 390.009 L80.6447 385.287 Q83.4688 384.153 85.9225 383.574 Q88.3762 382.995 90.4132 382.995 Q95.7836 382.995 98.978 385.68 Q102.172 388.366 102.172 392.856 Q102.172 394.986 101.362 396.907 Q100.575 398.805 98.4687 401.398 Q97.89 402.069 94.7882 405.287 Q91.6864 408.481 86.0382 414.245 Z\" fill=\"#000000\" fill-rule=\"evenodd\" fill-opacity=\"1\" /><path clip-path=\"url(#clip520)\" d=\"M112.172 412.301 L117.057 412.301 L117.057 418.18 L112.172 418.18 L112.172 412.301 Z\" fill=\"#000000\" fill-rule=\"evenodd\" fill-opacity=\"1\" /><path clip-path=\"url(#clip520)\" d=\"M127.288 383.62 L145.644 383.62 L145.644 387.555 L131.57 387.555 L131.57 396.028 Q132.589 395.68 133.607 395.518 Q134.626 395.333 135.644 395.333 Q141.431 395.333 144.811 398.504 Q148.191 401.676 148.191 407.092 Q148.191 412.671 144.718 415.773 Q141.246 418.852 134.927 418.852 Q132.751 418.852 130.482 418.481 Q128.237 418.111 125.83 417.37 L125.83 412.671 Q127.913 413.805 130.135 414.361 Q132.357 414.916 134.834 414.916 Q138.839 414.916 141.177 412.81 Q143.515 410.703 143.515 407.092 Q143.515 403.481 141.177 401.375 Q138.839 399.268 134.834 399.268 Q132.959 399.268 131.084 399.685 Q129.232 400.102 127.288 400.981 L127.288 383.62 Z\" fill=\"#000000\" fill-rule=\"evenodd\" fill-opacity=\"1\" /><path clip-path=\"url(#clip520)\" d=\"M51.6634 136.369 L59.3023 136.369 L59.3023 110.003 L50.9921 111.67 L50.9921 107.41 L59.256 105.744 L63.9319 105.744 L63.9319 136.369 L71.5707 136.369 L71.5707 140.304 L51.6634 140.304 L51.6634 136.369 Z\" fill=\"#000000\" fill-rule=\"evenodd\" fill-opacity=\"1\" /><path clip-path=\"url(#clip520)\" d=\"M81.0614 105.744 L99.4178 105.744 L99.4178 109.679 L85.3438 109.679 L85.3438 118.151 Q86.3623 117.804 87.3808 117.642 Q88.3993 117.457 89.4178 117.457 Q95.2049 117.457 98.5845 120.628 Q101.964 123.799 101.964 129.216 Q101.964 134.795 98.4919 137.896 Q95.0197 140.975 88.7003 140.975 Q86.5243 140.975 84.2558 140.605 Q82.0105 140.234 79.6031 139.494 L79.6031 134.795 Q81.6864 135.929 83.9086 136.484 Q86.1308 137.04 88.6077 137.04 Q92.6123 137.04 94.9502 134.933 Q97.2882 132.827 97.2882 129.216 Q97.2882 125.605 94.9502 123.498 Q92.6123 121.392 88.6077 121.392 Q86.7327 121.392 84.8577 121.808 Q83.0058 122.225 81.0614 123.105 L81.0614 105.744 Z\" fill=\"#000000\" fill-rule=\"evenodd\" fill-opacity=\"1\" /><path clip-path=\"url(#clip520)\" d=\"M111.177 134.424 L116.061 134.424 L116.061 140.304 L111.177 140.304 L111.177 134.424 Z\" fill=\"#000000\" fill-rule=\"evenodd\" fill-opacity=\"1\" /><path clip-path=\"url(#clip520)\" d=\"M136.246 108.822 Q132.635 108.822 130.807 112.387 Q129.001 115.929 129.001 123.058 Q129.001 130.165 130.807 133.73 Q132.635 137.271 136.246 137.271 Q139.881 137.271 141.686 133.73 Q143.515 130.165 143.515 123.058 Q143.515 115.929 141.686 112.387 Q139.881 108.822 136.246 108.822 M136.246 105.119 Q142.056 105.119 145.112 109.725 Q148.191 114.309 148.191 123.058 Q148.191 131.785 145.112 136.392 Q142.056 140.975 136.246 140.975 Q130.436 140.975 127.357 136.392 Q124.302 131.785 124.302 123.058 Q124.302 114.309 127.357 109.725 Q130.436 105.119 136.246 105.119 Z\" fill=\"#000000\" fill-rule=\"evenodd\" fill-opacity=\"1\" /><polyline clip-path=\"url(#clip522)\" style=\"stroke:#009af9; stroke-linecap:round; stroke-linejoin:round; stroke-width:4; stroke-opacity:1; fill:none\" points=\"\n",
       "  245.565,1445.72 347.856,1390.14 450.147,1379.03 552.438,1334.57 654.728,1234.53 757.019,1301.22 859.31,1267.87 961.601,1201.18 1063.89,1167.84 1166.18,1190.07 \n",
       "  1268.47,1156.72 1370.76,1067.8 1473.05,1034.46 1575.35,1034.46 1677.64,1034.46 1779.93,966.945 1882.22,375.841 1984.51,309.017 2086.8,277.121 2189.09,87.9763 \n",
       "  2291.38,186.507 \n",
       "  \"/>\n",
       "<path clip-path=\"url(#clip520)\" d=\"\n",
       "M1987.09 198.898 L2280.47 198.898 L2280.47 95.2176 L1987.09 95.2176  Z\n",
       "  \" fill=\"#ffffff\" fill-rule=\"evenodd\" fill-opacity=\"1\"/>\n",
       "<polyline clip-path=\"url(#clip520)\" style=\"stroke:#000000; stroke-linecap:round; stroke-linejoin:round; stroke-width:4; stroke-opacity:1; fill:none\" points=\"\n",
       "  1987.09,198.898 2280.47,198.898 2280.47,95.2176 1987.09,95.2176 1987.09,198.898 \n",
       "  \"/>\n",
       "<polyline clip-path=\"url(#clip520)\" style=\"stroke:#009af9; stroke-linecap:round; stroke-linejoin:round; stroke-width:4; stroke-opacity:1; fill:none\" points=\"\n",
       "  2011.18,147.058 2155.75,147.058 \n",
       "  \"/>\n",
       "<path clip-path=\"url(#clip520)\" d=\"M2193.69 166.745 Q2191.89 171.375 2190.17 172.787 Q2188.46 174.199 2185.59 174.199 L2182.19 174.199 L2182.19 170.634 L2184.69 170.634 Q2186.45 170.634 2187.42 169.8 Q2188.39 168.967 2189.57 165.865 L2190.34 163.921 L2179.85 138.412 L2184.36 138.412 L2192.47 158.689 L2200.57 138.412 L2205.08 138.412 L2193.69 166.745 Z\" fill=\"#000000\" fill-rule=\"evenodd\" fill-opacity=\"1\" /><path clip-path=\"url(#clip520)\" d=\"M2212.37 160.402 L2220.01 160.402 L2220.01 134.037 L2211.7 135.703 L2211.7 131.444 L2219.97 129.778 L2224.64 129.778 L2224.64 160.402 L2232.28 160.402 L2232.28 164.338 L2212.37 164.338 L2212.37 160.402 Z\" fill=\"#000000\" fill-rule=\"evenodd\" fill-opacity=\"1\" /></svg>\n"
      ]
     },
     "execution_count": 19,
     "metadata": {},
     "output_type": "execute_result"
    }
   ],
   "source": [
    "plot(A)"
   ]
  },
  {
   "cell_type": "markdown",
   "id": "3e8fb848",
   "metadata": {},
   "source": [
    "### 9.4.2 Experimentación en el tiempo de ejecución (Recursivo)"
   ]
  },
  {
   "cell_type": "markdown",
   "id": "3720d308",
   "metadata": {},
   "source": [
    "Vamos a realizar 20 ejecuciones del algoritmo con valores entre 0 y 19 para verificar que el tiempo de ejecucion sea una funcion lineal.\n",
    "Ademas imprimiremos los puntos $(n, time)$ para poder visualizar mejor los resultados optenidos."
   ]
  },
  {
   "cell_type": "code",
   "execution_count": 20,
   "id": "4c58c98d",
   "metadata": {},
   "outputs": [
    {
     "data": {
      "text/plain": [
       "20-element Vector{Float64}:\n",
       "  2.3\n",
       "  4.1\n",
       "  5.3\n",
       "  6.806806806806807\n",
       "  8.308308308308309\n",
       "  9.60960960960961\n",
       " 10.91091091091091\n",
       " 12.525050100200401\n",
       " 13.927855711422845\n",
       " 18.455366098294885\n",
       " 20.481927710843372\n",
       " 22.91457286432161\n",
       " 24.92462311557789\n",
       " 27.16297786720322\n",
       " 29.204431017119838\n",
       " 31.218529707955692\n",
       " 34.20787083753784\n",
       " 35.21695257315842\n",
       " 36.93239152371342\n",
       " 39.23154701718908"
      ]
     },
     "execution_count": 20,
     "metadata": {},
     "output_type": "execute_result"
    }
   ],
   "source": [
    "A = [@belapsed Fact_R($i) for i in 0:19] * 10^9"
   ]
  },
  {
   "cell_type": "code",
   "execution_count": 21,
   "id": "76e27df4",
   "metadata": {},
   "outputs": [
    {
     "data": {
      "image/svg+xml": [
       "<?xml version=\"1.0\" encoding=\"utf-8\"?>\n",
       "<svg xmlns=\"http://www.w3.org/2000/svg\" xmlns:xlink=\"http://www.w3.org/1999/xlink\" width=\"600\" height=\"400\" viewBox=\"0 0 2400 1600\">\n",
       "<defs>\n",
       "  <clipPath id=\"clip560\">\n",
       "    <rect x=\"0\" y=\"0\" width=\"2400\" height=\"1600\"/>\n",
       "  </clipPath>\n",
       "</defs>\n",
       "<path clip-path=\"url(#clip560)\" d=\"\n",
       "M0 1600 L2400 1600 L2400 0 L0 0  Z\n",
       "  \" fill=\"#ffffff\" fill-rule=\"evenodd\" fill-opacity=\"1\"/>\n",
       "<defs>\n",
       "  <clipPath id=\"clip561\">\n",
       "    <rect x=\"480\" y=\"0\" width=\"1681\" height=\"1600\"/>\n",
       "  </clipPath>\n",
       "</defs>\n",
       "<path clip-path=\"url(#clip560)\" d=\"\n",
       "M141.853 1486.45 L2352.76 1486.45 L2352.76 47.2441 L141.853 47.2441  Z\n",
       "  \" fill=\"#ffffff\" fill-rule=\"evenodd\" fill-opacity=\"1\"/>\n",
       "<defs>\n",
       "  <clipPath id=\"clip562\">\n",
       "    <rect x=\"141\" y=\"47\" width=\"2212\" height=\"1440\"/>\n",
       "  </clipPath>\n",
       "</defs>\n",
       "<polyline clip-path=\"url(#clip562)\" style=\"stroke:#000000; stroke-linecap:round; stroke-linejoin:round; stroke-width:2; stroke-opacity:0.1; fill:none\" points=\"\n",
       "  643.533,1486.45 643.533,47.2441 \n",
       "  \"/>\n",
       "<polyline clip-path=\"url(#clip562)\" style=\"stroke:#000000; stroke-linecap:round; stroke-linejoin:round; stroke-width:2; stroke-opacity:0.1; fill:none\" points=\"\n",
       "  1192.42,1486.45 1192.42,47.2441 \n",
       "  \"/>\n",
       "<polyline clip-path=\"url(#clip562)\" style=\"stroke:#000000; stroke-linecap:round; stroke-linejoin:round; stroke-width:2; stroke-opacity:0.1; fill:none\" points=\"\n",
       "  1741.3,1486.45 1741.3,47.2441 \n",
       "  \"/>\n",
       "<polyline clip-path=\"url(#clip562)\" style=\"stroke:#000000; stroke-linecap:round; stroke-linejoin:round; stroke-width:2; stroke-opacity:0.1; fill:none\" points=\"\n",
       "  2290.18,1486.45 2290.18,47.2441 \n",
       "  \"/>\n",
       "<polyline clip-path=\"url(#clip560)\" style=\"stroke:#000000; stroke-linecap:round; stroke-linejoin:round; stroke-width:4; stroke-opacity:1; fill:none\" points=\"\n",
       "  141.853,1486.45 2352.76,1486.45 \n",
       "  \"/>\n",
       "<polyline clip-path=\"url(#clip560)\" style=\"stroke:#000000; stroke-linecap:round; stroke-linejoin:round; stroke-width:4; stroke-opacity:1; fill:none\" points=\"\n",
       "  643.533,1486.45 643.533,1467.55 \n",
       "  \"/>\n",
       "<polyline clip-path=\"url(#clip560)\" style=\"stroke:#000000; stroke-linecap:round; stroke-linejoin:round; stroke-width:4; stroke-opacity:1; fill:none\" points=\"\n",
       "  1192.42,1486.45 1192.42,1467.55 \n",
       "  \"/>\n",
       "<polyline clip-path=\"url(#clip560)\" style=\"stroke:#000000; stroke-linecap:round; stroke-linejoin:round; stroke-width:4; stroke-opacity:1; fill:none\" points=\"\n",
       "  1741.3,1486.45 1741.3,1467.55 \n",
       "  \"/>\n",
       "<polyline clip-path=\"url(#clip560)\" style=\"stroke:#000000; stroke-linecap:round; stroke-linejoin:round; stroke-width:4; stroke-opacity:1; fill:none\" points=\"\n",
       "  2290.18,1486.45 2290.18,1467.55 \n",
       "  \"/>\n",
       "<path clip-path=\"url(#clip560)\" d=\"M633.81 1514.29 L652.167 1514.29 L652.167 1518.22 L638.093 1518.22 L638.093 1526.7 Q639.111 1526.35 640.13 1526.19 Q641.148 1526 642.167 1526 Q647.954 1526 651.333 1529.17 Q654.713 1532.34 654.713 1537.76 Q654.713 1543.34 651.241 1546.44 Q647.769 1549.52 641.449 1549.52 Q639.273 1549.52 637.005 1549.15 Q634.759 1548.78 632.352 1548.04 L632.352 1543.34 Q634.435 1544.47 636.658 1545.03 Q638.88 1545.58 641.357 1545.58 Q645.361 1545.58 647.699 1543.48 Q650.037 1541.37 650.037 1537.76 Q650.037 1534.15 647.699 1532.04 Q645.361 1529.94 641.357 1529.94 Q639.482 1529.94 637.607 1530.35 Q635.755 1530.77 633.81 1531.65 L633.81 1514.29 Z\" fill=\"#000000\" fill-rule=\"evenodd\" fill-opacity=\"1\" /><path clip-path=\"url(#clip560)\" d=\"M1167.1 1544.91 L1174.74 1544.91 L1174.74 1518.55 L1166.43 1520.21 L1166.43 1515.95 L1174.7 1514.29 L1179.37 1514.29 L1179.37 1544.91 L1187.01 1544.91 L1187.01 1548.85 L1167.1 1548.85 L1167.1 1544.91 Z\" fill=\"#000000\" fill-rule=\"evenodd\" fill-opacity=\"1\" /><path clip-path=\"url(#clip560)\" d=\"M1206.46 1517.37 Q1202.84 1517.37 1201.02 1520.93 Q1199.21 1524.47 1199.21 1531.6 Q1199.21 1538.71 1201.02 1542.27 Q1202.84 1545.82 1206.46 1545.82 Q1210.09 1545.82 1211.9 1542.27 Q1213.72 1538.71 1213.72 1531.6 Q1213.72 1524.47 1211.9 1520.93 Q1210.09 1517.37 1206.46 1517.37 M1206.46 1513.66 Q1212.27 1513.66 1215.32 1518.27 Q1218.4 1522.85 1218.4 1531.6 Q1218.4 1540.33 1215.32 1544.94 Q1212.27 1549.52 1206.46 1549.52 Q1200.65 1549.52 1197.57 1544.94 Q1194.51 1540.33 1194.51 1531.6 Q1194.51 1522.85 1197.57 1518.27 Q1200.65 1513.66 1206.46 1513.66 Z\" fill=\"#000000\" fill-rule=\"evenodd\" fill-opacity=\"1\" /><path clip-path=\"url(#clip560)\" d=\"M1716.48 1544.91 L1724.12 1544.91 L1724.12 1518.55 L1715.81 1520.21 L1715.81 1515.95 L1724.08 1514.29 L1728.75 1514.29 L1728.75 1544.91 L1736.39 1544.91 L1736.39 1548.85 L1716.48 1548.85 L1716.48 1544.91 Z\" fill=\"#000000\" fill-rule=\"evenodd\" fill-opacity=\"1\" /><path clip-path=\"url(#clip560)\" d=\"M1745.88 1514.29 L1764.24 1514.29 L1764.24 1518.22 L1750.17 1518.22 L1750.17 1526.7 Q1751.18 1526.35 1752.2 1526.19 Q1753.22 1526 1754.24 1526 Q1760.03 1526 1763.41 1529.17 Q1766.79 1532.34 1766.79 1537.76 Q1766.79 1543.34 1763.31 1546.44 Q1759.84 1549.52 1753.52 1549.52 Q1751.35 1549.52 1749.08 1549.15 Q1746.83 1548.78 1744.42 1548.04 L1744.42 1543.34 Q1746.51 1544.47 1748.73 1545.03 Q1750.95 1545.58 1753.43 1545.58 Q1757.43 1545.58 1759.77 1543.48 Q1762.11 1541.37 1762.11 1537.76 Q1762.11 1534.15 1759.77 1532.04 Q1757.43 1529.94 1753.43 1529.94 Q1751.55 1529.94 1749.68 1530.35 Q1747.83 1530.77 1745.88 1531.65 L1745.88 1514.29 Z\" fill=\"#000000\" fill-rule=\"evenodd\" fill-opacity=\"1\" /><path clip-path=\"url(#clip560)\" d=\"M2268.96 1544.91 L2285.28 1544.91 L2285.28 1548.85 L2263.33 1548.85 L2263.33 1544.91 Q2265.99 1542.16 2270.58 1537.53 Q2275.18 1532.88 2276.36 1531.53 Q2278.61 1529.01 2279.49 1527.27 Q2280.39 1525.51 2280.39 1523.82 Q2280.39 1521.07 2278.45 1519.33 Q2276.53 1517.6 2273.42 1517.6 Q2271.22 1517.6 2268.77 1518.36 Q2266.34 1519.13 2263.56 1520.68 L2263.56 1515.95 Q2266.39 1514.82 2268.84 1514.24 Q2271.29 1513.66 2273.33 1513.66 Q2278.7 1513.66 2281.9 1516.35 Q2285.09 1519.03 2285.09 1523.52 Q2285.09 1525.65 2284.28 1527.57 Q2283.49 1529.47 2281.39 1532.07 Q2280.81 1532.74 2277.71 1535.95 Q2274.6 1539.15 2268.96 1544.91 Z\" fill=\"#000000\" fill-rule=\"evenodd\" fill-opacity=\"1\" /><path clip-path=\"url(#clip560)\" d=\"M2305.09 1517.37 Q2301.48 1517.37 2299.65 1520.93 Q2297.85 1524.47 2297.85 1531.6 Q2297.85 1538.71 2299.65 1542.27 Q2301.48 1545.82 2305.09 1545.82 Q2308.72 1545.82 2310.53 1542.27 Q2312.36 1538.71 2312.36 1531.6 Q2312.36 1524.47 2310.53 1520.93 Q2308.72 1517.37 2305.09 1517.37 M2305.09 1513.66 Q2310.9 1513.66 2313.96 1518.27 Q2317.03 1522.85 2317.03 1531.6 Q2317.03 1540.33 2313.96 1544.94 Q2310.9 1549.52 2305.09 1549.52 Q2299.28 1549.52 2296.2 1544.94 Q2293.15 1540.33 2293.15 1531.6 Q2293.15 1522.85 2296.2 1518.27 Q2299.28 1513.66 2305.09 1513.66 Z\" fill=\"#000000\" fill-rule=\"evenodd\" fill-opacity=\"1\" /><polyline clip-path=\"url(#clip562)\" style=\"stroke:#000000; stroke-linecap:round; stroke-linejoin:round; stroke-width:2; stroke-opacity:0.1; fill:none\" points=\"\n",
       "  141.853,1162.64 2352.76,1162.64 \n",
       "  \"/>\n",
       "<polyline clip-path=\"url(#clip562)\" style=\"stroke:#000000; stroke-linecap:round; stroke-linejoin:round; stroke-width:2; stroke-opacity:0.1; fill:none\" points=\"\n",
       "  141.853,794.999 2352.76,794.999 \n",
       "  \"/>\n",
       "<polyline clip-path=\"url(#clip562)\" style=\"stroke:#000000; stroke-linecap:round; stroke-linejoin:round; stroke-width:2; stroke-opacity:0.1; fill:none\" points=\"\n",
       "  141.853,427.362 2352.76,427.362 \n",
       "  \"/>\n",
       "<polyline clip-path=\"url(#clip562)\" style=\"stroke:#000000; stroke-linecap:round; stroke-linejoin:round; stroke-width:2; stroke-opacity:0.1; fill:none\" points=\"\n",
       "  141.853,59.7251 2352.76,59.7251 \n",
       "  \"/>\n",
       "<polyline clip-path=\"url(#clip560)\" style=\"stroke:#000000; stroke-linecap:round; stroke-linejoin:round; stroke-width:4; stroke-opacity:1; fill:none\" points=\"\n",
       "  141.853,1486.45 141.853,47.2441 \n",
       "  \"/>\n",
       "<polyline clip-path=\"url(#clip560)\" style=\"stroke:#000000; stroke-linecap:round; stroke-linejoin:round; stroke-width:4; stroke-opacity:1; fill:none\" points=\"\n",
       "  141.853,1162.64 160.751,1162.64 \n",
       "  \"/>\n",
       "<polyline clip-path=\"url(#clip560)\" style=\"stroke:#000000; stroke-linecap:round; stroke-linejoin:round; stroke-width:4; stroke-opacity:1; fill:none\" points=\"\n",
       "  141.853,794.999 160.751,794.999 \n",
       "  \"/>\n",
       "<polyline clip-path=\"url(#clip560)\" style=\"stroke:#000000; stroke-linecap:round; stroke-linejoin:round; stroke-width:4; stroke-opacity:1; fill:none\" points=\"\n",
       "  141.853,427.362 160.751,427.362 \n",
       "  \"/>\n",
       "<polyline clip-path=\"url(#clip560)\" style=\"stroke:#000000; stroke-linecap:round; stroke-linejoin:round; stroke-width:4; stroke-opacity:1; fill:none\" points=\"\n",
       "  141.853,59.7251 160.751,59.7251 \n",
       "  \"/>\n",
       "<path clip-path=\"url(#clip560)\" d=\"M54.5569 1175.98 L62.1958 1175.98 L62.1958 1149.61 L53.8856 1151.28 L53.8856 1147.02 L62.1495 1145.36 L66.8254 1145.36 L66.8254 1175.98 L74.4642 1175.98 L74.4642 1179.92 L54.5569 1179.92 L54.5569 1175.98 Z\" fill=\"#000000\" fill-rule=\"evenodd\" fill-opacity=\"1\" /><path clip-path=\"url(#clip560)\" d=\"M93.9086 1148.43 Q90.2975 1148.43 88.4688 1152 Q86.6632 1155.54 86.6632 1162.67 Q86.6632 1169.78 88.4688 1173.34 Q90.2975 1176.88 93.9086 1176.88 Q97.5428 1176.88 99.3483 1173.34 Q101.177 1169.78 101.177 1162.67 Q101.177 1155.54 99.3483 1152 Q97.5428 1148.43 93.9086 1148.43 M93.9086 1144.73 Q99.7187 1144.73 102.774 1149.34 Q105.853 1153.92 105.853 1162.67 Q105.853 1171.4 102.774 1176 Q99.7187 1180.59 93.9086 1180.59 Q88.0984 1180.59 85.0197 1176 Q81.9642 1171.4 81.9642 1162.67 Q81.9642 1153.92 85.0197 1149.34 Q88.0984 1144.73 93.9086 1144.73 Z\" fill=\"#000000\" fill-rule=\"evenodd\" fill-opacity=\"1\" /><path clip-path=\"url(#clip560)\" d=\"M57.7745 808.343 L74.0939 808.343 L74.0939 812.279 L52.1495 812.279 L52.1495 808.343 Q54.8115 805.589 59.3949 800.959 Q64.0013 796.306 65.1819 794.964 Q67.4272 792.441 68.3068 790.705 Q69.2096 788.945 69.2096 787.256 Q69.2096 784.501 67.2652 782.765 Q65.3439 781.029 62.2421 781.029 Q60.043 781.029 57.5893 781.793 Q55.1588 782.557 52.381 784.107 L52.381 779.385 Q55.2051 778.251 57.6588 777.672 Q60.1124 777.094 62.1495 777.094 Q67.5198 777.094 70.7142 779.779 Q73.9087 782.464 73.9087 786.955 Q73.9087 789.084 73.0985 791.006 Q72.3115 792.904 70.205 795.496 Q69.6263 796.168 66.5245 799.385 Q63.4226 802.58 57.7745 808.343 Z\" fill=\"#000000\" fill-rule=\"evenodd\" fill-opacity=\"1\" /><path clip-path=\"url(#clip560)\" d=\"M93.9086 780.797 Q90.2975 780.797 88.4688 784.362 Q86.6632 787.904 86.6632 795.033 Q86.6632 802.14 88.4688 805.705 Q90.2975 809.246 93.9086 809.246 Q97.5428 809.246 99.3483 805.705 Q101.177 802.14 101.177 795.033 Q101.177 787.904 99.3483 784.362 Q97.5428 780.797 93.9086 780.797 M93.9086 777.094 Q99.7187 777.094 102.774 781.7 Q105.853 786.283 105.853 795.033 Q105.853 803.76 102.774 808.367 Q99.7187 812.95 93.9086 812.95 Q88.0984 812.95 85.0197 808.367 Q81.9642 803.76 81.9642 795.033 Q81.9642 786.283 85.0197 781.7 Q88.0984 777.094 93.9086 777.094 Z\" fill=\"#000000\" fill-rule=\"evenodd\" fill-opacity=\"1\" /><path clip-path=\"url(#clip560)\" d=\"M67.9133 426.008 Q71.2698 426.725 73.1448 428.994 Q75.0429 431.262 75.0429 434.596 Q75.0429 439.711 71.5244 442.512 Q68.0059 445.313 61.5245 445.313 Q59.3486 445.313 57.0338 444.873 Q54.7421 444.457 52.2884 443.6 L52.2884 439.086 Q54.2328 440.221 56.5477 440.799 Q58.8625 441.378 61.3856 441.378 Q65.7837 441.378 68.0754 439.642 Q70.3902 437.906 70.3902 434.596 Q70.3902 431.54 68.2374 429.827 Q66.1078 428.091 62.2884 428.091 L58.2606 428.091 L58.2606 424.248 L62.4735 424.248 Q65.9226 424.248 67.7513 422.883 Q69.58 421.494 69.58 418.901 Q69.58 416.239 67.6819 414.827 Q65.8069 413.392 62.2884 413.392 Q60.3671 413.392 58.168 413.809 Q55.969 414.225 53.3301 415.105 L53.3301 410.938 Q55.9921 410.198 58.3069 409.827 Q60.6449 409.457 62.705 409.457 Q68.0291 409.457 71.1309 411.887 Q74.2327 414.295 74.2327 418.415 Q74.2327 421.286 72.5892 423.276 Q70.9457 425.244 67.9133 426.008 Z\" fill=\"#000000\" fill-rule=\"evenodd\" fill-opacity=\"1\" /><path clip-path=\"url(#clip560)\" d=\"M93.9086 413.161 Q90.2975 413.161 88.4688 416.725 Q86.6632 420.267 86.6632 427.397 Q86.6632 434.503 88.4688 438.068 Q90.2975 441.609 93.9086 441.609 Q97.5428 441.609 99.3483 438.068 Q101.177 434.503 101.177 427.397 Q101.177 420.267 99.3483 416.725 Q97.5428 413.161 93.9086 413.161 M93.9086 409.457 Q99.7187 409.457 102.774 414.063 Q105.853 418.647 105.853 427.397 Q105.853 436.123 102.774 440.73 Q99.7187 445.313 93.9086 445.313 Q88.0984 445.313 85.0197 440.73 Q81.9642 436.123 81.9642 427.397 Q81.9642 418.647 85.0197 414.063 Q88.0984 409.457 93.9086 409.457 Z\" fill=\"#000000\" fill-rule=\"evenodd\" fill-opacity=\"1\" /><path clip-path=\"url(#clip560)\" d=\"M66.5939 46.5192 L54.7884 64.9681 L66.5939 64.9681 L66.5939 46.5192 M65.367 42.4451 L71.2466 42.4451 L71.2466 64.9681 L76.1772 64.9681 L76.1772 68.857 L71.2466 68.857 L71.2466 77.0051 L66.5939 77.0051 L66.5939 68.857 L50.9921 68.857 L50.9921 64.3432 L65.367 42.4451 Z\" fill=\"#000000\" fill-rule=\"evenodd\" fill-opacity=\"1\" /><path clip-path=\"url(#clip560)\" d=\"M93.9086 45.5238 Q90.2975 45.5238 88.4688 49.0886 Q86.6632 52.6303 86.6632 59.7598 Q86.6632 66.8663 88.4688 70.4311 Q90.2975 73.9727 93.9086 73.9727 Q97.5428 73.9727 99.3483 70.4311 Q101.177 66.8663 101.177 59.7598 Q101.177 52.6303 99.3483 49.0886 Q97.5428 45.5238 93.9086 45.5238 M93.9086 41.8201 Q99.7187 41.8201 102.774 46.4266 Q105.853 51.0099 105.853 59.7598 Q105.853 68.4866 102.774 73.0931 Q99.7187 77.6764 93.9086 77.6764 Q88.0984 77.6764 85.0197 73.0931 Q81.9642 68.4866 81.9642 59.7598 Q81.9642 51.0099 85.0197 46.4266 Q88.0984 41.8201 93.9086 41.8201 Z\" fill=\"#000000\" fill-rule=\"evenodd\" fill-opacity=\"1\" /><polyline clip-path=\"url(#clip562)\" style=\"stroke:#009af9; stroke-linecap:round; stroke-linejoin:round; stroke-width:4; stroke-opacity:1; fill:none\" points=\"\n",
       "  204.426,1445.72 314.202,1379.54 423.979,1335.42 533.756,1280.03 643.533,1224.83 753.309,1176.99 863.086,1129.15 972.863,1069.81 1082.64,1018.23 1192.42,851.785 \n",
       "  1302.19,777.281 1411.97,687.848 1521.75,613.951 1631.52,531.661 1741.3,456.61 1851.08,382.564 1960.85,272.665 2070.63,235.568 2180.41,172.502 2290.18,87.9763 \n",
       "  \n",
       "  \"/>\n",
       "<path clip-path=\"url(#clip560)\" d=\"\n",
       "M1980.97 198.898 L2279.06 198.898 L2279.06 95.2176 L1980.97 95.2176  Z\n",
       "  \" fill=\"#ffffff\" fill-rule=\"evenodd\" fill-opacity=\"1\"/>\n",
       "<polyline clip-path=\"url(#clip560)\" style=\"stroke:#000000; stroke-linecap:round; stroke-linejoin:round; stroke-width:4; stroke-opacity:1; fill:none\" points=\"\n",
       "  1980.97,198.898 2279.06,198.898 2279.06,95.2176 1980.97,95.2176 1980.97,198.898 \n",
       "  \"/>\n",
       "<polyline clip-path=\"url(#clip560)\" style=\"stroke:#009af9; stroke-linecap:round; stroke-linejoin:round; stroke-width:4; stroke-opacity:1; fill:none\" points=\"\n",
       "  2005.54,147.058 2152.93,147.058 \n",
       "  \"/>\n",
       "<path clip-path=\"url(#clip560)\" d=\"M2191.34 166.745 Q2189.53 171.375 2187.82 172.787 Q2186.11 174.199 2183.24 174.199 L2179.84 174.199 L2179.84 170.634 L2182.34 170.634 Q2184.09 170.634 2185.07 169.8 Q2186.04 168.967 2187.22 165.865 L2187.98 163.921 L2177.5 138.412 L2182.01 138.412 L2190.11 158.689 L2198.22 138.412 L2202.73 138.412 L2191.34 166.745 Z\" fill=\"#000000\" fill-rule=\"evenodd\" fill-opacity=\"1\" /><path clip-path=\"url(#clip560)\" d=\"M2210.02 160.402 L2217.66 160.402 L2217.66 134.037 L2209.35 135.703 L2209.35 131.444 L2217.61 129.778 L2222.29 129.778 L2222.29 160.402 L2229.93 160.402 L2229.93 164.338 L2210.02 164.338 L2210.02 160.402 Z\" fill=\"#000000\" fill-rule=\"evenodd\" fill-opacity=\"1\" /></svg>\n"
      ]
     },
     "execution_count": 21,
     "metadata": {},
     "output_type": "execute_result"
    }
   ],
   "source": [
    "plot(A)"
   ]
  },
  {
   "cell_type": "code",
   "execution_count": null,
   "id": "a960c72c",
   "metadata": {},
   "outputs": [],
   "source": []
  }
 ],
 "metadata": {
  "kernelspec": {
   "display_name": "Julia 1.7.3",
   "language": "julia",
   "name": "julia-1.7"
  },
  "language_info": {
   "file_extension": ".jl",
   "mimetype": "application/julia",
   "name": "julia",
   "version": "1.7.3"
  }
 },
 "nbformat": 4,
 "nbformat_minor": 5
}
