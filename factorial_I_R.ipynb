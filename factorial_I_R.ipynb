{
 "cells": [
  {
   "cell_type": "markdown",
   "id": "d5361954",
   "metadata": {},
   "source": [
    "## 9 Factorial"
   ]
  },
  {
   "cell_type": "markdown",
   "id": "20ccd617",
   "metadata": {},
   "source": [
    "Estos algoritmos calculan el factorial de un numero n de forma iterativa y recursiva."
   ]
  },
  {
   "cell_type": "markdown",
   "id": "65cef87a",
   "metadata": {},
   "source": [
    "### 9.1.1 Algoritmo Iterativo"
   ]
  },
  {
   "cell_type": "code",
   "execution_count": 5,
   "id": "c5d258c2",
   "metadata": {
    "scrolled": false
   },
   "outputs": [
    {
     "data": {
      "text/plain": [
       "Fact_I (generic function with 1 method)"
      ]
     },
     "metadata": {},
     "output_type": "display_data"
    }
   ],
   "source": [
    "function Fact_I(n::Int64)::Int64\n",
    "    x::Int64 = 1\n",
    "    for i::Int64 in 1:n\n",
    "        x = x * i \n",
    "    end\n",
    "    return x \n",
    "end"
   ]
  },
  {
   "cell_type": "markdown",
   "id": "f1dcb9fd",
   "metadata": {},
   "source": [
    "### 9.1.2 Algoritmo Recursivo"
   ]
  },
  {
   "cell_type": "code",
   "execution_count": 6,
   "id": "463c3329",
   "metadata": {},
   "outputs": [
    {
     "data": {
      "text/plain": [
       "Fact_R (generic function with 1 method)"
      ]
     },
     "metadata": {},
     "output_type": "display_data"
    }
   ],
   "source": [
    "function Fact_R(n::Int64)::Int64\n",
    "    if n == 0\n",
    "        return 1\n",
    "    else\n",
    "        return n * Fact_R(n - 1)\n",
    "    end\n",
    "end"
   ]
  },
  {
   "cell_type": "markdown",
   "id": "3ab3dde0",
   "metadata": {},
   "source": [
    "### 9.2.1Verificación (Iterativo)"
   ]
  },
  {
   "cell_type": "code",
   "execution_count": 7,
   "id": "e0ccb2ba",
   "metadata": {},
   "outputs": [
    {
     "name": "stdout",
     "output_type": "stream",
     "text": [
      "1\n",
      "120\n",
      "3628800\n",
      "1307674368000\n",
      "2432902008176640000\n"
     ]
    }
   ],
   "source": [
    "println(Fact_I(0))\n",
    "println(Fact_I(5))\n",
    "println(Fact_I(10))\n",
    "println(Fact_I(15))\n",
    "println(Fact_I(20))"
   ]
  },
  {
   "cell_type": "code",
   "execution_count": 8,
   "id": "975fc2b4",
   "metadata": {
    "scrolled": true
   },
   "outputs": [
    {
     "name": "stdout",
     "output_type": "stream",
     "text": [
      "1\n",
      "120\n",
      "3628800\n",
      "1307674368000\n",
      "2432902008176640000\n"
     ]
    }
   ],
   "source": [
    "println(Fact_R(0))\n",
    "println(Fact_R(5))\n",
    "println(Fact_R(10))\n",
    "println(Fact_R(15))\n",
    "println(Fact_R(20))"
   ]
  },
  {
   "cell_type": "markdown",
   "id": "96cec8e2",
   "metadata": {},
   "source": [
    "### 9.3.1 Análisis del tiempo de ejecución (Iterativo)"
   ]
  },
  {
   "cell_type": "markdown",
   "id": "7debac55",
   "metadata": {},
   "source": [
    "Para el analisis solo necesitamos prestar atencion a las lineas 2-4 ya que la 1 y la 5 tendran complejidad $\\Theta(1)$ sin importar el valor de $n$.\n",
    "El for-loop de las lineas 2-4 se ejecuta siempre $n$ veces, su cuerpo tiene una sola instruccion con complejidad $\\Theta(1)$. Por lo tanto la complejidad del algoritmo sera $\\Theta(n)$."
   ]
  },
  {
   "cell_type": "markdown",
   "id": "91d9eca6",
   "metadata": {},
   "source": [
    "### 9.3.2 Análisis del tiempo de ejecución (Recursivo)"
   ]
  },
  {
   "cell_type": "markdown",
   "id": "0ec268b9",
   "metadata": {},
   "source": [
    "Podemos ver que el tiempo de ejecucion es igual a $T(n) = T(n-1) + 1$.\n",
    "\n",
    "Asumamos que $T(n-1) \\leq c(n-1) + d$, sustituyendo\n",
    "\n",
    "$T(n) \\leq c(n-1) + d + 1$\n",
    "\n",
    "$T(n) \\leq cn - c + d + 1$\n",
    "\n",
    "$T(n) \\leq cn + d + (1-c)$\n",
    "\n",
    "$T(n) \\leq cn + d$\n",
    "\n",
    "Por lo tanto concluimos que $T(n) = O(n)$"
   ]
  },
  {
   "cell_type": "markdown",
   "id": "7a6c8cd0",
   "metadata": {},
   "source": [
    "### 9.4.1 Experimentación en el tiempo de ejecución (Iterativo)"
   ]
  },
  {
   "cell_type": "code",
   "execution_count": 9,
   "id": "fbd85fc6",
   "metadata": {},
   "outputs": [],
   "source": [
    "using BenchmarkTools\n",
    "using Plots"
   ]
  },
  {
   "cell_type": "markdown",
   "id": "a3eef81a",
   "metadata": {},
   "source": [
    "Vamos a realizar 20 ejecuciones del algoritmo con valores entre 0 y 19 para verificar que el tiempo de ejecucion sea una funcion lineal.\n",
    "Ademas imprimiremos los puntos $(n, time)$ para poder visualizar mejor los resultados optenidos."
   ]
  },
  {
   "cell_type": "code",
   "execution_count": 10,
   "id": "de7c8173",
   "metadata": {
    "scrolled": false
   },
   "outputs": [
    {
     "data": {
      "text/plain": [
       "21-element Vector{Float64}:\n",
       "  3.3\n",
       "  4.1\n",
       "  4.0\n",
       "  4.7\n",
       "  5.7\n",
       "  4.7\n",
       "  5.3\n",
       "  5.8\n",
       "  6.1\n",
       "  6.0\n",
       "  ⋮\n",
       "  7.2\n",
       "  7.4\n",
       "  8.008008008008009\n",
       "  7.8999999999999995\n",
       " 13.5\n",
       " 15.115115115115117\n",
       " 14.428857715430862\n",
       " 14.929859719438875\n",
       " 15.045135406218655"
      ]
     },
     "metadata": {},
     "output_type": "display_data"
    }
   ],
   "source": [
    "A = [@belapsed Fact_I($i) for i in 0:20] * 10^9"
   ]
  },
  {
   "cell_type": "code",
   "execution_count": 11,
   "id": "078cca73",
   "metadata": {
    "scrolled": false
   },
   "outputs": [
    {
     "data": {
      "image/png": "[encoded data removed]",
      "image/svg+xml": "<?xml version=\"1.0\" encoding=\"utf-8\"?>\n<svg xmlns=\"http://www.w3.org/2000/svg\" xmlns:xlink=\"http://www.w3.org/1999/xlink\" width=\"600\" height=\"400\" viewBox=\"0 0 2400 1600\">\n<defs>\n  <clipPath id=\"clip630\">\n    <rect x=\"0\" y=\"0\" width=\"2400\" height=\"1600\"/>\n  </clipPath>\n</defs>\n<path clip-path=\"url(#clip630)\" d=\"\nM0 1600 L2400 1600 L2400 0 L0 0  Z\n  \" fill=\"#ffffff\" fill-rule=\"evenodd\" fill-opacity=\"1\"/>\n<defs>\n  <clipPath id=\"clip631\">\n    <rect x=\"480\" y=\"0\" width=\"1681\" height=\"1600\"/>\n  </clipPath>\n</defs>\n<path clip-path=\"url(#clip630)\" d=\"\nM184.191 1486.45 L2352.76 1486.45 L2352.76 47.2441 L184.191 47.2441  Z\n  \" fill=\"#ffffff\" fill-rule=\"evenodd\" fill-opacity=\"1\"/>\n<defs>\n  <clipPath id=\"clip632\">\n    <rect x=\"184\" y=\"47\" width=\"2170\" height=\"1440\"/>\n  </clipPath>\n</defs>\n<polyline clip-path=\"url(#clip632)\" style=\"stroke:#000000; stroke-linecap:round; stroke-linejoin:round; stroke-width:2; stroke-opacity:0.1; fill:none\" points=\"\n  654.728,1486.45 654.728,47.2441 \n  \"/>\n<polyline clip-path=\"url(#clip632)\" style=\"stroke:#000000; stroke-linecap:round; stroke-linejoin:round; stroke-width:2; stroke-opacity:0.1; fill:none\" points=\"\n  1166.18,1486.45 1166.18,47.2441 \n  \"/>\n<polyline clip-path=\"url(#clip632)\" style=\"stroke:#000000; stroke-linecap:round; stroke-linejoin:round; stroke-width:2; stroke-opacity:0.1; fill:none\" points=\"\n  1677.64,1486.45 1677.64,47.2441 \n  \"/>\n<polyline clip-path=\"url(#clip632)\" style=\"stroke:#000000; stroke-linecap:round; stroke-linejoin:round; stroke-width:2; stroke-opacity:0.1; fill:none\" points=\"\n  2189.09,1486.45 2189.09,47.2441 \n  \"/>\n<polyline clip-path=\"url(#clip630)\" style=\"stroke:#000000; stroke-linecap:round; stroke-linejoin:round; stroke-width:4; stroke-opacity:1; fill:none\" points=\"\n  184.191,1486.45 2352.76,1486.45 \n  \"/>\n<polyline clip-path=\"url(#clip630)\" style=\"stroke:#000000; stroke-linecap:round; stroke-linejoin:round; stroke-width:4; stroke-opacity:1; fill:none\" points=\"\n  654.728,1486.45 654.728,1467.55 \n  \"/>\n<polyline clip-path=\"url(#clip630)\" style=\"stroke:#000000; stroke-linecap:round; stroke-linejoin:round; stroke-width:4; stroke-opacity:1; fill:none\" points=\"\n  1166.18,1486.45 1166.18,1467.55 \n  \"/>\n<polyline clip-path=\"url(#clip630)\" style=\"stroke:#000000; stroke-linecap:round; stroke-linejoin:round; stroke-width:4; stroke-opacity:1; fill:none\" points=\"\n  1677.64,1486.45 1677.64,1467.55 \n  \"/>\n<polyline clip-path=\"url(#clip630)\" style=\"stroke:#000000; stroke-linecap:round; stroke-linejoin:round; stroke-width:4; stroke-opacity:1; fill:none\" points=\"\n  2189.09,1486.45 2189.09,1467.55 \n  \"/>\n<path clip-path=\"url(#clip630)\" d=\"M645.006 1514.29 L663.363 1514.29 L663.363 1518.22 L649.289 1518.22 L649.289 1526.7 Q650.307 1526.35 651.326 1526.19 Q652.344 1526 653.363 1526 Q659.15 1526 662.529 1529.17 Q665.909 1532.34 665.909 1537.76 Q665.909 1543.34 662.437 1546.44 Q658.965 1549.52 652.645 1549.52 Q650.469 1549.52 648.201 1549.15 Q645.955 1548.78 643.548 1548.04 L643.548 1543.34 Q645.631 1544.47 647.853 1545.03 Q650.076 1545.58 652.553 1545.58 Q656.557 1545.58 658.895 1543.48 Q661.233 1541.37 661.233 1537.76 Q661.233 1534.15 658.895 1532.04 Q656.557 1529.94 652.553 1529.94 Q650.678 1529.94 648.803 1530.35 Q646.951 1530.77 645.006 1531.65 L645.006 1514.29 Z\" fill=\"#000000\" fill-rule=\"evenodd\" fill-opacity=\"1\" /><path clip-path=\"url(#clip630)\" d=\"M1140.87 1544.91 L1148.51 1544.91 L1148.51 1518.55 L1140.2 1520.21 L1140.2 1515.95 L1148.46 1514.29 L1153.14 1514.29 L1153.14 1544.91 L1160.78 1544.91 L1160.78 1548.85 L1140.87 1548.85 L1140.87 1544.91 Z\" fill=\"#000000\" fill-rule=\"evenodd\" fill-opacity=\"1\" /><path clip-path=\"url(#clip630)\" d=\"M1180.22 1517.37 Q1176.61 1517.37 1174.78 1520.93 Q1172.98 1524.47 1172.98 1531.6 Q1172.98 1538.71 1174.78 1542.27 Q1176.61 1545.82 1180.22 1545.82 Q1183.86 1545.82 1185.66 1542.27 Q1187.49 1538.71 1187.49 1531.6 Q1187.49 1524.47 1185.66 1520.93 Q1183.86 1517.37 1180.22 1517.37 M1180.22 1513.66 Q1186.03 1513.66 1189.09 1518.27 Q1192.17 1522.85 1192.17 1531.6 Q1192.17 1540.33 1189.09 1544.94 Q1186.03 1549.52 1180.22 1549.52 Q1174.41 1549.52 1171.33 1544.94 Q1168.28 1540.33 1168.28 1531.6 Q1168.28 1522.85 1171.33 1518.27 Q1174.41 1513.66 1180.22 1513.66 Z\" fill=\"#000000\" fill-rule=\"evenodd\" fill-opacity=\"1\" /><path clip-path=\"url(#clip630)\" d=\"M1652.82 1544.91 L1660.46 1544.91 L1660.46 1518.55 L1652.15 1520.21 L1652.15 1515.95 L1660.41 1514.29 L1665.09 1514.29 L1665.09 1544.91 L1672.73 1544.91 L1672.73 1548.85 L1652.82 1548.85 L1652.82 1544.91 Z\" fill=\"#000000\" fill-rule=\"evenodd\" fill-opacity=\"1\" /><path clip-path=\"url(#clip630)\" d=\"M1682.22 1514.29 L1700.58 1514.29 L1700.58 1518.22 L1686.5 1518.22 L1686.5 1526.7 Q1687.52 1526.35 1688.54 1526.19 Q1689.56 1526 1690.58 1526 Q1696.36 1526 1699.74 1529.17 Q1703.12 1532.34 1703.12 1537.76 Q1703.12 1543.34 1699.65 1546.44 Q1696.18 1549.52 1689.86 1549.52 Q1687.68 1549.52 1685.41 1549.15 Q1683.17 1548.78 1680.76 1548.04 L1680.76 1543.34 Q1682.84 1544.47 1685.07 1545.03 Q1687.29 1545.58 1689.77 1545.58 Q1693.77 1545.58 1696.11 1543.48 Q1698.45 1541.37 1698.45 1537.76 Q1698.45 1534.15 1696.11 1532.04 Q1693.77 1529.94 1689.77 1529.94 Q1687.89 1529.94 1686.02 1530.35 Q1684.16 1530.77 1682.22 1531.65 L1682.22 1514.29 Z\" fill=\"#000000\" fill-rule=\"evenodd\" fill-opacity=\"1\" /><path clip-path=\"url(#clip630)\" d=\"M2167.86 1544.91 L2184.18 1544.91 L2184.18 1548.85 L2162.24 1548.85 L2162.24 1544.91 Q2164.9 1542.16 2169.48 1537.53 Q2174.09 1532.88 2175.27 1531.53 Q2177.52 1529.01 2178.4 1527.27 Q2179.3 1525.51 2179.3 1523.82 Q2179.3 1521.07 2177.35 1519.33 Q2175.43 1517.6 2172.33 1517.6 Q2170.13 1517.6 2167.68 1518.36 Q2165.25 1519.13 2162.47 1520.68 L2162.47 1515.95 Q2165.29 1514.82 2167.75 1514.24 Q2170.2 1513.66 2172.24 1513.66 Q2177.61 1513.66 2180.8 1516.35 Q2184 1519.03 2184 1523.52 Q2184 1525.65 2183.19 1527.57 Q2182.4 1529.47 2180.29 1532.07 Q2179.72 1532.74 2176.61 1535.95 Q2173.51 1539.15 2167.86 1544.91 Z\" fill=\"#000000\" fill-rule=\"evenodd\" fill-opacity=\"1\" /><path clip-path=\"url(#clip630)\" d=\"M2204 1517.37 Q2200.39 1517.37 2198.56 1520.93 Q2196.75 1524.47 2196.75 1531.6 Q2196.75 1538.71 2198.56 1542.27 Q2200.39 1545.82 2204 1545.82 Q2207.63 1545.82 2209.44 1542.27 Q2211.27 1538.71 2211.27 1531.6 Q2211.27 1524.47 2209.44 1520.93 Q2207.63 1517.37 2204 1517.37 M2204 1513.66 Q2209.81 1513.66 2212.86 1518.27 Q2215.94 1522.85 2215.94 1531.6 Q2215.94 1540.33 2212.86 1544.94 Q2209.81 1549.52 2204 1549.52 Q2198.19 1549.52 2195.11 1544.94 Q2192.05 1540.33 2192.05 1531.6 Q2192.05 1522.85 2195.11 1518.27 Q2198.19 1513.66 2204 1513.66 Z\" fill=\"#000000\" fill-rule=\"evenodd\" fill-opacity=\"1\" /><polyline clip-path=\"url(#clip632)\" style=\"stroke:#000000; stroke-linecap:round; stroke-linejoin:round; stroke-width:2; stroke-opacity:0.1; fill:none\" points=\"\n  184.191,1250.36 2352.76,1250.36 \n  \"/>\n<polyline clip-path=\"url(#clip632)\" style=\"stroke:#000000; stroke-linecap:round; stroke-linejoin:round; stroke-width:2; stroke-opacity:0.1; fill:none\" points=\"\n  184.191,963.071 2352.76,963.071 \n  \"/>\n<polyline clip-path=\"url(#clip632)\" style=\"stroke:#000000; stroke-linecap:round; stroke-linejoin:round; stroke-width:2; stroke-opacity:0.1; fill:none\" points=\"\n  184.191,675.782 2352.76,675.782 \n  \"/>\n<polyline clip-path=\"url(#clip632)\" style=\"stroke:#000000; stroke-linecap:round; stroke-linejoin:round; stroke-width:2; stroke-opacity:0.1; fill:none\" points=\"\n  184.191,388.493 2352.76,388.493 \n  \"/>\n<polyline clip-path=\"url(#clip632)\" style=\"stroke:#000000; stroke-linecap:round; stroke-linejoin:round; stroke-width:2; stroke-opacity:0.1; fill:none\" points=\"\n  184.191,101.205 2352.76,101.205 \n  \"/>\n<polyline clip-path=\"url(#clip630)\" style=\"stroke:#000000; stroke-linecap:round; stroke-linejoin:round; stroke-width:4; stroke-opacity:1; fill:none\" points=\"\n  184.191,1486.45 184.191,47.2441 \n  \"/>\n<polyline clip-path=\"url(#clip630)\" style=\"stroke:#000000; stroke-linecap:round; stroke-linejoin:round; stroke-width:4; stroke-opacity:1; fill:none\" points=\"\n  184.191,1250.36 203.088,1250.36 \n  \"/>\n<polyline clip-path=\"url(#clip630)\" style=\"stroke:#000000; stroke-linecap:round; stroke-linejoin:round; stroke-width:4; stroke-opacity:1; fill:none\" points=\"\n  184.191,963.071 203.088,963.071 \n  \"/>\n<polyline clip-path=\"url(#clip630)\" style=\"stroke:#000000; stroke-linecap:round; stroke-linejoin:round; stroke-width:4; stroke-opacity:1; fill:none\" points=\"\n  184.191,675.782 203.088,675.782 \n  \"/>\n<polyline clip-path=\"url(#clip630)\" style=\"stroke:#000000; stroke-linecap:round; stroke-linejoin:round; stroke-width:4; stroke-opacity:1; fill:none\" points=\"\n  184.191,388.493 203.088,388.493 \n  \"/>\n<polyline clip-path=\"url(#clip630)\" style=\"stroke:#000000; stroke-linecap:round; stroke-linejoin:round; stroke-width:4; stroke-opacity:1; fill:none\" points=\"\n  184.191,101.205 203.088,101.205 \n  \"/>\n<path clip-path=\"url(#clip630)\" d=\"M81.0614 1233.08 L99.4178 1233.08 L99.4178 1237.01 L85.3438 1237.01 L85.3438 1245.49 Q86.3623 1245.14 87.3808 1244.98 Q88.3993 1244.79 89.4178 1244.79 Q95.2049 1244.79 98.5845 1247.96 Q101.964 1251.13 101.964 1256.55 Q101.964 1262.13 98.4919 1265.23 Q95.0197 1268.31 88.7003 1268.31 Q86.5243 1268.31 84.2558 1267.94 Q82.0105 1267.57 79.6031 1266.83 L79.6031 1262.13 Q81.6864 1263.26 83.9086 1263.82 Q86.1308 1264.38 88.6077 1264.38 Q92.6123 1264.38 94.9502 1262.27 Q97.2882 1260.16 97.2882 1256.55 Q97.2882 1252.94 94.9502 1250.83 Q92.6123 1248.73 88.6077 1248.73 Q86.7327 1248.73 84.8577 1249.14 Q83.0058 1249.56 81.0614 1250.44 L81.0614 1233.08 Z\" fill=\"#000000\" fill-rule=\"evenodd\" fill-opacity=\"1\" /><path clip-path=\"url(#clip630)\" d=\"M111.177 1261.76 L116.061 1261.76 L116.061 1267.64 L111.177 1267.64 L111.177 1261.76 Z\" fill=\"#000000\" fill-rule=\"evenodd\" fill-opacity=\"1\" /><path clip-path=\"url(#clip630)\" d=\"M136.246 1236.16 Q132.635 1236.16 130.807 1239.72 Q129.001 1243.26 129.001 1250.39 Q129.001 1257.5 130.807 1261.07 Q132.635 1264.61 136.246 1264.61 Q139.881 1264.61 141.686 1261.07 Q143.515 1257.5 143.515 1250.39 Q143.515 1243.26 141.686 1239.72 Q139.881 1236.16 136.246 1236.16 M136.246 1232.45 Q142.056 1232.45 145.112 1237.06 Q148.191 1241.64 148.191 1250.39 Q148.191 1259.12 145.112 1263.73 Q142.056 1268.31 136.246 1268.31 Q130.436 1268.31 127.357 1263.73 Q124.302 1259.12 124.302 1250.39 Q124.302 1241.64 127.357 1237.06 Q130.436 1232.45 136.246 1232.45 Z\" fill=\"#000000\" fill-rule=\"evenodd\" fill-opacity=\"1\" /><path clip-path=\"url(#clip630)\" d=\"M80.8299 945.791 L103.052 945.791 L103.052 947.781 L90.5058 980.351 L85.6216 980.351 L97.4271 949.726 L80.8299 949.726 L80.8299 945.791 Z\" fill=\"#000000\" fill-rule=\"evenodd\" fill-opacity=\"1\" /><path clip-path=\"url(#clip630)\" d=\"M112.172 974.471 L117.057 974.471 L117.057 980.351 L112.172 980.351 L112.172 974.471 Z\" fill=\"#000000\" fill-rule=\"evenodd\" fill-opacity=\"1\" /><path clip-path=\"url(#clip630)\" d=\"M127.288 945.791 L145.644 945.791 L145.644 949.726 L131.57 949.726 L131.57 958.198 Q132.589 957.851 133.607 957.689 Q134.626 957.504 135.644 957.504 Q141.431 957.504 144.811 960.675 Q148.191 963.846 148.191 969.263 Q148.191 974.842 144.718 977.943 Q141.246 981.022 134.927 981.022 Q132.751 981.022 130.482 980.652 Q128.237 980.281 125.83 979.541 L125.83 974.842 Q127.913 975.976 130.135 976.531 Q132.357 977.087 134.834 977.087 Q138.839 977.087 141.177 974.98 Q143.515 972.874 143.515 969.263 Q143.515 965.652 141.177 963.545 Q138.839 961.439 134.834 961.439 Q132.959 961.439 131.084 961.855 Q129.232 962.272 127.288 963.152 L127.288 945.791 Z\" fill=\"#000000\" fill-rule=\"evenodd\" fill-opacity=\"1\" /><path clip-path=\"url(#clip630)\" d=\"M51.6634 689.127 L59.3023 689.127 L59.3023 662.761 L50.9921 664.428 L50.9921 660.169 L59.256 658.502 L63.9319 658.502 L63.9319 689.127 L71.5707 689.127 L71.5707 693.062 L51.6634 693.062 L51.6634 689.127 Z\" fill=\"#000000\" fill-rule=\"evenodd\" fill-opacity=\"1\" /><path clip-path=\"url(#clip630)\" d=\"M91.0151 661.581 Q87.404 661.581 85.5753 665.146 Q83.7697 668.687 83.7697 675.817 Q83.7697 682.923 85.5753 686.488 Q87.404 690.03 91.0151 690.03 Q94.6493 690.03 96.4548 686.488 Q98.2835 682.923 98.2835 675.817 Q98.2835 668.687 96.4548 665.146 Q94.6493 661.581 91.0151 661.581 M91.0151 657.877 Q96.8252 657.877 99.8808 662.484 Q102.959 667.067 102.959 675.817 Q102.959 684.544 99.8808 689.15 Q96.8252 693.733 91.0151 693.733 Q85.2049 693.733 82.1262 689.15 Q79.0707 684.544 79.0707 675.817 Q79.0707 667.067 82.1262 662.484 Q85.2049 657.877 91.0151 657.877 Z\" fill=\"#000000\" fill-rule=\"evenodd\" fill-opacity=\"1\" /><path clip-path=\"url(#clip630)\" d=\"M111.177 687.182 L116.061 687.182 L116.061 693.062 L111.177 693.062 L111.177 687.182 Z\" fill=\"#000000\" fill-rule=\"evenodd\" fill-opacity=\"1\" /><path clip-path=\"url(#clip630)\" d=\"M136.246 661.581 Q132.635 661.581 130.807 665.146 Q129.001 668.687 129.001 675.817 Q129.001 682.923 130.807 686.488 Q132.635 690.03 136.246 690.03 Q139.881 690.03 141.686 686.488 Q143.515 682.923 143.515 675.817 Q143.515 668.687 141.686 665.146 Q139.881 661.581 136.246 661.581 M136.246 657.877 Q142.056 657.877 145.112 662.484 Q148.191 667.067 148.191 675.817 Q148.191 684.544 145.112 689.15 Q142.056 693.733 136.246 693.733 Q130.436 693.733 127.357 689.15 Q124.302 684.544 124.302 675.817 Q124.302 667.067 127.357 662.484 Q130.436 657.877 136.246 657.877 Z\" fill=\"#000000\" fill-rule=\"evenodd\" fill-opacity=\"1\" /><path clip-path=\"url(#clip630)\" d=\"M52.6588 401.838 L60.2976 401.838 L60.2976 375.473 L51.9875 377.139 L51.9875 372.88 L60.2513 371.213 L64.9272 371.213 L64.9272 401.838 L72.5661 401.838 L72.5661 405.773 L52.6588 405.773 L52.6588 401.838 Z\" fill=\"#000000\" fill-rule=\"evenodd\" fill-opacity=\"1\" /><path clip-path=\"url(#clip630)\" d=\"M86.0382 401.838 L102.358 401.838 L102.358 405.773 L80.4133 405.773 L80.4133 401.838 Q83.0753 399.084 87.6586 394.454 Q92.2651 389.801 93.4456 388.459 Q95.691 385.936 96.5706 384.199 Q97.4734 382.44 97.4734 380.75 Q97.4734 377.996 95.5289 376.26 Q93.6076 374.524 90.5058 374.524 Q88.3067 374.524 85.8531 375.287 Q83.4225 376.051 80.6447 377.602 L80.6447 372.88 Q83.4688 371.746 85.9225 371.167 Q88.3762 370.588 90.4132 370.588 Q95.7836 370.588 98.978 373.274 Q102.172 375.959 102.172 380.45 Q102.172 382.579 101.362 384.5 Q100.575 386.399 98.4687 388.991 Q97.89 389.662 94.7882 392.88 Q91.6864 396.074 86.0382 401.838 Z\" fill=\"#000000\" fill-rule=\"evenodd\" fill-opacity=\"1\" /><path clip-path=\"url(#clip630)\" d=\"M112.172 399.894 L117.057 399.894 L117.057 405.773 L112.172 405.773 L112.172 399.894 Z\" fill=\"#000000\" fill-rule=\"evenodd\" fill-opacity=\"1\" /><path clip-path=\"url(#clip630)\" d=\"M127.288 371.213 L145.644 371.213 L145.644 375.149 L131.57 375.149 L131.57 383.621 Q132.589 383.274 133.607 383.112 Q134.626 382.926 135.644 382.926 Q141.431 382.926 144.811 386.098 Q148.191 389.269 148.191 394.686 Q148.191 400.264 144.718 403.366 Q141.246 406.445 134.927 406.445 Q132.751 406.445 130.482 406.074 Q128.237 405.704 125.83 404.963 L125.83 400.264 Q127.913 401.398 130.135 401.954 Q132.357 402.51 134.834 402.51 Q138.839 402.51 141.177 400.403 Q143.515 398.297 143.515 394.686 Q143.515 391.074 141.177 388.968 Q138.839 386.862 134.834 386.862 Q132.959 386.862 131.084 387.278 Q129.232 387.695 127.288 388.574 L127.288 371.213 Z\" fill=\"#000000\" fill-rule=\"evenodd\" fill-opacity=\"1\" /><path clip-path=\"url(#clip630)\" d=\"M51.6634 114.55 L59.3023 114.55 L59.3023 88.184 L50.9921 89.8507 L50.9921 85.5914 L59.256 83.9248 L63.9319 83.9248 L63.9319 114.55 L71.5707 114.55 L71.5707 118.485 L51.6634 118.485 L51.6634 114.55 Z\" fill=\"#000000\" fill-rule=\"evenodd\" fill-opacity=\"1\" /><path clip-path=\"url(#clip630)\" d=\"M81.0614 83.9248 L99.4178 83.9248 L99.4178 87.8599 L85.3438 87.8599 L85.3438 96.3321 Q86.3623 95.9849 87.3808 95.8229 Q88.3993 95.6377 89.4178 95.6377 Q95.2049 95.6377 98.5845 98.809 Q101.964 101.98 101.964 107.397 Q101.964 112.976 98.4919 116.077 Q95.0197 119.156 88.7003 119.156 Q86.5243 119.156 84.2558 118.786 Q82.0105 118.415 79.6031 117.675 L79.6031 112.976 Q81.6864 114.11 83.9086 114.665 Q86.1308 115.221 88.6077 115.221 Q92.6123 115.221 94.9502 113.114 Q97.2882 111.008 97.2882 107.397 Q97.2882 103.786 94.9502 101.679 Q92.6123 99.5728 88.6077 99.5728 Q86.7327 99.5728 84.8577 99.9895 Q83.0058 100.406 81.0614 101.286 L81.0614 83.9248 Z\" fill=\"#000000\" fill-rule=\"evenodd\" fill-opacity=\"1\" /><path clip-path=\"url(#clip630)\" d=\"M111.177 112.605 L116.061 112.605 L116.061 118.485 L111.177 118.485 L111.177 112.605 Z\" fill=\"#000000\" fill-rule=\"evenodd\" fill-opacity=\"1\" /><path clip-path=\"url(#clip630)\" d=\"M136.246 87.0035 Q132.635 87.0035 130.807 90.5683 Q129.001 94.1099 129.001 101.24 Q129.001 108.346 130.807 111.911 Q132.635 115.452 136.246 115.452 Q139.881 115.452 141.686 111.911 Q143.515 108.346 143.515 101.24 Q143.515 94.1099 141.686 90.5683 Q139.881 87.0035 136.246 87.0035 M136.246 83.2998 Q142.056 83.2998 145.112 87.9062 Q148.191 92.4896 148.191 101.24 Q148.191 109.966 145.112 114.573 Q142.056 119.156 136.246 119.156 Q130.436 119.156 127.357 114.573 Q124.302 109.966 124.302 101.24 Q124.302 92.4896 127.357 87.9062 Q130.436 83.2998 136.246 83.2998 Z\" fill=\"#000000\" fill-rule=\"evenodd\" fill-opacity=\"1\" /><polyline clip-path=\"url(#clip632)\" style=\"stroke:#009af9; stroke-linecap:round; stroke-linejoin:round; stroke-width:4; stroke-opacity:1; fill:none\" points=\"\n  245.565,1445.72 347.856,1353.78 450.147,1365.27 552.438,1284.83 654.728,1169.92 757.019,1284.83 859.31,1215.88 961.601,1158.43 1063.89,1123.95 1166.18,1135.44 \n  1268.47,1112.46 1370.76,986.054 1473.05,997.545 1575.35,974.562 1677.64,904.693 1779.93,917.105 1882.22,273.578 1984.51,87.9763 2086.8,166.838 2189.09,109.265 \n  2291.38,96.018 \n  \"/>\n<path clip-path=\"url(#clip630)\" d=\"\nM1987.09 198.898 L2280.47 198.898 L2280.47 95.2176 L1987.09 95.2176  Z\n  \" fill=\"#ffffff\" fill-rule=\"evenodd\" fill-opacity=\"1\"/>\n<polyline clip-path=\"url(#clip630)\" style=\"stroke:#000000; stroke-linecap:round; stroke-linejoin:round; stroke-width:4; stroke-opacity:1; fill:none\" points=\"\n  1987.09,198.898 2280.47,198.898 2280.47,95.2176 1987.09,95.2176 1987.09,198.898 \n  \"/>\n<polyline clip-path=\"url(#clip630)\" style=\"stroke:#009af9; stroke-linecap:round; stroke-linejoin:round; stroke-width:4; stroke-opacity:1; fill:none\" points=\"\n  2011.18,147.058 2155.75,147.058 \n  \"/>\n<path clip-path=\"url(#clip630)\" d=\"M2193.69 166.745 Q2191.89 171.375 2190.17 172.787 Q2188.46 174.199 2185.59 174.199 L2182.19 174.199 L2182.19 170.634 L2184.69 170.634 Q2186.45 170.634 2187.42 169.8 Q2188.39 168.967 2189.57 165.865 L2190.34 163.921 L2179.85 138.412 L2184.36 138.412 L2192.47 158.689 L2200.57 138.412 L2205.08 138.412 L2193.69 166.745 Z\" fill=\"#000000\" fill-rule=\"evenodd\" fill-opacity=\"1\" /><path clip-path=\"url(#clip630)\" d=\"M2212.37 160.402 L2220.01 160.402 L2220.01 134.037 L2211.7 135.703 L2211.7 131.444 L2219.97 129.778 L2224.64 129.778 L2224.64 160.402 L2232.28 160.402 L2232.28 164.338 L2212.37 164.338 L2212.37 160.402 Z\" fill=\"#000000\" fill-rule=\"evenodd\" fill-opacity=\"1\" /></svg>\n",
      "text/html": [
       "<?xml version=\"1.0\" encoding=\"utf-8\"?>\n",
       "<svg xmlns=\"http://www.w3.org/2000/svg\" xmlns:xlink=\"http://www.w3.org/1999/xlink\" width=\"600\" height=\"400\" viewBox=\"0 0 2400 1600\">\n",
       "<defs>\n",
       "  <clipPath id=\"clip680\">\n",
       "    <rect x=\"0\" y=\"0\" width=\"2400\" height=\"1600\"/>\n",
       "  </clipPath>\n",
       "</defs>\n",
       "<path clip-path=\"url(#clip680)\" d=\"\n",
       "M0 1600 L2400 1600 L2400 0 L0 0  Z\n",
       "  \" fill=\"#ffffff\" fill-rule=\"evenodd\" fill-opacity=\"1\"/>\n",
       "<defs>\n",
       "  <clipPath id=\"clip681\">\n",
       "    <rect x=\"480\" y=\"0\" width=\"1681\" height=\"1600\"/>\n",
       "  </clipPath>\n",
       "</defs>\n",
       "<path clip-path=\"url(#clip680)\" d=\"\n",
       "M184.191 1486.45 L2352.76 1486.45 L2352.76 47.2441 L184.191 47.2441  Z\n",
       "  \" fill=\"#ffffff\" fill-rule=\"evenodd\" fill-opacity=\"1\"/>\n",
       "<defs>\n",
       "  <clipPath id=\"clip682\">\n",
       "    <rect x=\"184\" y=\"47\" width=\"2170\" height=\"1440\"/>\n",
       "  </clipPath>\n",
       "</defs>\n",
       "<polyline clip-path=\"url(#clip682)\" style=\"stroke:#000000; stroke-linecap:round; stroke-linejoin:round; stroke-width:2; stroke-opacity:0.1; fill:none\" points=\"\n",
       "  654.728,1486.45 654.728,47.2441 \n",
       "  \"/>\n",
       "<polyline clip-path=\"url(#clip682)\" style=\"stroke:#000000; stroke-linecap:round; stroke-linejoin:round; stroke-width:2; stroke-opacity:0.1; fill:none\" points=\"\n",
       "  1166.18,1486.45 1166.18,47.2441 \n",
       "  \"/>\n",
       "<polyline clip-path=\"url(#clip682)\" style=\"stroke:#000000; stroke-linecap:round; stroke-linejoin:round; stroke-width:2; stroke-opacity:0.1; fill:none\" points=\"\n",
       "  1677.64,1486.45 1677.64,47.2441 \n",
       "  \"/>\n",
       "<polyline clip-path=\"url(#clip682)\" style=\"stroke:#000000; stroke-linecap:round; stroke-linejoin:round; stroke-width:2; stroke-opacity:0.1; fill:none\" points=\"\n",
       "  2189.09,1486.45 2189.09,47.2441 \n",
       "  \"/>\n",
       "<polyline clip-path=\"url(#clip680)\" style=\"stroke:#000000; stroke-linecap:round; stroke-linejoin:round; stroke-width:4; stroke-opacity:1; fill:none\" points=\"\n",
       "  184.191,1486.45 2352.76,1486.45 \n",
       "  \"/>\n",
       "<polyline clip-path=\"url(#clip680)\" style=\"stroke:#000000; stroke-linecap:round; stroke-linejoin:round; stroke-width:4; stroke-opacity:1; fill:none\" points=\"\n",
       "  654.728,1486.45 654.728,1467.55 \n",
       "  \"/>\n",
       "<polyline clip-path=\"url(#clip680)\" style=\"stroke:#000000; stroke-linecap:round; stroke-linejoin:round; stroke-width:4; stroke-opacity:1; fill:none\" points=\"\n",
       "  1166.18,1486.45 1166.18,1467.55 \n",
       "  \"/>\n",
       "<polyline clip-path=\"url(#clip680)\" style=\"stroke:#000000; stroke-linecap:round; stroke-linejoin:round; stroke-width:4; stroke-opacity:1; fill:none\" points=\"\n",
       "  1677.64,1486.45 1677.64,1467.55 \n",
       "  \"/>\n",
       "<polyline clip-path=\"url(#clip680)\" style=\"stroke:#000000; stroke-linecap:round; stroke-linejoin:round; stroke-width:4; stroke-opacity:1; fill:none\" points=\"\n",
       "  2189.09,1486.45 2189.09,1467.55 \n",
       "  \"/>\n",
       "<path clip-path=\"url(#clip680)\" d=\"M645.006 1514.29 L663.363 1514.29 L663.363 1518.22 L649.289 1518.22 L649.289 1526.7 Q650.307 1526.35 651.326 1526.19 Q652.344 1526 653.363 1526 Q659.15 1526 662.529 1529.17 Q665.909 1532.34 665.909 1537.76 Q665.909 1543.34 662.437 1546.44 Q658.965 1549.52 652.645 1549.52 Q650.469 1549.52 648.201 1549.15 Q645.955 1548.78 643.548 1548.04 L643.548 1543.34 Q645.631 1544.47 647.853 1545.03 Q650.076 1545.58 652.553 1545.58 Q656.557 1545.58 658.895 1543.48 Q661.233 1541.37 661.233 1537.76 Q661.233 1534.15 658.895 1532.04 Q656.557 1529.94 652.553 1529.94 Q650.678 1529.94 648.803 1530.35 Q646.951 1530.77 645.006 1531.65 L645.006 1514.29 Z\" fill=\"#000000\" fill-rule=\"evenodd\" fill-opacity=\"1\" /><path clip-path=\"url(#clip680)\" d=\"M1140.87 1544.91 L1148.51 1544.91 L1148.51 1518.55 L1140.2 1520.21 L1140.2 1515.95 L1148.46 1514.29 L1153.14 1514.29 L1153.14 1544.91 L1160.78 1544.91 L1160.78 1548.85 L1140.87 1548.85 L1140.87 1544.91 Z\" fill=\"#000000\" fill-rule=\"evenodd\" fill-opacity=\"1\" /><path clip-path=\"url(#clip680)\" d=\"M1180.22 1517.37 Q1176.61 1517.37 1174.78 1520.93 Q1172.98 1524.47 1172.98 1531.6 Q1172.98 1538.71 1174.78 1542.27 Q1176.61 1545.82 1180.22 1545.82 Q1183.86 1545.82 1185.66 1542.27 Q1187.49 1538.71 1187.49 1531.6 Q1187.49 1524.47 1185.66 1520.93 Q1183.86 1517.37 1180.22 1517.37 M1180.22 1513.66 Q1186.03 1513.66 1189.09 1518.27 Q1192.17 1522.85 1192.17 1531.6 Q1192.17 1540.33 1189.09 1544.94 Q1186.03 1549.52 1180.22 1549.52 Q1174.41 1549.52 1171.33 1544.94 Q1168.28 1540.33 1168.28 1531.6 Q1168.28 1522.85 1171.33 1518.27 Q1174.41 1513.66 1180.22 1513.66 Z\" fill=\"#000000\" fill-rule=\"evenodd\" fill-opacity=\"1\" /><path clip-path=\"url(#clip680)\" d=\"M1652.82 1544.91 L1660.46 1544.91 L1660.46 1518.55 L1652.15 1520.21 L1652.15 1515.95 L1660.41 1514.29 L1665.09 1514.29 L1665.09 1544.91 L1672.73 1544.91 L1672.73 1548.85 L1652.82 1548.85 L1652.82 1544.91 Z\" fill=\"#000000\" fill-rule=\"evenodd\" fill-opacity=\"1\" /><path clip-path=\"url(#clip680)\" d=\"M1682.22 1514.29 L1700.58 1514.29 L1700.58 1518.22 L1686.5 1518.22 L1686.5 1526.7 Q1687.52 1526.35 1688.54 1526.19 Q1689.56 1526 1690.58 1526 Q1696.36 1526 1699.74 1529.17 Q1703.12 1532.34 1703.12 1537.76 Q1703.12 1543.34 1699.65 1546.44 Q1696.18 1549.52 1689.86 1549.52 Q1687.68 1549.52 1685.41 1549.15 Q1683.17 1548.78 1680.76 1548.04 L1680.76 1543.34 Q1682.84 1544.47 1685.07 1545.03 Q1687.29 1545.58 1689.77 1545.58 Q1693.77 1545.58 1696.11 1543.48 Q1698.45 1541.37 1698.45 1537.76 Q1698.45 1534.15 1696.11 1532.04 Q1693.77 1529.94 1689.77 1529.94 Q1687.89 1529.94 1686.02 1530.35 Q1684.16 1530.77 1682.22 1531.65 L1682.22 1514.29 Z\" fill=\"#000000\" fill-rule=\"evenodd\" fill-opacity=\"1\" /><path clip-path=\"url(#clip680)\" d=\"M2167.86 1544.91 L2184.18 1544.91 L2184.18 1548.85 L2162.24 1548.85 L2162.24 1544.91 Q2164.9 1542.16 2169.48 1537.53 Q2174.09 1532.88 2175.27 1531.53 Q2177.52 1529.01 2178.4 1527.27 Q2179.3 1525.51 2179.3 1523.82 Q2179.3 1521.07 2177.35 1519.33 Q2175.43 1517.6 2172.33 1517.6 Q2170.13 1517.6 2167.68 1518.36 Q2165.25 1519.13 2162.47 1520.68 L2162.47 1515.95 Q2165.29 1514.82 2167.75 1514.24 Q2170.2 1513.66 2172.24 1513.66 Q2177.61 1513.66 2180.8 1516.35 Q2184 1519.03 2184 1523.52 Q2184 1525.65 2183.19 1527.57 Q2182.4 1529.47 2180.29 1532.07 Q2179.72 1532.74 2176.61 1535.95 Q2173.51 1539.15 2167.86 1544.91 Z\" fill=\"#000000\" fill-rule=\"evenodd\" fill-opacity=\"1\" /><path clip-path=\"url(#clip680)\" d=\"M2204 1517.37 Q2200.39 1517.37 2198.56 1520.93 Q2196.75 1524.47 2196.75 1531.6 Q2196.75 1538.71 2198.56 1542.27 Q2200.39 1545.82 2204 1545.82 Q2207.63 1545.82 2209.44 1542.27 Q2211.27 1538.71 2211.27 1531.6 Q2211.27 1524.47 2209.44 1520.93 Q2207.63 1517.37 2204 1517.37 M2204 1513.66 Q2209.81 1513.66 2212.86 1518.27 Q2215.94 1522.85 2215.94 1531.6 Q2215.94 1540.33 2212.86 1544.94 Q2209.81 1549.52 2204 1549.52 Q2198.19 1549.52 2195.11 1544.94 Q2192.05 1540.33 2192.05 1531.6 Q2192.05 1522.85 2195.11 1518.27 Q2198.19 1513.66 2204 1513.66 Z\" fill=\"#000000\" fill-rule=\"evenodd\" fill-opacity=\"1\" /><polyline clip-path=\"url(#clip682)\" style=\"stroke:#000000; stroke-linecap:round; stroke-linejoin:round; stroke-width:2; stroke-opacity:0.1; fill:none\" points=\"\n",
       "  184.191,1250.36 2352.76,1250.36 \n",
       "  \"/>\n",
       "<polyline clip-path=\"url(#clip682)\" style=\"stroke:#000000; stroke-linecap:round; stroke-linejoin:round; stroke-width:2; stroke-opacity:0.1; fill:none\" points=\"\n",
       "  184.191,963.071 2352.76,963.071 \n",
       "  \"/>\n",
       "<polyline clip-path=\"url(#clip682)\" style=\"stroke:#000000; stroke-linecap:round; stroke-linejoin:round; stroke-width:2; stroke-opacity:0.1; fill:none\" points=\"\n",
       "  184.191,675.782 2352.76,675.782 \n",
       "  \"/>\n",
       "<polyline clip-path=\"url(#clip682)\" style=\"stroke:#000000; stroke-linecap:round; stroke-linejoin:round; stroke-width:2; stroke-opacity:0.1; fill:none\" points=\"\n",
       "  184.191,388.493 2352.76,388.493 \n",
       "  \"/>\n",
       "<polyline clip-path=\"url(#clip682)\" style=\"stroke:#000000; stroke-linecap:round; stroke-linejoin:round; stroke-width:2; stroke-opacity:0.1; fill:none\" points=\"\n",
       "  184.191,101.205 2352.76,101.205 \n",
       "  \"/>\n",
       "<polyline clip-path=\"url(#clip680)\" style=\"stroke:#000000; stroke-linecap:round; stroke-linejoin:round; stroke-width:4; stroke-opacity:1; fill:none\" points=\"\n",
       "  184.191,1486.45 184.191,47.2441 \n",
       "  \"/>\n",
       "<polyline clip-path=\"url(#clip680)\" style=\"stroke:#000000; stroke-linecap:round; stroke-linejoin:round; stroke-width:4; stroke-opacity:1; fill:none\" points=\"\n",
       "  184.191,1250.36 203.088,1250.36 \n",
       "  \"/>\n",
       "<polyline clip-path=\"url(#clip680)\" style=\"stroke:#000000; stroke-linecap:round; stroke-linejoin:round; stroke-width:4; stroke-opacity:1; fill:none\" points=\"\n",
       "  184.191,963.071 203.088,963.071 \n",
       "  \"/>\n",
       "<polyline clip-path=\"url(#clip680)\" style=\"stroke:#000000; stroke-linecap:round; stroke-linejoin:round; stroke-width:4; stroke-opacity:1; fill:none\" points=\"\n",
       "  184.191,675.782 203.088,675.782 \n",
       "  \"/>\n",
       "<polyline clip-path=\"url(#clip680)\" style=\"stroke:#000000; stroke-linecap:round; stroke-linejoin:round; stroke-width:4; stroke-opacity:1; fill:none\" points=\"\n",
       "  184.191,388.493 203.088,388.493 \n",
       "  \"/>\n",
       "<polyline clip-path=\"url(#clip680)\" style=\"stroke:#000000; stroke-linecap:round; stroke-linejoin:round; stroke-width:4; stroke-opacity:1; fill:none\" points=\"\n",
       "  184.191,101.205 203.088,101.205 \n",
       "  \"/>\n",
       "<path clip-path=\"url(#clip680)\" d=\"M81.0614 1233.08 L99.4178 1233.08 L99.4178 1237.01 L85.3438 1237.01 L85.3438 1245.49 Q86.3623 1245.14 87.3808 1244.98 Q88.3993 1244.79 89.4178 1244.79 Q95.2049 1244.79 98.5845 1247.96 Q101.964 1251.13 101.964 1256.55 Q101.964 1262.13 98.4919 1265.23 Q95.0197 1268.31 88.7003 1268.31 Q86.5243 1268.31 84.2558 1267.94 Q82.0105 1267.57 79.6031 1266.83 L79.6031 1262.13 Q81.6864 1263.26 83.9086 1263.82 Q86.1308 1264.38 88.6077 1264.38 Q92.6123 1264.38 94.9502 1262.27 Q97.2882 1260.16 97.2882 1256.55 Q97.2882 1252.94 94.9502 1250.83 Q92.6123 1248.73 88.6077 1248.73 Q86.7327 1248.73 84.8577 1249.14 Q83.0058 1249.56 81.0614 1250.44 L81.0614 1233.08 Z\" fill=\"#000000\" fill-rule=\"evenodd\" fill-opacity=\"1\" /><path clip-path=\"url(#clip680)\" d=\"M111.177 1261.76 L116.061 1261.76 L116.061 1267.64 L111.177 1267.64 L111.177 1261.76 Z\" fill=\"#000000\" fill-rule=\"evenodd\" fill-opacity=\"1\" /><path clip-path=\"url(#clip680)\" d=\"M136.246 1236.16 Q132.635 1236.16 130.807 1239.72 Q129.001 1243.26 129.001 1250.39 Q129.001 1257.5 130.807 1261.07 Q132.635 1264.61 136.246 1264.61 Q139.881 1264.61 141.686 1261.07 Q143.515 1257.5 143.515 1250.39 Q143.515 1243.26 141.686 1239.72 Q139.881 1236.16 136.246 1236.16 M136.246 1232.45 Q142.056 1232.45 145.112 1237.06 Q148.191 1241.64 148.191 1250.39 Q148.191 1259.12 145.112 1263.73 Q142.056 1268.31 136.246 1268.31 Q130.436 1268.31 127.357 1263.73 Q124.302 1259.12 124.302 1250.39 Q124.302 1241.64 127.357 1237.06 Q130.436 1232.45 136.246 1232.45 Z\" fill=\"#000000\" fill-rule=\"evenodd\" fill-opacity=\"1\" /><path clip-path=\"url(#clip680)\" d=\"M80.8299 945.791 L103.052 945.791 L103.052 947.781 L90.5058 980.351 L85.6216 980.351 L97.4271 949.726 L80.8299 949.726 L80.8299 945.791 Z\" fill=\"#000000\" fill-rule=\"evenodd\" fill-opacity=\"1\" /><path clip-path=\"url(#clip680)\" d=\"M112.172 974.471 L117.057 974.471 L117.057 980.351 L112.172 980.351 L112.172 974.471 Z\" fill=\"#000000\" fill-rule=\"evenodd\" fill-opacity=\"1\" /><path clip-path=\"url(#clip680)\" d=\"M127.288 945.791 L145.644 945.791 L145.644 949.726 L131.57 949.726 L131.57 958.198 Q132.589 957.851 133.607 957.689 Q134.626 957.504 135.644 957.504 Q141.431 957.504 144.811 960.675 Q148.191 963.846 148.191 969.263 Q148.191 974.842 144.718 977.943 Q141.246 981.022 134.927 981.022 Q132.751 981.022 130.482 980.652 Q128.237 980.281 125.83 979.541 L125.83 974.842 Q127.913 975.976 130.135 976.531 Q132.357 977.087 134.834 977.087 Q138.839 977.087 141.177 974.98 Q143.515 972.874 143.515 969.263 Q143.515 965.652 141.177 963.545 Q138.839 961.439 134.834 961.439 Q132.959 961.439 131.084 961.855 Q129.232 962.272 127.288 963.152 L127.288 945.791 Z\" fill=\"#000000\" fill-rule=\"evenodd\" fill-opacity=\"1\" /><path clip-path=\"url(#clip680)\" d=\"M51.6634 689.127 L59.3023 689.127 L59.3023 662.761 L50.9921 664.428 L50.9921 660.169 L59.256 658.502 L63.9319 658.502 L63.9319 689.127 L71.5707 689.127 L71.5707 693.062 L51.6634 693.062 L51.6634 689.127 Z\" fill=\"#000000\" fill-rule=\"evenodd\" fill-opacity=\"1\" /><path clip-path=\"url(#clip680)\" d=\"M91.0151 661.581 Q87.404 661.581 85.5753 665.146 Q83.7697 668.687 83.7697 675.817 Q83.7697 682.923 85.5753 686.488 Q87.404 690.03 91.0151 690.03 Q94.6493 690.03 96.4548 686.488 Q98.2835 682.923 98.2835 675.817 Q98.2835 668.687 96.4548 665.146 Q94.6493 661.581 91.0151 661.581 M91.0151 657.877 Q96.8252 657.877 99.8808 662.484 Q102.959 667.067 102.959 675.817 Q102.959 684.544 99.8808 689.15 Q96.8252 693.733 91.0151 693.733 Q85.2049 693.733 82.1262 689.15 Q79.0707 684.544 79.0707 675.817 Q79.0707 667.067 82.1262 662.484 Q85.2049 657.877 91.0151 657.877 Z\" fill=\"#000000\" fill-rule=\"evenodd\" fill-opacity=\"1\" /><path clip-path=\"url(#clip680)\" d=\"M111.177 687.182 L116.061 687.182 L116.061 693.062 L111.177 693.062 L111.177 687.182 Z\" fill=\"#000000\" fill-rule=\"evenodd\" fill-opacity=\"1\" /><path clip-path=\"url(#clip680)\" d=\"M136.246 661.581 Q132.635 661.581 130.807 665.146 Q129.001 668.687 129.001 675.817 Q129.001 682.923 130.807 686.488 Q132.635 690.03 136.246 690.03 Q139.881 690.03 141.686 686.488 Q143.515 682.923 143.515 675.817 Q143.515 668.687 141.686 665.146 Q139.881 661.581 136.246 661.581 M136.246 657.877 Q142.056 657.877 145.112 662.484 Q148.191 667.067 148.191 675.817 Q148.191 684.544 145.112 689.15 Q142.056 693.733 136.246 693.733 Q130.436 693.733 127.357 689.15 Q124.302 684.544 124.302 675.817 Q124.302 667.067 127.357 662.484 Q130.436 657.877 136.246 657.877 Z\" fill=\"#000000\" fill-rule=\"evenodd\" fill-opacity=\"1\" /><path clip-path=\"url(#clip680)\" d=\"M52.6588 401.838 L60.2976 401.838 L60.2976 375.473 L51.9875 377.139 L51.9875 372.88 L60.2513 371.213 L64.9272 371.213 L64.9272 401.838 L72.5661 401.838 L72.5661 405.773 L52.6588 405.773 L52.6588 401.838 Z\" fill=\"#000000\" fill-rule=\"evenodd\" fill-opacity=\"1\" /><path clip-path=\"url(#clip680)\" d=\"M86.0382 401.838 L102.358 401.838 L102.358 405.773 L80.4133 405.773 L80.4133 401.838 Q83.0753 399.084 87.6586 394.454 Q92.2651 389.801 93.4456 388.459 Q95.691 385.936 96.5706 384.199 Q97.4734 382.44 97.4734 380.75 Q97.4734 377.996 95.5289 376.26 Q93.6076 374.524 90.5058 374.524 Q88.3067 374.524 85.8531 375.287 Q83.4225 376.051 80.6447 377.602 L80.6447 372.88 Q83.4688 371.746 85.9225 371.167 Q88.3762 370.588 90.4132 370.588 Q95.7836 370.588 98.978 373.274 Q102.172 375.959 102.172 380.45 Q102.172 382.579 101.362 384.5 Q100.575 386.399 98.4687 388.991 Q97.89 389.662 94.7882 392.88 Q91.6864 396.074 86.0382 401.838 Z\" fill=\"#000000\" fill-rule=\"evenodd\" fill-opacity=\"1\" /><path clip-path=\"url(#clip680)\" d=\"M112.172 399.894 L117.057 399.894 L117.057 405.773 L112.172 405.773 L112.172 399.894 Z\" fill=\"#000000\" fill-rule=\"evenodd\" fill-opacity=\"1\" /><path clip-path=\"url(#clip680)\" d=\"M127.288 371.213 L145.644 371.213 L145.644 375.149 L131.57 375.149 L131.57 383.621 Q132.589 383.274 133.607 383.112 Q134.626 382.926 135.644 382.926 Q141.431 382.926 144.811 386.098 Q148.191 389.269 148.191 394.686 Q148.191 400.264 144.718 403.366 Q141.246 406.445 134.927 406.445 Q132.751 406.445 130.482 406.074 Q128.237 405.704 125.83 404.963 L125.83 400.264 Q127.913 401.398 130.135 401.954 Q132.357 402.51 134.834 402.51 Q138.839 402.51 141.177 400.403 Q143.515 398.297 143.515 394.686 Q143.515 391.074 141.177 388.968 Q138.839 386.862 134.834 386.862 Q132.959 386.862 131.084 387.278 Q129.232 387.695 127.288 388.574 L127.288 371.213 Z\" fill=\"#000000\" fill-rule=\"evenodd\" fill-opacity=\"1\" /><path clip-path=\"url(#clip680)\" d=\"M51.6634 114.55 L59.3023 114.55 L59.3023 88.184 L50.9921 89.8507 L50.9921 85.5914 L59.256 83.9248 L63.9319 83.9248 L63.9319 114.55 L71.5707 114.55 L71.5707 118.485 L51.6634 118.485 L51.6634 114.55 Z\" fill=\"#000000\" fill-rule=\"evenodd\" fill-opacity=\"1\" /><path clip-path=\"url(#clip680)\" d=\"M81.0614 83.9248 L99.4178 83.9248 L99.4178 87.8599 L85.3438 87.8599 L85.3438 96.3321 Q86.3623 95.9849 87.3808 95.8229 Q88.3993 95.6377 89.4178 95.6377 Q95.2049 95.6377 98.5845 98.809 Q101.964 101.98 101.964 107.397 Q101.964 112.976 98.4919 116.077 Q95.0197 119.156 88.7003 119.156 Q86.5243 119.156 84.2558 118.786 Q82.0105 118.415 79.6031 117.675 L79.6031 112.976 Q81.6864 114.11 83.9086 114.665 Q86.1308 115.221 88.6077 115.221 Q92.6123 115.221 94.9502 113.114 Q97.2882 111.008 97.2882 107.397 Q97.2882 103.786 94.9502 101.679 Q92.6123 99.5728 88.6077 99.5728 Q86.7327 99.5728 84.8577 99.9895 Q83.0058 100.406 81.0614 101.286 L81.0614 83.9248 Z\" fill=\"#000000\" fill-rule=\"evenodd\" fill-opacity=\"1\" /><path clip-path=\"url(#clip680)\" d=\"M111.177 112.605 L116.061 112.605 L116.061 118.485 L111.177 118.485 L111.177 112.605 Z\" fill=\"#000000\" fill-rule=\"evenodd\" fill-opacity=\"1\" /><path clip-path=\"url(#clip680)\" d=\"M136.246 87.0035 Q132.635 87.0035 130.807 90.5683 Q129.001 94.1099 129.001 101.24 Q129.001 108.346 130.807 111.911 Q132.635 115.452 136.246 115.452 Q139.881 115.452 141.686 111.911 Q143.515 108.346 143.515 101.24 Q143.515 94.1099 141.686 90.5683 Q139.881 87.0035 136.246 87.0035 M136.246 83.2998 Q142.056 83.2998 145.112 87.9062 Q148.191 92.4896 148.191 101.24 Q148.191 109.966 145.112 114.573 Q142.056 119.156 136.246 119.156 Q130.436 119.156 127.357 114.573 Q124.302 109.966 124.302 101.24 Q124.302 92.4896 127.357 87.9062 Q130.436 83.2998 136.246 83.2998 Z\" fill=\"#000000\" fill-rule=\"evenodd\" fill-opacity=\"1\" /><polyline clip-path=\"url(#clip682)\" style=\"stroke:#009af9; stroke-linecap:round; stroke-linejoin:round; stroke-width:4; stroke-opacity:1; fill:none\" points=\"\n",
       "  245.565,1445.72 347.856,1353.78 450.147,1365.27 552.438,1284.83 654.728,1169.92 757.019,1284.83 859.31,1215.88 961.601,1158.43 1063.89,1123.95 1166.18,1135.44 \n",
       "  1268.47,1112.46 1370.76,986.054 1473.05,997.545 1575.35,974.562 1677.64,904.693 1779.93,917.105 1882.22,273.578 1984.51,87.9763 2086.8,166.838 2189.09,109.265 \n",
       "  2291.38,96.018 \n",
       "  \"/>\n",
       "<path clip-path=\"url(#clip680)\" d=\"\n",
       "M1987.09 198.898 L2280.47 198.898 L2280.47 95.2176 L1987.09 95.2176  Z\n",
       "  \" fill=\"#ffffff\" fill-rule=\"evenodd\" fill-opacity=\"1\"/>\n",
       "<polyline clip-path=\"url(#clip680)\" style=\"stroke:#000000; stroke-linecap:round; stroke-linejoin:round; stroke-width:4; stroke-opacity:1; fill:none\" points=\"\n",
       "  1987.09,198.898 2280.47,198.898 2280.47,95.2176 1987.09,95.2176 1987.09,198.898 \n",
       "  \"/>\n",
       "<polyline clip-path=\"url(#clip680)\" style=\"stroke:#009af9; stroke-linecap:round; stroke-linejoin:round; stroke-width:4; stroke-opacity:1; fill:none\" points=\"\n",
       "  2011.18,147.058 2155.75,147.058 \n",
       "  \"/>\n",
       "<path clip-path=\"url(#clip680)\" d=\"M2193.69 166.745 Q2191.89 171.375 2190.17 172.787 Q2188.46 174.199 2185.59 174.199 L2182.19 174.199 L2182.19 170.634 L2184.69 170.634 Q2186.45 170.634 2187.42 169.8 Q2188.39 168.967 2189.57 165.865 L2190.34 163.921 L2179.85 138.412 L2184.36 138.412 L2192.47 158.689 L2200.57 138.412 L2205.08 138.412 L2193.69 166.745 Z\" fill=\"#000000\" fill-rule=\"evenodd\" fill-opacity=\"1\" /><path clip-path=\"url(#clip680)\" d=\"M2212.37 160.402 L2220.01 160.402 L2220.01 134.037 L2211.7 135.703 L2211.7 131.444 L2219.97 129.778 L2224.64 129.778 L2224.64 160.402 L2232.28 160.402 L2232.28 164.338 L2212.37 164.338 L2212.37 160.402 Z\" fill=\"#000000\" fill-rule=\"evenodd\" fill-opacity=\"1\" /></svg>\n"
      ]
     },
     "metadata": {},
     "output_type": "display_data"
    }
   ],
   "source": [
    "plot(A)"
   ]
  },
  {
   "cell_type": "markdown",
   "id": "3e8fb848",
   "metadata": {},
   "source": [
    "### 9.4.2 Experimentación en el tiempo de ejecución (Recursivo)"
   ]
  },
  {
   "cell_type": "markdown",
   "id": "3720d308",
   "metadata": {},
   "source": [
    "Vamos a realizar 20 ejecuciones del algoritmo con valores entre 0 y 19 para verificar que el tiempo de ejecucion sea una funcion lineal.\n",
    "Ademas imprimiremos los puntos $(n, time)$ para poder visualizar mejor los resultados optenidos."
   ]
  },
  {
   "cell_type": "code",
   "execution_count": 12,
   "id": "4c58c98d",
   "metadata": {},
   "outputs": [
    {
     "data": {
      "text/plain": [
       "20-element Vector{Float64}:\n",
       "  2.3\n",
       "  4.1\n",
       "  5.5\n",
       "  7.0\n",
       "  9.20920920920921\n",
       " 11.1\n",
       " 11.611611611611611\n",
       " 14.4\n",
       " 15.6312625250501\n",
       " 20.060180541624874\n",
       " 20.883534136546185\n",
       " 24.623115577889447\n",
       " 26.733668341708544\n",
       " 29.476861167002014\n",
       " 30.715005035246726\n",
       " 36.08870967741935\n",
       " 37.19758064516129\n",
       " 35.98790322580645\n",
       " 41.717171717171716\n",
       " 40.141557128412536"
      ]
     },
     "metadata": {},
     "output_type": "display_data"
    }
   ],
   "source": [
    "A = [@belapsed Fact_R($i) for i in 0:19] * 10^9"
   ]
  },
  {
   "cell_type": "code",
   "execution_count": 13,
   "id": "76e27df4",
   "metadata": {},
   "outputs": [
    {
     "data": {
      "image/png": "[encoded data removed]",
      "image/svg+xml": "<?xml version=\"1.0\" encoding=\"utf-8\"?>\n<svg xmlns=\"http://www.w3.org/2000/svg\" xmlns:xlink=\"http://www.w3.org/1999/xlink\" width=\"600\" height=\"400\" viewBox=\"0 0 2400 1600\">\n<defs>\n  <clipPath id=\"clip720\">\n    <rect x=\"0\" y=\"0\" width=\"2400\" height=\"1600\"/>\n  </clipPath>\n</defs>\n<path clip-path=\"url(#clip720)\" d=\"\nM0 1600 L2400 1600 L2400 0 L0 0  Z\n  \" fill=\"#ffffff\" fill-rule=\"evenodd\" fill-opacity=\"1\"/>\n<defs>\n  <clipPath id=\"clip721\">\n    <rect x=\"480\" y=\"0\" width=\"1681\" height=\"1600\"/>\n  </clipPath>\n</defs>\n<path clip-path=\"url(#clip720)\" d=\"\nM141.853 1486.45 L2352.76 1486.45 L2352.76 47.2441 L141.853 47.2441  Z\n  \" fill=\"#ffffff\" fill-rule=\"evenodd\" fill-opacity=\"1\"/>\n<defs>\n  <clipPath id=\"clip722\">\n    <rect x=\"141\" y=\"47\" width=\"2212\" height=\"1440\"/>\n  </clipPath>\n</defs>\n<polyline clip-path=\"url(#clip722)\" style=\"stroke:#000000; stroke-linecap:round; stroke-linejoin:round; stroke-width:2; stroke-opacity:0.1; fill:none\" points=\"\n  643.533,1486.45 643.533,47.2441 \n  \"/>\n<polyline clip-path=\"url(#clip722)\" style=\"stroke:#000000; stroke-linecap:round; stroke-linejoin:round; stroke-width:2; stroke-opacity:0.1; fill:none\" points=\"\n  1192.42,1486.45 1192.42,47.2441 \n  \"/>\n<polyline clip-path=\"url(#clip722)\" style=\"stroke:#000000; stroke-linecap:round; stroke-linejoin:round; stroke-width:2; stroke-opacity:0.1; fill:none\" points=\"\n  1741.3,1486.45 1741.3,47.2441 \n  \"/>\n<polyline clip-path=\"url(#clip722)\" style=\"stroke:#000000; stroke-linecap:round; stroke-linejoin:round; stroke-width:2; stroke-opacity:0.1; fill:none\" points=\"\n  2290.18,1486.45 2290.18,47.2441 \n  \"/>\n<polyline clip-path=\"url(#clip720)\" style=\"stroke:#000000; stroke-linecap:round; stroke-linejoin:round; stroke-width:4; stroke-opacity:1; fill:none\" points=\"\n  141.853,1486.45 2352.76,1486.45 \n  \"/>\n<polyline clip-path=\"url(#clip720)\" style=\"stroke:#000000; stroke-linecap:round; stroke-linejoin:round; stroke-width:4; stroke-opacity:1; fill:none\" points=\"\n  643.533,1486.45 643.533,1467.55 \n  \"/>\n<polyline clip-path=\"url(#clip720)\" style=\"stroke:#000000; stroke-linecap:round; stroke-linejoin:round; stroke-width:4; stroke-opacity:1; fill:none\" points=\"\n  1192.42,1486.45 1192.42,1467.55 \n  \"/>\n<polyline clip-path=\"url(#clip720)\" style=\"stroke:#000000; stroke-linecap:round; stroke-linejoin:round; stroke-width:4; stroke-opacity:1; fill:none\" points=\"\n  1741.3,1486.45 1741.3,1467.55 \n  \"/>\n<polyline clip-path=\"url(#clip720)\" style=\"stroke:#000000; stroke-linecap:round; stroke-linejoin:round; stroke-width:4; stroke-opacity:1; fill:none\" points=\"\n  2290.18,1486.45 2290.18,1467.55 \n  \"/>\n<path clip-path=\"url(#clip720)\" d=\"M633.81 1514.29 L652.167 1514.29 L652.167 1518.22 L638.093 1518.22 L638.093 1526.7 Q639.111 1526.35 640.13 1526.19 Q641.148 1526 642.167 1526 Q647.954 1526 651.333 1529.17 Q654.713 1532.34 654.713 1537.76 Q654.713 1543.34 651.241 1546.44 Q647.769 1549.52 641.449 1549.52 Q639.273 1549.52 637.005 1549.15 Q634.759 1548.78 632.352 1548.04 L632.352 1543.34 Q634.435 1544.47 636.658 1545.03 Q638.88 1545.58 641.357 1545.58 Q645.361 1545.58 647.699 1543.48 Q650.037 1541.37 650.037 1537.76 Q650.037 1534.15 647.699 1532.04 Q645.361 1529.94 641.357 1529.94 Q639.482 1529.94 637.607 1530.35 Q635.755 1530.77 633.81 1531.65 L633.81 1514.29 Z\" fill=\"#000000\" fill-rule=\"evenodd\" fill-opacity=\"1\" /><path clip-path=\"url(#clip720)\" d=\"M1167.1 1544.91 L1174.74 1544.91 L1174.74 1518.55 L1166.43 1520.21 L1166.43 1515.95 L1174.7 1514.29 L1179.37 1514.29 L1179.37 1544.91 L1187.01 1544.91 L1187.01 1548.85 L1167.1 1548.85 L1167.1 1544.91 Z\" fill=\"#000000\" fill-rule=\"evenodd\" fill-opacity=\"1\" /><path clip-path=\"url(#clip720)\" d=\"M1206.46 1517.37 Q1202.84 1517.37 1201.02 1520.93 Q1199.21 1524.47 1199.21 1531.6 Q1199.21 1538.71 1201.02 1542.27 Q1202.84 1545.82 1206.46 1545.82 Q1210.09 1545.82 1211.9 1542.27 Q1213.72 1538.71 1213.72 1531.6 Q1213.72 1524.47 1211.9 1520.93 Q1210.09 1517.37 1206.46 1517.37 M1206.46 1513.66 Q1212.27 1513.66 1215.32 1518.27 Q1218.4 1522.85 1218.4 1531.6 Q1218.4 1540.33 1215.32 1544.94 Q1212.27 1549.52 1206.46 1549.52 Q1200.65 1549.52 1197.57 1544.94 Q1194.51 1540.33 1194.51 1531.6 Q1194.51 1522.85 1197.57 1518.27 Q1200.65 1513.66 1206.46 1513.66 Z\" fill=\"#000000\" fill-rule=\"evenodd\" fill-opacity=\"1\" /><path clip-path=\"url(#clip720)\" d=\"M1716.48 1544.91 L1724.12 1544.91 L1724.12 1518.55 L1715.81 1520.21 L1715.81 1515.95 L1724.08 1514.29 L1728.75 1514.29 L1728.75 1544.91 L1736.39 1544.91 L1736.39 1548.85 L1716.48 1548.85 L1716.48 1544.91 Z\" fill=\"#000000\" fill-rule=\"evenodd\" fill-opacity=\"1\" /><path clip-path=\"url(#clip720)\" d=\"M1745.88 1514.29 L1764.24 1514.29 L1764.24 1518.22 L1750.17 1518.22 L1750.17 1526.7 Q1751.18 1526.35 1752.2 1526.19 Q1753.22 1526 1754.24 1526 Q1760.03 1526 1763.41 1529.17 Q1766.79 1532.34 1766.79 1537.76 Q1766.79 1543.34 1763.31 1546.44 Q1759.84 1549.52 1753.52 1549.52 Q1751.35 1549.52 1749.08 1549.15 Q1746.83 1548.78 1744.42 1548.04 L1744.42 1543.34 Q1746.51 1544.47 1748.73 1545.03 Q1750.95 1545.58 1753.43 1545.58 Q1757.43 1545.58 1759.77 1543.48 Q1762.11 1541.37 1762.11 1537.76 Q1762.11 1534.15 1759.77 1532.04 Q1757.43 1529.94 1753.43 1529.94 Q1751.55 1529.94 1749.68 1530.35 Q1747.83 1530.77 1745.88 1531.65 L1745.88 1514.29 Z\" fill=\"#000000\" fill-rule=\"evenodd\" fill-opacity=\"1\" /><path clip-path=\"url(#clip720)\" d=\"M2268.96 1544.91 L2285.28 1544.91 L2285.28 1548.85 L2263.33 1548.85 L2263.33 1544.91 Q2265.99 1542.16 2270.58 1537.53 Q2275.18 1532.88 2276.36 1531.53 Q2278.61 1529.01 2279.49 1527.27 Q2280.39 1525.51 2280.39 1523.82 Q2280.39 1521.07 2278.45 1519.33 Q2276.53 1517.6 2273.42 1517.6 Q2271.22 1517.6 2268.77 1518.36 Q2266.34 1519.13 2263.56 1520.68 L2263.56 1515.95 Q2266.39 1514.82 2268.84 1514.24 Q2271.29 1513.66 2273.33 1513.66 Q2278.7 1513.66 2281.9 1516.35 Q2285.09 1519.03 2285.09 1523.52 Q2285.09 1525.65 2284.28 1527.57 Q2283.49 1529.47 2281.39 1532.07 Q2280.81 1532.74 2277.71 1535.95 Q2274.6 1539.15 2268.96 1544.91 Z\" fill=\"#000000\" fill-rule=\"evenodd\" fill-opacity=\"1\" /><path clip-path=\"url(#clip720)\" d=\"M2305.09 1517.37 Q2301.48 1517.37 2299.65 1520.93 Q2297.85 1524.47 2297.85 1531.6 Q2297.85 1538.71 2299.65 1542.27 Q2301.48 1545.82 2305.09 1545.82 Q2308.72 1545.82 2310.53 1542.27 Q2312.36 1538.71 2312.36 1531.6 Q2312.36 1524.47 2310.53 1520.93 Q2308.72 1517.37 2305.09 1517.37 M2305.09 1513.66 Q2310.9 1513.66 2313.96 1518.27 Q2317.03 1522.85 2317.03 1531.6 Q2317.03 1540.33 2313.96 1544.94 Q2310.9 1549.52 2305.09 1549.52 Q2299.28 1549.52 2296.2 1544.94 Q2293.15 1540.33 2293.15 1531.6 Q2293.15 1522.85 2296.2 1518.27 Q2299.28 1513.66 2305.09 1513.66 Z\" fill=\"#000000\" fill-rule=\"evenodd\" fill-opacity=\"1\" /><polyline clip-path=\"url(#clip722)\" style=\"stroke:#000000; stroke-linecap:round; stroke-linejoin:round; stroke-width:2; stroke-opacity:0.1; fill:none\" points=\"\n  141.853,1180.49 2352.76,1180.49 \n  \"/>\n<polyline clip-path=\"url(#clip722)\" style=\"stroke:#000000; stroke-linecap:round; stroke-linejoin:round; stroke-width:2; stroke-opacity:0.1; fill:none\" points=\"\n  141.853,836.032 2352.76,836.032 \n  \"/>\n<polyline clip-path=\"url(#clip722)\" style=\"stroke:#000000; stroke-linecap:round; stroke-linejoin:round; stroke-width:2; stroke-opacity:0.1; fill:none\" points=\"\n  141.853,491.579 2352.76,491.579 \n  \"/>\n<polyline clip-path=\"url(#clip722)\" style=\"stroke:#000000; stroke-linecap:round; stroke-linejoin:round; stroke-width:2; stroke-opacity:0.1; fill:none\" points=\"\n  141.853,147.125 2352.76,147.125 \n  \"/>\n<polyline clip-path=\"url(#clip720)\" style=\"stroke:#000000; stroke-linecap:round; stroke-linejoin:round; stroke-width:4; stroke-opacity:1; fill:none\" points=\"\n  141.853,1486.45 141.853,47.2441 \n  \"/>\n<polyline clip-path=\"url(#clip720)\" style=\"stroke:#000000; stroke-linecap:round; stroke-linejoin:round; stroke-width:4; stroke-opacity:1; fill:none\" points=\"\n  141.853,1180.49 160.751,1180.49 \n  \"/>\n<polyline clip-path=\"url(#clip720)\" style=\"stroke:#000000; stroke-linecap:round; stroke-linejoin:round; stroke-width:4; stroke-opacity:1; fill:none\" points=\"\n  141.853,836.032 160.751,836.032 \n  \"/>\n<polyline clip-path=\"url(#clip720)\" style=\"stroke:#000000; stroke-linecap:round; stroke-linejoin:round; stroke-width:4; stroke-opacity:1; fill:none\" points=\"\n  141.853,491.579 160.751,491.579 \n  \"/>\n<polyline clip-path=\"url(#clip720)\" style=\"stroke:#000000; stroke-linecap:round; stroke-linejoin:round; stroke-width:4; stroke-opacity:1; fill:none\" points=\"\n  141.853,147.125 160.751,147.125 \n  \"/>\n<path clip-path=\"url(#clip720)\" d=\"M54.5569 1193.83 L62.1958 1193.83 L62.1958 1167.47 L53.8856 1169.13 L53.8856 1164.87 L62.1495 1163.21 L66.8254 1163.21 L66.8254 1193.83 L74.4642 1193.83 L74.4642 1197.77 L54.5569 1197.77 L54.5569 1193.83 Z\" fill=\"#000000\" fill-rule=\"evenodd\" fill-opacity=\"1\" /><path clip-path=\"url(#clip720)\" d=\"M93.9086 1166.28 Q90.2975 1166.28 88.4688 1169.85 Q86.6632 1173.39 86.6632 1180.52 Q86.6632 1187.63 88.4688 1191.19 Q90.2975 1194.73 93.9086 1194.73 Q97.5428 1194.73 99.3483 1191.19 Q101.177 1187.63 101.177 1180.52 Q101.177 1173.39 99.3483 1169.85 Q97.5428 1166.28 93.9086 1166.28 M93.9086 1162.58 Q99.7187 1162.58 102.774 1167.19 Q105.853 1171.77 105.853 1180.52 Q105.853 1189.25 102.774 1193.85 Q99.7187 1198.44 93.9086 1198.44 Q88.0984 1198.44 85.0197 1193.85 Q81.9642 1189.25 81.9642 1180.52 Q81.9642 1171.77 85.0197 1167.19 Q88.0984 1162.58 93.9086 1162.58 Z\" fill=\"#000000\" fill-rule=\"evenodd\" fill-opacity=\"1\" /><path clip-path=\"url(#clip720)\" d=\"M57.7745 849.377 L74.0939 849.377 L74.0939 853.312 L52.1495 853.312 L52.1495 849.377 Q54.8115 846.623 59.3949 841.993 Q64.0013 837.34 65.1819 835.998 Q67.4272 833.475 68.3068 831.739 Q69.2096 829.979 69.2096 828.289 Q69.2096 825.535 67.2652 823.799 Q65.3439 822.063 62.2421 822.063 Q60.043 822.063 57.5893 822.827 Q55.1588 823.59 52.381 825.141 L52.381 820.419 Q55.2051 819.285 57.6588 818.706 Q60.1124 818.127 62.1495 818.127 Q67.5198 818.127 70.7142 820.813 Q73.9087 823.498 73.9087 827.989 Q73.9087 830.118 73.0985 832.039 Q72.3115 833.938 70.205 836.53 Q69.6263 837.201 66.5245 840.419 Q63.4226 843.613 57.7745 849.377 Z\" fill=\"#000000\" fill-rule=\"evenodd\" fill-opacity=\"1\" /><path clip-path=\"url(#clip720)\" d=\"M93.9086 821.831 Q90.2975 821.831 88.4688 825.396 Q86.6632 828.938 86.6632 836.067 Q86.6632 843.174 88.4688 846.738 Q90.2975 850.28 93.9086 850.28 Q97.5428 850.28 99.3483 846.738 Q101.177 843.174 101.177 836.067 Q101.177 828.938 99.3483 825.396 Q97.5428 821.831 93.9086 821.831 M93.9086 818.127 Q99.7187 818.127 102.774 822.734 Q105.853 827.317 105.853 836.067 Q105.853 844.794 102.774 849.4 Q99.7187 853.984 93.9086 853.984 Q88.0984 853.984 85.0197 849.4 Q81.9642 844.794 81.9642 836.067 Q81.9642 827.317 85.0197 822.734 Q88.0984 818.127 93.9086 818.127 Z\" fill=\"#000000\" fill-rule=\"evenodd\" fill-opacity=\"1\" /><path clip-path=\"url(#clip720)\" d=\"M67.9133 490.225 Q71.2698 490.942 73.1448 493.211 Q75.0429 495.479 75.0429 498.812 Q75.0429 503.928 71.5244 506.729 Q68.0059 509.53 61.5245 509.53 Q59.3486 509.53 57.0338 509.09 Q54.7421 508.674 52.2884 507.817 L52.2884 503.303 Q54.2328 504.437 56.5477 505.016 Q58.8625 505.595 61.3856 505.595 Q65.7837 505.595 68.0754 503.859 Q70.3902 502.123 70.3902 498.812 Q70.3902 495.757 68.2374 494.044 Q66.1078 492.308 62.2884 492.308 L58.2606 492.308 L58.2606 488.465 L62.4735 488.465 Q65.9226 488.465 67.7513 487.1 Q69.58 485.711 69.58 483.118 Q69.58 480.456 67.6819 479.044 Q65.8069 477.609 62.2884 477.609 Q60.3671 477.609 58.168 478.026 Q55.969 478.442 53.3301 479.322 L53.3301 475.155 Q55.9921 474.414 58.3069 474.044 Q60.6449 473.674 62.705 473.674 Q68.0291 473.674 71.1309 476.104 Q74.2327 478.512 74.2327 482.632 Q74.2327 485.502 72.5892 487.493 Q70.9457 489.461 67.9133 490.225 Z\" fill=\"#000000\" fill-rule=\"evenodd\" fill-opacity=\"1\" /><path clip-path=\"url(#clip720)\" d=\"M93.9086 477.377 Q90.2975 477.377 88.4688 480.942 Q86.6632 484.484 86.6632 491.613 Q86.6632 498.72 88.4688 502.285 Q90.2975 505.826 93.9086 505.826 Q97.5428 505.826 99.3483 502.285 Q101.177 498.72 101.177 491.613 Q101.177 484.484 99.3483 480.942 Q97.5428 477.377 93.9086 477.377 M93.9086 473.674 Q99.7187 473.674 102.774 478.28 Q105.853 482.863 105.853 491.613 Q105.853 500.34 102.774 504.947 Q99.7187 509.53 93.9086 509.53 Q88.0984 509.53 85.0197 504.947 Q81.9642 500.34 81.9642 491.613 Q81.9642 482.863 85.0197 478.28 Q88.0984 473.674 93.9086 473.674 Z\" fill=\"#000000\" fill-rule=\"evenodd\" fill-opacity=\"1\" /><path clip-path=\"url(#clip720)\" d=\"M66.5939 133.919 L54.7884 152.368 L66.5939 152.368 L66.5939 133.919 M65.367 129.845 L71.2466 129.845 L71.2466 152.368 L76.1772 152.368 L76.1772 156.257 L71.2466 156.257 L71.2466 164.405 L66.5939 164.405 L66.5939 156.257 L50.9921 156.257 L50.9921 151.743 L65.367 129.845 Z\" fill=\"#000000\" fill-rule=\"evenodd\" fill-opacity=\"1\" /><path clip-path=\"url(#clip720)\" d=\"M93.9086 132.924 Q90.2975 132.924 88.4688 136.488 Q86.6632 140.03 86.6632 147.16 Q86.6632 154.266 88.4688 157.831 Q90.2975 161.373 93.9086 161.373 Q97.5428 161.373 99.3483 157.831 Q101.177 154.266 101.177 147.16 Q101.177 140.03 99.3483 136.488 Q97.5428 132.924 93.9086 132.924 M93.9086 129.22 Q99.7187 129.22 102.774 133.826 Q105.853 138.41 105.853 147.16 Q105.853 155.886 102.774 160.493 Q99.7187 165.076 93.9086 165.076 Q88.0984 165.076 85.0197 160.493 Q81.9642 155.886 81.9642 147.16 Q81.9642 138.41 85.0197 133.826 Q88.0984 129.22 93.9086 129.22 Z\" fill=\"#000000\" fill-rule=\"evenodd\" fill-opacity=\"1\" /><polyline clip-path=\"url(#clip722)\" style=\"stroke:#009af9; stroke-linecap:round; stroke-linejoin:round; stroke-width:4; stroke-opacity:1; fill:none\" points=\"\n  204.426,1445.72 314.202,1383.71 423.979,1335.49 533.756,1283.82 643.533,1207.73 753.309,1142.6 863.086,1124.97 972.863,1028.93 1082.64,986.515 1192.42,833.96 \n  1302.19,805.599 1411.97,676.788 1521.75,604.089 1631.52,509.598 1741.3,466.95 1851.08,281.851 1960.85,243.655 2070.63,285.323 2180.41,87.9763 2290.18,142.249 \n  \n  \"/>\n<path clip-path=\"url(#clip720)\" d=\"\nM1980.97 198.898 L2279.06 198.898 L2279.06 95.2176 L1980.97 95.2176  Z\n  \" fill=\"#ffffff\" fill-rule=\"evenodd\" fill-opacity=\"1\"/>\n<polyline clip-path=\"url(#clip720)\" style=\"stroke:#000000; stroke-linecap:round; stroke-linejoin:round; stroke-width:4; stroke-opacity:1; fill:none\" points=\"\n  1980.97,198.898 2279.06,198.898 2279.06,95.2176 1980.97,95.2176 1980.97,198.898 \n  \"/>\n<polyline clip-path=\"url(#clip720)\" style=\"stroke:#009af9; stroke-linecap:round; stroke-linejoin:round; stroke-width:4; stroke-opacity:1; fill:none\" points=\"\n  2005.54,147.058 2152.93,147.058 \n  \"/>\n<path clip-path=\"url(#clip720)\" d=\"M2191.34 166.745 Q2189.53 171.375 2187.82 172.787 Q2186.11 174.199 2183.24 174.199 L2179.84 174.199 L2179.84 170.634 L2182.34 170.634 Q2184.09 170.634 2185.07 169.8 Q2186.04 168.967 2187.22 165.865 L2187.98 163.921 L2177.5 138.412 L2182.01 138.412 L2190.11 158.689 L2198.22 138.412 L2202.73 138.412 L2191.34 166.745 Z\" fill=\"#000000\" fill-rule=\"evenodd\" fill-opacity=\"1\" /><path clip-path=\"url(#clip720)\" d=\"M2210.02 160.402 L2217.66 160.402 L2217.66 134.037 L2209.35 135.703 L2209.35 131.444 L2217.61 129.778 L2222.29 129.778 L2222.29 160.402 L2229.93 160.402 L2229.93 164.338 L2210.02 164.338 L2210.02 160.402 Z\" fill=\"#000000\" fill-rule=\"evenodd\" fill-opacity=\"1\" /></svg>\n",
      "text/html": [
       "<?xml version=\"1.0\" encoding=\"utf-8\"?>\n",
       "<svg xmlns=\"http://www.w3.org/2000/svg\" xmlns:xlink=\"http://www.w3.org/1999/xlink\" width=\"600\" height=\"400\" viewBox=\"0 0 2400 1600\">\n",
       "<defs>\n",
       "  <clipPath id=\"clip770\">\n",
       "    <rect x=\"0\" y=\"0\" width=\"2400\" height=\"1600\"/>\n",
       "  </clipPath>\n",
       "</defs>\n",
       "<path clip-path=\"url(#clip770)\" d=\"\n",
       "M0 1600 L2400 1600 L2400 0 L0 0  Z\n",
       "  \" fill=\"#ffffff\" fill-rule=\"evenodd\" fill-opacity=\"1\"/>\n",
       "<defs>\n",
       "  <clipPath id=\"clip771\">\n",
       "    <rect x=\"480\" y=\"0\" width=\"1681\" height=\"1600\"/>\n",
       "  </clipPath>\n",
       "</defs>\n",
       "<path clip-path=\"url(#clip770)\" d=\"\n",
       "M141.853 1486.45 L2352.76 1486.45 L2352.76 47.2441 L141.853 47.2441  Z\n",
       "  \" fill=\"#ffffff\" fill-rule=\"evenodd\" fill-opacity=\"1\"/>\n",
       "<defs>\n",
       "  <clipPath id=\"clip772\">\n",
       "    <rect x=\"141\" y=\"47\" width=\"2212\" height=\"1440\"/>\n",
       "  </clipPath>\n",
       "</defs>\n",
       "<polyline clip-path=\"url(#clip772)\" style=\"stroke:#000000; stroke-linecap:round; stroke-linejoin:round; stroke-width:2; stroke-opacity:0.1; fill:none\" points=\"\n",
       "  643.533,1486.45 643.533,47.2441 \n",
       "  \"/>\n",
       "<polyline clip-path=\"url(#clip772)\" style=\"stroke:#000000; stroke-linecap:round; stroke-linejoin:round; stroke-width:2; stroke-opacity:0.1; fill:none\" points=\"\n",
       "  1192.42,1486.45 1192.42,47.2441 \n",
       "  \"/>\n",
       "<polyline clip-path=\"url(#clip772)\" style=\"stroke:#000000; stroke-linecap:round; stroke-linejoin:round; stroke-width:2; stroke-opacity:0.1; fill:none\" points=\"\n",
       "  1741.3,1486.45 1741.3,47.2441 \n",
       "  \"/>\n",
       "<polyline clip-path=\"url(#clip772)\" style=\"stroke:#000000; stroke-linecap:round; stroke-linejoin:round; stroke-width:2; stroke-opacity:0.1; fill:none\" points=\"\n",
       "  2290.18,1486.45 2290.18,47.2441 \n",
       "  \"/>\n",
       "<polyline clip-path=\"url(#clip770)\" style=\"stroke:#000000; stroke-linecap:round; stroke-linejoin:round; stroke-width:4; stroke-opacity:1; fill:none\" points=\"\n",
       "  141.853,1486.45 2352.76,1486.45 \n",
       "  \"/>\n",
       "<polyline clip-path=\"url(#clip770)\" style=\"stroke:#000000; stroke-linecap:round; stroke-linejoin:round; stroke-width:4; stroke-opacity:1; fill:none\" points=\"\n",
       "  643.533,1486.45 643.533,1467.55 \n",
       "  \"/>\n",
       "<polyline clip-path=\"url(#clip770)\" style=\"stroke:#000000; stroke-linecap:round; stroke-linejoin:round; stroke-width:4; stroke-opacity:1; fill:none\" points=\"\n",
       "  1192.42,1486.45 1192.42,1467.55 \n",
       "  \"/>\n",
       "<polyline clip-path=\"url(#clip770)\" style=\"stroke:#000000; stroke-linecap:round; stroke-linejoin:round; stroke-width:4; stroke-opacity:1; fill:none\" points=\"\n",
       "  1741.3,1486.45 1741.3,1467.55 \n",
       "  \"/>\n",
       "<polyline clip-path=\"url(#clip770)\" style=\"stroke:#000000; stroke-linecap:round; stroke-linejoin:round; stroke-width:4; stroke-opacity:1; fill:none\" points=\"\n",
       "  2290.18,1486.45 2290.18,1467.55 \n",
       "  \"/>\n",
       "<path clip-path=\"url(#clip770)\" d=\"M633.81 1514.29 L652.167 1514.29 L652.167 1518.22 L638.093 1518.22 L638.093 1526.7 Q639.111 1526.35 640.13 1526.19 Q641.148 1526 642.167 1526 Q647.954 1526 651.333 1529.17 Q654.713 1532.34 654.713 1537.76 Q654.713 1543.34 651.241 1546.44 Q647.769 1549.52 641.449 1549.52 Q639.273 1549.52 637.005 1549.15 Q634.759 1548.78 632.352 1548.04 L632.352 1543.34 Q634.435 1544.47 636.658 1545.03 Q638.88 1545.58 641.357 1545.58 Q645.361 1545.58 647.699 1543.48 Q650.037 1541.37 650.037 1537.76 Q650.037 1534.15 647.699 1532.04 Q645.361 1529.94 641.357 1529.94 Q639.482 1529.94 637.607 1530.35 Q635.755 1530.77 633.81 1531.65 L633.81 1514.29 Z\" fill=\"#000000\" fill-rule=\"evenodd\" fill-opacity=\"1\" /><path clip-path=\"url(#clip770)\" d=\"M1167.1 1544.91 L1174.74 1544.91 L1174.74 1518.55 L1166.43 1520.21 L1166.43 1515.95 L1174.7 1514.29 L1179.37 1514.29 L1179.37 1544.91 L1187.01 1544.91 L1187.01 1548.85 L1167.1 1548.85 L1167.1 1544.91 Z\" fill=\"#000000\" fill-rule=\"evenodd\" fill-opacity=\"1\" /><path clip-path=\"url(#clip770)\" d=\"M1206.46 1517.37 Q1202.84 1517.37 1201.02 1520.93 Q1199.21 1524.47 1199.21 1531.6 Q1199.21 1538.71 1201.02 1542.27 Q1202.84 1545.82 1206.46 1545.82 Q1210.09 1545.82 1211.9 1542.27 Q1213.72 1538.71 1213.72 1531.6 Q1213.72 1524.47 1211.9 1520.93 Q1210.09 1517.37 1206.46 1517.37 M1206.46 1513.66 Q1212.27 1513.66 1215.32 1518.27 Q1218.4 1522.85 1218.4 1531.6 Q1218.4 1540.33 1215.32 1544.94 Q1212.27 1549.52 1206.46 1549.52 Q1200.65 1549.52 1197.57 1544.94 Q1194.51 1540.33 1194.51 1531.6 Q1194.51 1522.85 1197.57 1518.27 Q1200.65 1513.66 1206.46 1513.66 Z\" fill=\"#000000\" fill-rule=\"evenodd\" fill-opacity=\"1\" /><path clip-path=\"url(#clip770)\" d=\"M1716.48 1544.91 L1724.12 1544.91 L1724.12 1518.55 L1715.81 1520.21 L1715.81 1515.95 L1724.08 1514.29 L1728.75 1514.29 L1728.75 1544.91 L1736.39 1544.91 L1736.39 1548.85 L1716.48 1548.85 L1716.48 1544.91 Z\" fill=\"#000000\" fill-rule=\"evenodd\" fill-opacity=\"1\" /><path clip-path=\"url(#clip770)\" d=\"M1745.88 1514.29 L1764.24 1514.29 L1764.24 1518.22 L1750.17 1518.22 L1750.17 1526.7 Q1751.18 1526.35 1752.2 1526.19 Q1753.22 1526 1754.24 1526 Q1760.03 1526 1763.41 1529.17 Q1766.79 1532.34 1766.79 1537.76 Q1766.79 1543.34 1763.31 1546.44 Q1759.84 1549.52 1753.52 1549.52 Q1751.35 1549.52 1749.08 1549.15 Q1746.83 1548.78 1744.42 1548.04 L1744.42 1543.34 Q1746.51 1544.47 1748.73 1545.03 Q1750.95 1545.58 1753.43 1545.58 Q1757.43 1545.58 1759.77 1543.48 Q1762.11 1541.37 1762.11 1537.76 Q1762.11 1534.15 1759.77 1532.04 Q1757.43 1529.94 1753.43 1529.94 Q1751.55 1529.94 1749.68 1530.35 Q1747.83 1530.77 1745.88 1531.65 L1745.88 1514.29 Z\" fill=\"#000000\" fill-rule=\"evenodd\" fill-opacity=\"1\" /><path clip-path=\"url(#clip770)\" d=\"M2268.96 1544.91 L2285.28 1544.91 L2285.28 1548.85 L2263.33 1548.85 L2263.33 1544.91 Q2265.99 1542.16 2270.58 1537.53 Q2275.18 1532.88 2276.36 1531.53 Q2278.61 1529.01 2279.49 1527.27 Q2280.39 1525.51 2280.39 1523.82 Q2280.39 1521.07 2278.45 1519.33 Q2276.53 1517.6 2273.42 1517.6 Q2271.22 1517.6 2268.77 1518.36 Q2266.34 1519.13 2263.56 1520.68 L2263.56 1515.95 Q2266.39 1514.82 2268.84 1514.24 Q2271.29 1513.66 2273.33 1513.66 Q2278.7 1513.66 2281.9 1516.35 Q2285.09 1519.03 2285.09 1523.52 Q2285.09 1525.65 2284.28 1527.57 Q2283.49 1529.47 2281.39 1532.07 Q2280.81 1532.74 2277.71 1535.95 Q2274.6 1539.15 2268.96 1544.91 Z\" fill=\"#000000\" fill-rule=\"evenodd\" fill-opacity=\"1\" /><path clip-path=\"url(#clip770)\" d=\"M2305.09 1517.37 Q2301.48 1517.37 2299.65 1520.93 Q2297.85 1524.47 2297.85 1531.6 Q2297.85 1538.71 2299.65 1542.27 Q2301.48 1545.82 2305.09 1545.82 Q2308.72 1545.82 2310.53 1542.27 Q2312.36 1538.71 2312.36 1531.6 Q2312.36 1524.47 2310.53 1520.93 Q2308.72 1517.37 2305.09 1517.37 M2305.09 1513.66 Q2310.9 1513.66 2313.96 1518.27 Q2317.03 1522.85 2317.03 1531.6 Q2317.03 1540.33 2313.96 1544.94 Q2310.9 1549.52 2305.09 1549.52 Q2299.28 1549.52 2296.2 1544.94 Q2293.15 1540.33 2293.15 1531.6 Q2293.15 1522.85 2296.2 1518.27 Q2299.28 1513.66 2305.09 1513.66 Z\" fill=\"#000000\" fill-rule=\"evenodd\" fill-opacity=\"1\" /><polyline clip-path=\"url(#clip772)\" style=\"stroke:#000000; stroke-linecap:round; stroke-linejoin:round; stroke-width:2; stroke-opacity:0.1; fill:none\" points=\"\n",
       "  141.853,1180.49 2352.76,1180.49 \n",
       "  \"/>\n",
       "<polyline clip-path=\"url(#clip772)\" style=\"stroke:#000000; stroke-linecap:round; stroke-linejoin:round; stroke-width:2; stroke-opacity:0.1; fill:none\" points=\"\n",
       "  141.853,836.032 2352.76,836.032 \n",
       "  \"/>\n",
       "<polyline clip-path=\"url(#clip772)\" style=\"stroke:#000000; stroke-linecap:round; stroke-linejoin:round; stroke-width:2; stroke-opacity:0.1; fill:none\" points=\"\n",
       "  141.853,491.579 2352.76,491.579 \n",
       "  \"/>\n",
       "<polyline clip-path=\"url(#clip772)\" style=\"stroke:#000000; stroke-linecap:round; stroke-linejoin:round; stroke-width:2; stroke-opacity:0.1; fill:none\" points=\"\n",
       "  141.853,147.125 2352.76,147.125 \n",
       "  \"/>\n",
       "<polyline clip-path=\"url(#clip770)\" style=\"stroke:#000000; stroke-linecap:round; stroke-linejoin:round; stroke-width:4; stroke-opacity:1; fill:none\" points=\"\n",
       "  141.853,1486.45 141.853,47.2441 \n",
       "  \"/>\n",
       "<polyline clip-path=\"url(#clip770)\" style=\"stroke:#000000; stroke-linecap:round; stroke-linejoin:round; stroke-width:4; stroke-opacity:1; fill:none\" points=\"\n",
       "  141.853,1180.49 160.751,1180.49 \n",
       "  \"/>\n",
       "<polyline clip-path=\"url(#clip770)\" style=\"stroke:#000000; stroke-linecap:round; stroke-linejoin:round; stroke-width:4; stroke-opacity:1; fill:none\" points=\"\n",
       "  141.853,836.032 160.751,836.032 \n",
       "  \"/>\n",
       "<polyline clip-path=\"url(#clip770)\" style=\"stroke:#000000; stroke-linecap:round; stroke-linejoin:round; stroke-width:4; stroke-opacity:1; fill:none\" points=\"\n",
       "  141.853,491.579 160.751,491.579 \n",
       "  \"/>\n",
       "<polyline clip-path=\"url(#clip770)\" style=\"stroke:#000000; stroke-linecap:round; stroke-linejoin:round; stroke-width:4; stroke-opacity:1; fill:none\" points=\"\n",
       "  141.853,147.125 160.751,147.125 \n",
       "  \"/>\n",
       "<path clip-path=\"url(#clip770)\" d=\"M54.5569 1193.83 L62.1958 1193.83 L62.1958 1167.47 L53.8856 1169.13 L53.8856 1164.87 L62.1495 1163.21 L66.8254 1163.21 L66.8254 1193.83 L74.4642 1193.83 L74.4642 1197.77 L54.5569 1197.77 L54.5569 1193.83 Z\" fill=\"#000000\" fill-rule=\"evenodd\" fill-opacity=\"1\" /><path clip-path=\"url(#clip770)\" d=\"M93.9086 1166.28 Q90.2975 1166.28 88.4688 1169.85 Q86.6632 1173.39 86.6632 1180.52 Q86.6632 1187.63 88.4688 1191.19 Q90.2975 1194.73 93.9086 1194.73 Q97.5428 1194.73 99.3483 1191.19 Q101.177 1187.63 101.177 1180.52 Q101.177 1173.39 99.3483 1169.85 Q97.5428 1166.28 93.9086 1166.28 M93.9086 1162.58 Q99.7187 1162.58 102.774 1167.19 Q105.853 1171.77 105.853 1180.52 Q105.853 1189.25 102.774 1193.85 Q99.7187 1198.44 93.9086 1198.44 Q88.0984 1198.44 85.0197 1193.85 Q81.9642 1189.25 81.9642 1180.52 Q81.9642 1171.77 85.0197 1167.19 Q88.0984 1162.58 93.9086 1162.58 Z\" fill=\"#000000\" fill-rule=\"evenodd\" fill-opacity=\"1\" /><path clip-path=\"url(#clip770)\" d=\"M57.7745 849.377 L74.0939 849.377 L74.0939 853.312 L52.1495 853.312 L52.1495 849.377 Q54.8115 846.623 59.3949 841.993 Q64.0013 837.34 65.1819 835.998 Q67.4272 833.475 68.3068 831.739 Q69.2096 829.979 69.2096 828.289 Q69.2096 825.535 67.2652 823.799 Q65.3439 822.063 62.2421 822.063 Q60.043 822.063 57.5893 822.827 Q55.1588 823.59 52.381 825.141 L52.381 820.419 Q55.2051 819.285 57.6588 818.706 Q60.1124 818.127 62.1495 818.127 Q67.5198 818.127 70.7142 820.813 Q73.9087 823.498 73.9087 827.989 Q73.9087 830.118 73.0985 832.039 Q72.3115 833.938 70.205 836.53 Q69.6263 837.201 66.5245 840.419 Q63.4226 843.613 57.7745 849.377 Z\" fill=\"#000000\" fill-rule=\"evenodd\" fill-opacity=\"1\" /><path clip-path=\"url(#clip770)\" d=\"M93.9086 821.831 Q90.2975 821.831 88.4688 825.396 Q86.6632 828.938 86.6632 836.067 Q86.6632 843.174 88.4688 846.738 Q90.2975 850.28 93.9086 850.28 Q97.5428 850.28 99.3483 846.738 Q101.177 843.174 101.177 836.067 Q101.177 828.938 99.3483 825.396 Q97.5428 821.831 93.9086 821.831 M93.9086 818.127 Q99.7187 818.127 102.774 822.734 Q105.853 827.317 105.853 836.067 Q105.853 844.794 102.774 849.4 Q99.7187 853.984 93.9086 853.984 Q88.0984 853.984 85.0197 849.4 Q81.9642 844.794 81.9642 836.067 Q81.9642 827.317 85.0197 822.734 Q88.0984 818.127 93.9086 818.127 Z\" fill=\"#000000\" fill-rule=\"evenodd\" fill-opacity=\"1\" /><path clip-path=\"url(#clip770)\" d=\"M67.9133 490.225 Q71.2698 490.942 73.1448 493.211 Q75.0429 495.479 75.0429 498.812 Q75.0429 503.928 71.5244 506.729 Q68.0059 509.53 61.5245 509.53 Q59.3486 509.53 57.0338 509.09 Q54.7421 508.674 52.2884 507.817 L52.2884 503.303 Q54.2328 504.437 56.5477 505.016 Q58.8625 505.595 61.3856 505.595 Q65.7837 505.595 68.0754 503.859 Q70.3902 502.123 70.3902 498.812 Q70.3902 495.757 68.2374 494.044 Q66.1078 492.308 62.2884 492.308 L58.2606 492.308 L58.2606 488.465 L62.4735 488.465 Q65.9226 488.465 67.7513 487.1 Q69.58 485.711 69.58 483.118 Q69.58 480.456 67.6819 479.044 Q65.8069 477.609 62.2884 477.609 Q60.3671 477.609 58.168 478.026 Q55.969 478.442 53.3301 479.322 L53.3301 475.155 Q55.9921 474.414 58.3069 474.044 Q60.6449 473.674 62.705 473.674 Q68.0291 473.674 71.1309 476.104 Q74.2327 478.512 74.2327 482.632 Q74.2327 485.502 72.5892 487.493 Q70.9457 489.461 67.9133 490.225 Z\" fill=\"#000000\" fill-rule=\"evenodd\" fill-opacity=\"1\" /><path clip-path=\"url(#clip770)\" d=\"M93.9086 477.377 Q90.2975 477.377 88.4688 480.942 Q86.6632 484.484 86.6632 491.613 Q86.6632 498.72 88.4688 502.285 Q90.2975 505.826 93.9086 505.826 Q97.5428 505.826 99.3483 502.285 Q101.177 498.72 101.177 491.613 Q101.177 484.484 99.3483 480.942 Q97.5428 477.377 93.9086 477.377 M93.9086 473.674 Q99.7187 473.674 102.774 478.28 Q105.853 482.863 105.853 491.613 Q105.853 500.34 102.774 504.947 Q99.7187 509.53 93.9086 509.53 Q88.0984 509.53 85.0197 504.947 Q81.9642 500.34 81.9642 491.613 Q81.9642 482.863 85.0197 478.28 Q88.0984 473.674 93.9086 473.674 Z\" fill=\"#000000\" fill-rule=\"evenodd\" fill-opacity=\"1\" /><path clip-path=\"url(#clip770)\" d=\"M66.5939 133.919 L54.7884 152.368 L66.5939 152.368 L66.5939 133.919 M65.367 129.845 L71.2466 129.845 L71.2466 152.368 L76.1772 152.368 L76.1772 156.257 L71.2466 156.257 L71.2466 164.405 L66.5939 164.405 L66.5939 156.257 L50.9921 156.257 L50.9921 151.743 L65.367 129.845 Z\" fill=\"#000000\" fill-rule=\"evenodd\" fill-opacity=\"1\" /><path clip-path=\"url(#clip770)\" d=\"M93.9086 132.924 Q90.2975 132.924 88.4688 136.488 Q86.6632 140.03 86.6632 147.16 Q86.6632 154.266 88.4688 157.831 Q90.2975 161.373 93.9086 161.373 Q97.5428 161.373 99.3483 157.831 Q101.177 154.266 101.177 147.16 Q101.177 140.03 99.3483 136.488 Q97.5428 132.924 93.9086 132.924 M93.9086 129.22 Q99.7187 129.22 102.774 133.826 Q105.853 138.41 105.853 147.16 Q105.853 155.886 102.774 160.493 Q99.7187 165.076 93.9086 165.076 Q88.0984 165.076 85.0197 160.493 Q81.9642 155.886 81.9642 147.16 Q81.9642 138.41 85.0197 133.826 Q88.0984 129.22 93.9086 129.22 Z\" fill=\"#000000\" fill-rule=\"evenodd\" fill-opacity=\"1\" /><polyline clip-path=\"url(#clip772)\" style=\"stroke:#009af9; stroke-linecap:round; stroke-linejoin:round; stroke-width:4; stroke-opacity:1; fill:none\" points=\"\n",
       "  204.426,1445.72 314.202,1383.71 423.979,1335.49 533.756,1283.82 643.533,1207.73 753.309,1142.6 863.086,1124.97 972.863,1028.93 1082.64,986.515 1192.42,833.96 \n",
       "  1302.19,805.599 1411.97,676.788 1521.75,604.089 1631.52,509.598 1741.3,466.95 1851.08,281.851 1960.85,243.655 2070.63,285.323 2180.41,87.9763 2290.18,142.249 \n",
       "  \n",
       "  \"/>\n",
       "<path clip-path=\"url(#clip770)\" d=\"\n",
       "M1980.97 198.898 L2279.06 198.898 L2279.06 95.2176 L1980.97 95.2176  Z\n",
       "  \" fill=\"#ffffff\" fill-rule=\"evenodd\" fill-opacity=\"1\"/>\n",
       "<polyline clip-path=\"url(#clip770)\" style=\"stroke:#000000; stroke-linecap:round; stroke-linejoin:round; stroke-width:4; stroke-opacity:1; fill:none\" points=\"\n",
       "  1980.97,198.898 2279.06,198.898 2279.06,95.2176 1980.97,95.2176 1980.97,198.898 \n",
       "  \"/>\n",
       "<polyline clip-path=\"url(#clip770)\" style=\"stroke:#009af9; stroke-linecap:round; stroke-linejoin:round; stroke-width:4; stroke-opacity:1; fill:none\" points=\"\n",
       "  2005.54,147.058 2152.93,147.058 \n",
       "  \"/>\n",
       "<path clip-path=\"url(#clip770)\" d=\"M2191.34 166.745 Q2189.53 171.375 2187.82 172.787 Q2186.11 174.199 2183.24 174.199 L2179.84 174.199 L2179.84 170.634 L2182.34 170.634 Q2184.09 170.634 2185.07 169.8 Q2186.04 168.967 2187.22 165.865 L2187.98 163.921 L2177.5 138.412 L2182.01 138.412 L2190.11 158.689 L2198.22 138.412 L2202.73 138.412 L2191.34 166.745 Z\" fill=\"#000000\" fill-rule=\"evenodd\" fill-opacity=\"1\" /><path clip-path=\"url(#clip770)\" d=\"M2210.02 160.402 L2217.66 160.402 L2217.66 134.037 L2209.35 135.703 L2209.35 131.444 L2217.61 129.778 L2222.29 129.778 L2222.29 160.402 L2229.93 160.402 L2229.93 164.338 L2210.02 164.338 L2210.02 160.402 Z\" fill=\"#000000\" fill-rule=\"evenodd\" fill-opacity=\"1\" /></svg>\n"
      ]
     },
     "metadata": {},
     "output_type": "display_data"
    }
   ],
   "source": [
    "plot(A)"
   ]
  }
 ],
 "metadata": {
  "kernelspec": {
   "display_name": "Julia 1.7.3",
   "language": "julia",
   "name": "julia-1.7"
  },
  "language_info": {
   "file_extension": ".jl",
   "mimetype": "application/julia",
   "name": "julia",
   "version": "1.7.3"
  }
 },
 "nbformat": 4,
 "nbformat_minor": 5
}
