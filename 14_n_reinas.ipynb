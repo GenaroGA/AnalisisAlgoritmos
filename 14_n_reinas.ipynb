{
 "cells": [
  {
   "cell_type": "markdown",
   "metadata": {},
   "source": [
    "## 14 Problema de las n reinas"
   ]
  },
  {
   "cell_type": "markdown",
   "metadata": {},
   "source": [
    "El problema de las n reinas conciste en colocar reinas de ajedrez en un tablero de $n\\times n$ sin que se ataquen entre sí. Tratamos de buscar todas las soluciones posibles al problema."
   ]
  },
  {
   "cell_type": "markdown",
   "metadata": {},
   "source": [
    "### 14.1 Algoritmo"
   ]
  },
  {
   "cell_type": "code",
   "execution_count": 3,
   "metadata": {},
   "outputs": [
    {
     "data": {
      "text/plain": [
       "40"
      ]
     },
     "execution_count": 3,
     "metadata": {},
     "output_type": "execute_result"
    }
   ],
   "source": [
    "def esValida (fila, columna, reinas):\n",
    "    for i in range (fila):\n",
    "        #verificar que no sea la misma columna\n",
    "        if columna == reinas [i]:\n",
    "            return False\n",
    "        #verificar que no sea la misma diagonal\n",
    "        elif abs(columna - reinas[i]) == abs(fila - i):\n",
    "            return False\n",
    "    return True\n",
    "\n",
    "def colocarReinas (fila, reinas, n):\n",
    "    if fila == n:\n",
    "        # print(reinas)\n",
    "        return 1\n",
    "    else:\n",
    "        soluciones = 0\n",
    "        for columna in range (n):\n",
    "            if esValida(fila, columna, reinas):\n",
    "                reinas[fila] = columna\n",
    "                soluciones += colocarReinas(fila+1, reinas, n)\n",
    "        return soluciones\n",
    "\n",
    "def nReinas (n):\n",
    "    reinas = ['']*n\n",
    "    fila = 0\n",
    "    return colocarReinas(fila, reinas, n)\n",
    "\n",
    "nReinas(7)"
   ]
  },
  {
   "cell_type": "markdown",
   "metadata": {},
   "source": [
    "### 14.2 Verificación"
   ]
  },
  {
   "cell_type": "markdown",
   "metadata": {},
   "source": [
    "**Invariante:** Al colocar la i-ésima reina, las primeras $i-1$ reinas están colocadas de tal forma que no se atacan entre sí.  \n",
    "**Inicilización:** Al colocar la primera reina no hay forma de atacar a tra reina.  \n",
    "**Mantenimiento:** En la iésima fila, se coloca una reina de tal forma que no ataca a ninguna de las reinas ya puestas.  \n",
    "**Finalización:** Se cuenta una solución cuando se coloca una reina en la última fila.  "
   ]
  },
  {
   "cell_type": "markdown",
   "metadata": {},
   "source": [
    "### 14.3 Análisis del tiempo de ejecución"
   ]
  },
  {
   "cell_type": "markdown",
   "metadata": {},
   "source": [
    "En la función esValida vemos que las líneas 2 a 5 tienen tiempo de ejecución $\\theta(1)$, pero al estar dentro del ciclo for, se ejecutan a lo más n veces por lo que el tiempo de ejecución de la función esValida es $O(n)$.  \n",
    "En la función colocarReinas analizamos línea por línea: Las líneas 1 a 4 tienen tiempo de ejecución $\\theta(1)$. La línea 5 es $\\theta(n)$ al ser un for que va de 0 a n. La línea 6 tiene tiempo de ejecución $O(n)$, como ya lo calculamos en le párrafo anterior. La línea 7 tendrá tiempo de ejecución $\\theta(1)$. La línea 8 que es la recursión tiene tiempo de ejecución $T(n-1)$ ya que es la musma función pero con una fila menos.  \n",
    "Ahora sumando, tenemos que $T(n)=\\theta(1) + n[O(n) + \\theta(1) + T(n-1)]$  \n",
    "Simplificando  \n",
    "$T(n) = nT(n-1) + O(n^2) + \\theta(n) +\\theta(1)$  \n",
    "$T(n) = nT(n-1) +O(n^2)$  \n",
    "Resolviendo la recursión por sustitución  \n",
    "$T(n-1) = (n-1)T(n-2) + O(n^2)$  \n",
    "$T(n-2) = (n-2)T(n-3) + O(n^2)$  \n",
    "  \n",
    "$T(n) = n[(n-1)[(n-2)T(n-3)+ O(n^2)]+ O(n^2)]+ O(n^2)$  \n",
    "$T(n) = n[(n-1)(n-2)T(n-3)+(n-1)O(n^2) + O(n^2)]+ O(n^2)$  \n",
    "$T(n) = n(n-1)(n-2)T(n-3)+n(n-1)O(n^2) + nO(n^2)+ O(n^2)$  \n",
    "$T(n) = n(n-1)(n-2)T(n-3)+O(n^2)[n(n-1) + n + 1]$  \n",
    "  \n",
    "$T(n-3) = (n-3)T(n-4) + O(n^2)$  \n",
    "  \n",
    "$T(n) = n(n-1)(n-2)[(n-3)T(n-4) + O(n^2)]+O(n^2)[n(n-1) + n + 1]$    \n",
    "$T(n) = n(n-1)(n-2)(n-3)T(n-4) + O(n^2)[n(n-1)(n-2) + n(n-1) + n + 1]$    \n",
    "...  \n",
    "$T(n) = n(n-1)(n-2)...(n-k+1)T(n-k)+O(n^2)[n(n-1)(n-2)...(n-k+2)+  ... + n(n-1) + n + 1]$  \n",
    "Caso base: $k=n, T(0) = \\theta(1)$  \n",
    "$T(n) = n!*T(0)+O(n^2)\\sum (n!/i!)$   \n",
    "$T(n) = n!+O(n^2)+O(n^2*n!)\\sum (1/i!)$   \n",
    "Como $\\sum (1/i!)$ cuando n tiende a infinito converge a $(e-1)$, trataremos el término como una constante  \n",
    "Finalmente  \n",
    "$T(n) = O(n^2*n!)$\n",
    "\n",
    "\n"
   ]
  },
  {
   "cell_type": "markdown",
   "metadata": {},
   "source": [
    "### 14.4 Experimentación en el tiempo de ejecución"
   ]
  },
  {
   "cell_type": "code",
   "execution_count": 4,
   "metadata": {},
   "outputs": [
    {
     "name": "stdout",
     "output_type": "stream",
     "text": [
      "0 x 0: 3.7999998312443495e-06\n",
      "1 x 1: 5.800000508315861e-06\n",
      "2 x 2: 6.300004315562546e-06\n",
      "3 x 3: 1.069999416358769e-05\n",
      "4 x 4: 3.640000068116933e-05\n",
      "5 x 5: 0.00012469998910091817\n",
      "6 x 6: 0.00047559999802615494\n",
      "7 x 7: 0.002094399998895824\n",
      "8 x 8: 0.009092799999052659\n",
      "9 x 9: 0.047314199997344986\n",
      "10 x 10: 0.22908199999073986\n",
      "11 x 11: 1.2730811999936122\n",
      "12 x 12: 7.427054100000532\n",
      "13 x 13: 47.14355349999096\n",
      "14 x 14: 314.08031689999916\n"
     ]
    },
    {
     "data": {
      "text/plain": [
       "[<matplotlib.lines.Line2D at 0x16b9964f820>]"
      ]
     },
     "execution_count": 4,
     "metadata": {},
     "output_type": "execute_result"
    },
    {
     "data": {
      "image/png": "[encoded data removed]",
      "text/plain": [
       "<Figure size 432x288 with 1 Axes>"
      ]
     },
     "metadata": {
      "needs_background": "light"
     },
     "output_type": "display_data"
    }
   ],
   "source": [
    "from timeit import default_timer\n",
    "import matplotlib.pyplot as plt\n",
    "\n",
    "\n",
    "y=[]\n",
    "x=[]\n",
    "for i in range (15):\n",
    "    inicio = default_timer()\n",
    "    A = nReinas(i)\n",
    "    fin = default_timer()\n",
    "    print(str(i) + ' x ' + str(i) + ': ' + str(fin-inicio))\n",
    "    x.append(i)\n",
    "    y.append(fin-inicio)\n",
    "\n",
    "plt.plot(x, y)"
   ]
  }
 ],
 "metadata": {
  "kernelspec": {
   "display_name": "Python 3.10.2 64-bit",
   "language": "python",
   "name": "python3"
  },
  "language_info": {
   "codemirror_mode": {
    "name": "ipython",
    "version": 3
   },
   "file_extension": ".py",
   "mimetype": "text/x-python",
   "name": "python",
   "nbconvert_exporter": "python",
   "pygments_lexer": "ipython3",
   "version": "3.10.2"
  },
  "orig_nbformat": 4,
  "vscode": {
   "interpreter": {
    "hash": "4ae8321023a43e8750d8ff3593eda6e0e7606e9c5757d8cb19436b51b76db73b"
   }
  }
 },
 "nbformat": 4,
 "nbformat_minor": 2
}
