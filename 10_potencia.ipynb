{
 "cells": [
  {
   "cell_type": "markdown",
   "metadata": {},
   "source": [
    "# 10 Potencia de un número"
   ]
  },
  {
   "cell_type": "markdown",
   "metadata": {},
   "source": [
    "### 10.1.1 Algoritmo Iterativo"
   ]
  },
  {
   "cell_type": "code",
   "execution_count": 19,
   "metadata": {},
   "outputs": [
    {
     "data": {
      "text/plain": [
       "4"
      ]
     },
     "execution_count": 19,
     "metadata": {},
     "output_type": "execute_result"
    }
   ],
   "source": [
    "def potencia_i(n,k):\n",
    "    r = n\n",
    "    if k == 0:\n",
    "        return 1\n",
    "    for i in range(k-1):\n",
    "        r = n * r\n",
    "    return r\n",
    "potencia_i(4,1)"
   ]
  },
  {
   "cell_type": "markdown",
   "metadata": {},
   "source": [
    "### 10.1.2 Algoritmo Recursivo"
   ]
  },
  {
   "cell_type": "code",
   "execution_count": 9,
   "metadata": {},
   "outputs": [
    {
     "data": {
      "text/plain": [
       "64"
      ]
     },
     "execution_count": 9,
     "metadata": {},
     "output_type": "execute_result"
    }
   ],
   "source": [
    "def potencia_r(n,k):\n",
    "    if k == 0:\n",
    "        return 1\n",
    "    return n*potencia_r(n,k-1)"
   ]
  },
  {
   "cell_type": "markdown",
   "metadata": {},
   "source": [
    "### 10.2.1 Verificación (Iterativo)\n",
    "**Loop Invariante:**\n",
    "\n",
    "En la $i-esima$ iteración del ciclo $for$ elvalor es $r=n \\times n^{i-1}$.\n",
    "\n",
    "**Inicio:**\n",
    "\n",
    "En el caso de $k=0$ el algoritmo cumple la condición del la sentencia $if$ $else$ y el algoritmo devuelve $1$ en el caso de $k=1$ el $for$ no se ejecuta y devulve el mismo numero dado cumpliendo el caso de $n^1$, en otro caso el for calcula el valor $n^2 = n*n = n*r$.\n",
    "\n",
    "**Término**\n",
    "\n",
    "El algoritmo finaliza cuando $i=k-1$, obteniendo el valor $n^k = n \\times n^{k-1} = n \\times r$. obteniendo así el resultado correcto."
   ]
  },
  {
   "cell_type": "code",
   "execution_count": 20,
   "metadata": {},
   "outputs": [
    {
     "data": {
      "text/plain": [
       "1024"
      ]
     },
     "execution_count": 20,
     "metadata": {},
     "output_type": "execute_result"
    }
   ],
   "source": [
    "potencia_i(4,5)"
   ]
  },
  {
   "cell_type": "markdown",
   "metadata": {},
   "source": [
    "### 10.2.2 Verificación (Recursivo)"
   ]
  },
  {
   "cell_type": "markdown",
   "metadata": {},
   "source": [
    "**Loop Invariante:**\n",
    "\n",
    "Para obtener el valor $n^{i}$ se obtiene se debe de hacer $n^i = n \\times n^{i-1} $\n",
    "\n",
    "**Inicio:**\n",
    "\n",
    "Si $k=0$, entonces el algoritmo devuelve $1$, en otro caso el algoritmo calcula $n \\times n^{k-1}$.\n",
    "\n",
    "**Término**\n",
    "\n",
    "El algoritmo calculo $n^k = n \\times n^{k-1}$, el término $n^{k-1}$ cae en el loop invariante siguiendo la recursión hasta el caso base, como todos los casos anteriores son correctos y el útimo tambien lo es, se obtiene el valor correcto para $n^k$."
   ]
  },
  {
   "cell_type": "code",
   "execution_count": 21,
   "metadata": {},
   "outputs": [
    {
     "data": {
      "text/plain": [
       "1024"
      ]
     },
     "execution_count": 21,
     "metadata": {},
     "output_type": "execute_result"
    }
   ],
   "source": [
    "potencia_r(4,5)"
   ]
  },
  {
   "cell_type": "markdown",
   "metadata": {},
   "source": [
    "### 10.3 Análisis del tiempo de ejecución\n",
    "En ambos casos el tiempo de ejecución es $\\theta(k-1)$, pues en el caso recursivo no se descartan calculo y en el caso iterativo no hay ciclos anidados, por lo que en todos los casos se realizarán $k-1$ veces las operaciones dentro del ciclo for o se llamara $k-1$ veces a la función."
   ]
  },
  {
   "cell_type": "markdown",
   "metadata": {},
   "source": [
    "### 10.4.1 Experimentación en el tiempo de ejecución (Iterativo)\n",
    "Se realizarán 100 ejecuciones del algoritmo elevando 4 a la potencia $1,000 \\times i, \\forall i \\in N | 1 \\leq i \\leq 100$ y se registrara el tiempo de ejecución para generar una grafica similar al tiempo de ejecución obtenido de $\\theta(n-1)$."
   ]
  },
  {
   "cell_type": "code",
   "execution_count": 23,
   "metadata": {},
   "outputs": [
    {
     "name": "stdout",
     "output_type": "stream",
     "text": [
      "1000-simo elemento de la sucesión de fibonacci 0.000133514404296875s\n",
      "2000-simo elemento de la sucesión de fibonacci 0.00026535987854003906s\n",
      "3000-simo elemento de la sucesión de fibonacci 0.0004565715789794922s\n",
      "4000-simo elemento de la sucesión de fibonacci 0.0005433559417724609s\n",
      "5000-simo elemento de la sucesión de fibonacci 0.0009238719940185547s\n",
      "6000-simo elemento de la sucesión de fibonacci 0.0011751651763916016s\n",
      "7000-simo elemento de la sucesión de fibonacci 0.00418400764465332s\n",
      "8000-simo elemento de la sucesión de fibonacci 0.002480030059814453s\n",
      "9000-simo elemento de la sucesión de fibonacci 0.0028607845306396484s\n",
      "10000-simo elemento de la sucesión de fibonacci 0.0030868053436279297s\n",
      "11000-simo elemento de la sucesión de fibonacci 0.003567934036254883s\n",
      "12000-simo elemento de la sucesión de fibonacci 0.0045659542083740234s\n",
      "13000-simo elemento de la sucesión de fibonacci 0.006460905075073242s\n",
      "14000-simo elemento de la sucesión de fibonacci 0.0056078433990478516s\n",
      "15000-simo elemento de la sucesión de fibonacci 0.007379293441772461s\n",
      "16000-simo elemento de la sucesión de fibonacci 0.007610321044921875s\n",
      "17000-simo elemento de la sucesión de fibonacci 0.008687257766723633s\n",
      "18000-simo elemento de la sucesión de fibonacci 0.00985574722290039s\n",
      "19000-simo elemento de la sucesión de fibonacci 0.010730266571044922s\n",
      "20000-simo elemento de la sucesión de fibonacci 0.011273622512817383s\n",
      "21000-simo elemento de la sucesión de fibonacci 0.013627767562866211s\n",
      "22000-simo elemento de la sucesión de fibonacci 0.01343846321105957s\n",
      "23000-simo elemento de la sucesión de fibonacci 0.015537500381469727s\n",
      "24000-simo elemento de la sucesión de fibonacci 0.015485525131225586s\n",
      "25000-simo elemento de la sucesión de fibonacci 0.01711583137512207s\n",
      "26000-simo elemento de la sucesión de fibonacci 0.018021345138549805s\n",
      "27000-simo elemento de la sucesión de fibonacci 0.019228458404541016s\n",
      "28000-simo elemento de la sucesión de fibonacci 0.021712303161621094s\n",
      "29000-simo elemento de la sucesión de fibonacci 0.023638486862182617s\n",
      "30000-simo elemento de la sucesión de fibonacci 0.02623438835144043s\n",
      "31000-simo elemento de la sucesión de fibonacci 0.02762770652770996s\n",
      "32000-simo elemento de la sucesión de fibonacci 0.028306245803833008s\n",
      "33000-simo elemento de la sucesión de fibonacci 0.028938770294189453s\n",
      "34000-simo elemento de la sucesión de fibonacci 0.029854536056518555s\n",
      "35000-simo elemento de la sucesión de fibonacci 0.031235694885253906s\n",
      "36000-simo elemento de la sucesión de fibonacci 0.034897804260253906s\n",
      "37000-simo elemento de la sucesión de fibonacci 0.03913235664367676s\n",
      "38000-simo elemento de la sucesión de fibonacci 0.03859567642211914s\n",
      "39000-simo elemento de la sucesión de fibonacci 0.039556026458740234s\n",
      "40000-simo elemento de la sucesión de fibonacci 0.04040360450744629s\n",
      "41000-simo elemento de la sucesión de fibonacci 0.043965816497802734s\n",
      "42000-simo elemento de la sucesión de fibonacci 0.04561781883239746s\n",
      "43000-simo elemento de la sucesión de fibonacci 0.04949831962585449s\n",
      "44000-simo elemento de la sucesión de fibonacci 0.048858642578125s\n",
      "45000-simo elemento de la sucesión de fibonacci 0.051625728607177734s\n",
      "46000-simo elemento de la sucesión de fibonacci 0.05370187759399414s\n",
      "47000-simo elemento de la sucesión de fibonacci 0.058477163314819336s\n",
      "48000-simo elemento de la sucesión de fibonacci 0.06632637977600098s\n",
      "49000-simo elemento de la sucesión de fibonacci 0.060686588287353516s\n",
      "50000-simo elemento de la sucesión de fibonacci 0.06415677070617676s\n",
      "51000-simo elemento de la sucesión de fibonacci 0.06742405891418457s\n",
      "52000-simo elemento de la sucesión de fibonacci 0.06848549842834473s\n",
      "53000-simo elemento de la sucesión de fibonacci 0.07030367851257324s\n",
      "54000-simo elemento de la sucesión de fibonacci 0.07431292533874512s\n",
      "55000-simo elemento de la sucesión de fibonacci 0.07771682739257812s\n",
      "56000-simo elemento de la sucesión de fibonacci 0.07864952087402344s\n",
      "57000-simo elemento de la sucesión de fibonacci 0.08270072937011719s\n",
      "58000-simo elemento de la sucesión de fibonacci 0.08625960350036621s\n",
      "59000-simo elemento de la sucesión de fibonacci 0.08704829216003418s\n",
      "60000-simo elemento de la sucesión de fibonacci 0.09995388984680176s\n",
      "61000-simo elemento de la sucesión de fibonacci 0.09294772148132324s\n",
      "62000-simo elemento de la sucesión de fibonacci 0.0959630012512207s\n",
      "63000-simo elemento de la sucesión de fibonacci 0.10163235664367676s\n",
      "64000-simo elemento de la sucesión de fibonacci 0.10167551040649414s\n",
      "65000-simo elemento de la sucesión de fibonacci 0.10411262512207031s\n",
      "66000-simo elemento de la sucesión de fibonacci 0.11052870750427246s\n",
      "67000-simo elemento de la sucesión de fibonacci 0.11116743087768555s\n",
      "68000-simo elemento de la sucesión de fibonacci 0.1154167652130127s\n",
      "69000-simo elemento de la sucesión de fibonacci 0.11990976333618164s\n",
      "70000-simo elemento de la sucesión de fibonacci 0.12132096290588379s\n",
      "71000-simo elemento de la sucesión de fibonacci 0.1262192726135254s\n",
      "72000-simo elemento de la sucesión de fibonacci 0.12914490699768066s\n",
      "73000-simo elemento de la sucesión de fibonacci 0.1320326328277588s\n",
      "74000-simo elemento de la sucesión de fibonacci 0.13719654083251953s\n",
      "75000-simo elemento de la sucesión de fibonacci 0.1392679214477539s\n",
      "76000-simo elemento de la sucesión de fibonacci 0.14618587493896484s\n",
      "77000-simo elemento de la sucesión de fibonacci 0.14773058891296387s\n",
      "78000-simo elemento de la sucesión de fibonacci 0.1538710594177246s\n",
      "79000-simo elemento de la sucesión de fibonacci 0.15484833717346191s\n",
      "80000-simo elemento de la sucesión de fibonacci 0.15973424911499023s\n",
      "81000-simo elemento de la sucesión de fibonacci 0.16234397888183594s\n",
      "82000-simo elemento de la sucesión de fibonacci 0.18848013877868652s\n",
      "83000-simo elemento de la sucesión de fibonacci 0.22574973106384277s\n",
      "84000-simo elemento de la sucesión de fibonacci 0.17568254470825195s\n",
      "85000-simo elemento de la sucesión de fibonacci 0.18413066864013672s\n",
      "86000-simo elemento de la sucesión de fibonacci 0.18176746368408203s\n",
      "87000-simo elemento de la sucesión de fibonacci 0.18735384941101074s\n",
      "88000-simo elemento de la sucesión de fibonacci 0.1903972625732422s\n",
      "89000-simo elemento de la sucesión de fibonacci 0.19910335540771484s\n",
      "90000-simo elemento de la sucesión de fibonacci 0.1984093189239502s\n",
      "91000-simo elemento de la sucesión de fibonacci 0.2034604549407959s\n",
      "92000-simo elemento de la sucesión de fibonacci 0.20734453201293945s\n",
      "93000-simo elemento de la sucesión de fibonacci 0.21795320510864258s\n",
      "94000-simo elemento de la sucesión de fibonacci 0.22066569328308105s\n",
      "95000-simo elemento de la sucesión de fibonacci 0.22560691833496094s\n",
      "96000-simo elemento de la sucesión de fibonacci 0.22977685928344727s\n",
      "97000-simo elemento de la sucesión de fibonacci 0.23435616493225098s\n",
      "98000-simo elemento de la sucesión de fibonacci 0.2357184886932373s\n",
      "99000-simo elemento de la sucesión de fibonacci 0.24419617652893066s\n"
     ]
    }
   ],
   "source": [
    "import time\n",
    "x = []\n",
    "y = []\n",
    "for i in range(1,100):\n",
    "    n=1000*i\n",
    "    x.append(n)\n",
    "    inicio = time.time()\n",
    "    potencia_i(4,n)\n",
    "    fin = time.time()\n",
    "    y.append(fin-inicio)\n",
    "    print(str(n) + \"-simo elemento de la sucesión de fibonacci \" + str(fin-inicio) + \"s\")\n"
   ]
  },
  {
   "cell_type": "markdown",
   "metadata": {},
   "source": [
    "A continuación se graficarán los puntos $(n,tiempo)$ donde $n$ es la potencia a la que se elevo la el 4"
   ]
  },
  {
   "cell_type": "code",
   "execution_count": null,
   "metadata": {},
   "outputs": [],
   "source": [
    "import matplotlib.pyplot as plt\n",
    "plt.plot(x,y)\n",
    "plt.xlabel('Potencia x 1000')\n",
    "plt.ylabel('segundos')"
   ]
  },
  {
   "cell_type": "markdown",
   "metadata": {},
   "source": [
    "### 10.4.1 Experimentación en el tiempo de ejecución (Recursivo)\n",
    "Se realizarán 100 ejecuciones del algoritmo pidiendo la potencia $i, \\forall i \\in N | 1 \\leq i \\leq 100$ del numero 4 y se registrara el tiempo de ejecución para generar una grafica similar al tiempo de ejecución obtenido de $\\theta(n-1)$."
   ]
  },
  {
   "cell_type": "code",
   "execution_count": 26,
   "metadata": {},
   "outputs": [
    {
     "name": "stdout",
     "output_type": "stream",
     "text": [
      "1-simo elemento de la sucesión de fibonacci 1.5735626220703125e-05s\n",
      "2-simo elemento de la sucesión de fibonacci 1.0728836059570312e-05s\n",
      "3-simo elemento de la sucesión de fibonacci 3.0994415283203125e-06s\n",
      "4-simo elemento de la sucesión de fibonacci 7.3909759521484375e-06s\n",
      "5-simo elemento de la sucesión de fibonacci 3.0994415283203125e-06s\n",
      "6-simo elemento de la sucesión de fibonacci 4.291534423828125e-06s\n",
      "7-simo elemento de la sucesión de fibonacci 3.337860107421875e-06s\n",
      "8-simo elemento de la sucesión de fibonacci 9.298324584960938e-06s\n",
      "9-simo elemento de la sucesión de fibonacci 5.0067901611328125e-06s\n",
      "10-simo elemento de la sucesión de fibonacci 6.198883056640625e-06s\n",
      "11-simo elemento de la sucesión de fibonacci 4.291534423828125e-06s\n",
      "12-simo elemento de la sucesión de fibonacci 4.291534423828125e-06s\n",
      "13-simo elemento de la sucesión de fibonacci 4.76837158203125e-06s\n",
      "14-simo elemento de la sucesión de fibonacci 5.7220458984375e-06s\n",
      "15-simo elemento de la sucesión de fibonacci 4.0531158447265625e-06s\n",
      "16-simo elemento de la sucesión de fibonacci 6.67572021484375e-06s\n",
      "17-simo elemento de la sucesión de fibonacci 5.245208740234375e-06s\n",
      "18-simo elemento de la sucesión de fibonacci 6.67572021484375e-06s\n",
      "19-simo elemento de la sucesión de fibonacci 6.198883056640625e-06s\n",
      "20-simo elemento de la sucesión de fibonacci 8.106231689453125e-06s\n",
      "21-simo elemento de la sucesión de fibonacci 6.9141387939453125e-06s\n",
      "22-simo elemento de la sucesión de fibonacci 6.67572021484375e-06s\n",
      "23-simo elemento de la sucesión de fibonacci 7.867813110351562e-06s\n",
      "24-simo elemento de la sucesión de fibonacci 7.62939453125e-06s\n",
      "25-simo elemento de la sucesión de fibonacci 7.62939453125e-06s\n",
      "26-simo elemento de la sucesión de fibonacci 9.298324584960938e-06s\n",
      "27-simo elemento de la sucesión de fibonacci 9.298324584960938e-06s\n",
      "28-simo elemento de la sucesión de fibonacci 7.867813110351562e-06s\n",
      "29-simo elemento de la sucesión de fibonacci 7.3909759521484375e-06s\n"
     ]
    }
   ],
   "source": [
    "y = []\n",
    "x= []\n",
    "for i in range(1,30):\n",
    "    n = i\n",
    "    x.append(n)\n",
    "    inicio = time.time()\n",
    "    potencia_r(4,n)\n",
    "    fin = time.time()\n",
    "    y.append(fin-inicio)\n",
    "    print(str(n) + \"-simo elemento de la sucesión de fibonacci \" + str(fin-inicio) + \"s\")"
   ]
  },
  {
   "cell_type": "markdown",
   "metadata": {},
   "source": [
    "A continuación se graficarán los puntos $(n,tiempo)$ donde $n$ es la potencia a la que se elevo la el 4"
   ]
  },
  {
   "cell_type": "code",
   "execution_count": null,
   "metadata": {},
   "outputs": [],
   "source": [
    "plt.plot(x,y)\n",
    "plt.xlabel('Tamaño de entrada')\n",
    "plt.ylabel('segundos')"
   ]
  }
 ],
 "metadata": {
  "kernelspec": {
   "display_name": "Python 3.10.6 64-bit",
   "language": "python",
   "name": "python3"
  },
  "language_info": {
   "codemirror_mode": {
    "name": "ipython",
    "version": 3
   },
   "file_extension": ".py",
   "mimetype": "text/x-python",
   "name": "python",
   "nbconvert_exporter": "python",
   "pygments_lexer": "ipython3",
   "version": "3.10.6"
  },
  "orig_nbformat": 4,
  "vscode": {
   "interpreter": {
    "hash": "916dbcbb3f70747c44a77c7bcd40155683ae19c65e1c03b4aa3499c5328201f1"
   }
  }
 },
 "nbformat": 4,
 "nbformat_minor": 2
}
