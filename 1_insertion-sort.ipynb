{
 "cells": [
  {
   "cell_type": "markdown",
   "id": "28a683a4",
   "metadata": {},
   "source": [
    "# 1 Insertion Sort\n",
    "\n",
    "Insertion sort es un algoritmo de ordenamiento que asemeja el como ordenaríamos una mano de cartas, es decir se toma una carta y se compara con cada una de las cartas que tenemos en la mano hasta encontrar su lugar y posterior mente recorrer todas las cartas que se encuentran después de la carta insertada"
   ]
  },
  {
   "cell_type": "markdown",
   "id": "90f117c9",
   "metadata": {},
   "source": [
    "### Algoritmo"
   ]
  },
  {
   "cell_type": "code",
   "execution_count": null,
   "id": "3bb495fe",
   "metadata": {},
   "outputs": [],
   "source": [
    "def insertionSort(A):\n",
    "    for j in range(1, len(A)):\n",
    "        key = A[j]\n",
    "        i = j-1\n",
    "        while i >= 0 and key < A[i]:\n",
    "            A[i+1] = A[i]\n",
    "            i -= 1\n",
    "        A[i+1]=key"
   ]
  },
  {
   "cell_type": "markdown",
   "id": "23cde7c6",
   "metadata": {},
   "source": [
    "### Verificación"
   ]
  },
  {
   "cell_type": "code",
   "execution_count": null,
   "id": "746e7bfb",
   "metadata": {},
   "outputs": [],
   "source": [
    "A=[8,2,7,1,6,3]\n",
    "insertionSort(A)\n",
    "A"
   ]
  }
 ],
 "metadata": {
  "kernelspec": {
   "display_name": "Python 3.10.6 64-bit",
   "language": "python",
   "name": "python3"
  },
  "language_info": {
   "codemirror_mode": {
    "name": "ipython",
    "version": 3
   },
   "file_extension": ".py",
   "mimetype": "text/x-python",
   "name": "python",
   "nbconvert_exporter": "python",
   "pygments_lexer": "ipython3",
   "version": "3.10.6"
  },
  "vscode": {
   "interpreter": {
    "hash": "916dbcbb3f70747c44a77c7bcd40155683ae19c65e1c03b4aa3499c5328201f1"
   }
  }
 },
 "nbformat": 4,
 "nbformat_minor": 5
}
