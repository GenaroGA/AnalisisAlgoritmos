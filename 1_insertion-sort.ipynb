{
 "cells": [
  {
   "cell_type": "markdown",
   "id": "28a683a4",
   "metadata": {},
   "source": [
    "# 1 Insertion Sort\n",
    "\n",
    "Insertion sort es un algoritmo de ordenamiento que asemeja el como ordenaríamos una mano de cartas, es decir se toma una carta y se compara con cada una de las cartas que tenemos en la mano hasta encontrar su lugar y posterior mente recorrer todas las cartas que se encuentran después de la carta insertada"
   ]
  },
  {
   "cell_type": "markdown",
   "id": "90f117c9",
   "metadata": {},
   "source": [
    "### 1.1 Algoritmo"
   ]
  },
  {
   "cell_type": "code",
   "execution_count": 1,
   "id": "3bb495fe",
   "metadata": {},
   "outputs": [],
   "source": [
    "def insertionSort(A):\n",
    "    for j in range(1, len(A)):\n",
    "        key = A[j]\n",
    "        i = j-1\n",
    "        while i >= 0 and key < A[i]:\n",
    "            A[i+1] = A[i]\n",
    "            i -= 1\n",
    "        A[i+1]=key"
   ]
  },
  {
   "cell_type": "markdown",
   "id": "23cde7c6",
   "metadata": {},
   "source": [
    "### 1.2 Verificación"
   ]
  },
  {
   "cell_type": "code",
   "execution_count": 2,
   "id": "746e7bfb",
   "metadata": {},
   "outputs": [
    {
     "data": {
      "text/plain": [
       "[1, 2, 3, 6, 7, 8]"
      ]
     },
     "execution_count": 2,
     "metadata": {},
     "output_type": "execute_result"
    }
   ],
   "source": [
    "A = [8, 2, 7, 1, 6, 3]\n",
    "insertionSort(A)\n",
    "A\n"
   ]
  },
  {
   "cell_type": "markdown",
   "id": "e34da0cc",
   "metadata": {},
   "source": [
    "**Loop Invariante:**\n",
    "\n",
    "El índice $j$ indica el número que será ordenado. En cada iteración del cíclo _for_ el arreglo $A[0...n]$ está compuesta por $A[0...j-1]$, que es la parte ordenada del arreglo y $A[j+1...n]$ que es la parte por ordenar del arreglo.\n",
    "\n",
    "**Inicio:**\n",
    "\n",
    "Al inicio del algoritmo la parte ordenada del arreglo es el sub arreglo $A[]$, al ser un arreglo vacío ya se encuentra ordenado satisfaciendo el loop invariante.\n",
    "\n",
    "**Termino:**\n",
    "\n",
    "El algoritmo termina cuando $j=n$, es decir cuando $A[0...j-1]=A[0...n-1]$ y según el loop invariante todo el arreglo ha sido ordenado y la parte por ordenar es $A[]$. "
   ]
  },
  {
   "cell_type": "markdown",
   "id": "b4fc4b91",
   "metadata": {},
   "source": [
    "### 1.3 Análisis del tiempo de ejecución\n",
    "Se observa que todo lo que se encuentra dentro del cíclo _for_ se ejecutará _n veces_ y lo que se encuentra en el cíclo while, en el peór de los casos se ejecutará _n veces_ igualmente. De este modo, al estar el cíclo _while_ dentro del cíclo _for_ el tíempo de ejecucíon es $\\theta(n^2)$, es decir, $T(n)=\\theta(n^2)$"
   ]
  },
  {
   "cell_type": "markdown",
   "id": "b74c1823",
   "metadata": {},
   "source": [
    "### 1.4 Experimentación en el tiémpo de ejecución\n",
    "Se realizarán 20 ejecuciones del algoritmo con entradas aleatorias de tamaño $1,000 \\times i, \\forall i \\in N | 1 \\leq i \\leq 20$ y se registrara el tiempo de ejecución para generar una grafica similar al tiempo de ejecución obtenido de $T(n)=\\theta(n^2)$"
   ]
  },
  {
   "cell_type": "markdown",
   "id": "26ed1bc9",
   "metadata": {},
   "source": [
    "#### 1.4.1 Creando arreglos aleatorios\n"
   ]
  },
  {
   "cell_type": "code",
   "execution_count": 3,
   "id": "5b70ed56",
   "metadata": {},
   "outputs": [],
   "source": [
    "import random\n",
    "def random_arr(n):\n",
    "    A = []\n",
    "    for i in range(n):\n",
    "        A.append(random.randint(0,1000000))\n",
    "    return A"
   ]
  },
  {
   "cell_type": "markdown",
   "id": "12dde9b1",
   "metadata": {},
   "source": [
    "#### 1.4.2 Midiendo tiempos de ejecución"
   ]
  },
  {
   "cell_type": "code",
   "execution_count": 8,
   "id": "2dcfacdd",
   "metadata": {},
   "outputs": [
    {
     "name": "stdout",
     "output_type": "stream",
     "text": [
      "0 elementos 3.5762786865234375e-06s\n",
      "1000 elementos 0.02424168586730957s\n",
      "2000 elementos 0.10761189460754395s\n",
      "3000 elementos 0.19063639640808105s\n",
      "4000 elementos 0.3247647285461426s\n",
      "5000 elementos 0.49666714668273926s\n",
      "6000 elementos 0.6833686828613281s\n",
      "7000 elementos 0.9344944953918457s\n",
      "8000 elementos 1.2392044067382812s\n",
      "9000 elementos 1.5686686038970947s\n",
      "10000 elementos 1.9212274551391602s\n",
      "11000 elementos 2.4201912879943848s\n",
      "12000 elementos 2.76938533782959s\n",
      "13000 elementos 3.2509233951568604s\n",
      "14000 elementos 3.7806665897369385s\n",
      "15000 elementos 4.447854280471802s\n",
      "16000 elementos 4.939643144607544s\n",
      "17000 elementos 5.594243288040161s\n",
      "18000 elementos 6.34622049331665s\n",
      "19000 elementos 7.074378967285156s\n"
     ]
    }
   ],
   "source": [
    "import time\n",
    "x = []\n",
    "y = []\n",
    "for i in range(20):\n",
    "    n=1000*i\n",
    "    x.append(n)\n",
    "    A = random_arr(n)\n",
    "    inicio = time.time()\n",
    "    insertionSort(A)\n",
    "    fin = time.time()\n",
    "    y.append(fin-inicio)\n",
    "    print(str(n) + \" elementos \" + str(fin-inicio) + \"s\")\n",
    "\n"
   ]
  },
  {
   "cell_type": "markdown",
   "id": "4b45d7bf",
   "metadata": {},
   "source": [
    "A continuación se graficarán los puntos $(n,tiempo)$ donde $n$ es el tamaño del arreglo y el tiempo de ejecución será truncado a 4 decimales."
   ]
  },
  {
   "cell_type": "code",
   "execution_count": 9,
   "id": "8905b77b",
   "metadata": {},
   "outputs": [
    {
     "data": {
      "text/plain": [
       "Text(0, 0.5, 'segundos')"
      ]
     },
     "execution_count": 9,
     "metadata": {},
     "output_type": "execute_result"
    },
    {
     "data": {
      "image/png": "[encoded data removed]",
      "text/plain": [
       "<Figure size 640x480 with 1 Axes>"
      ]
     },
     "metadata": {},
     "output_type": "display_data"
    }
   ],
   "source": [
    "import matplotlib.pyplot as plt\n",
    "plt.plot(x,y)\n",
    "plt.xlabel('Tamaño de entrada x 1000')\n",
    "plt.ylabel('segundos')"
   ]
  }
 ],
 "metadata": {
  "kernelspec": {
   "display_name": "Python 3 (ipykernel)",
   "language": "python",
   "name": "python3"
  },
  "language_info": {
   "codemirror_mode": {
    "name": "ipython",
    "version": 3
   },
   "file_extension": ".py",
   "mimetype": "text/x-python",
   "name": "python",
   "nbconvert_exporter": "python",
   "pygments_lexer": "ipython3",
   "version": "3.10.6"
  },
  "vscode": {
   "interpreter": {
    "hash": "916dbcbb3f70747c44a77c7bcd40155683ae19c65e1c03b4aa3499c5328201f1"
   }
  }
 },
 "nbformat": 4,
 "nbformat_minor": 5
}
