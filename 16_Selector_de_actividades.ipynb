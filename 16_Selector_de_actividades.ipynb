{
 "cells": [
  {
   "cell_type": "markdown",
   "metadata": {},
   "source": [
    "## 16 Selector de actividades"
   ]
  },
  {
   "cell_type": "markdown",
   "metadata": {},
   "source": [
    "Buscamos resolver el siguiente problema: Tenemos una serie de actividades que deseamos realizar, pero cada actividad tiene un tiempo lpimite al que llamaremos \"deadline\". Cada actividad tiene un castigo en caso de no realizarla. Iniciando en el tiempo t=0, y suponiendo que todas las actividades toman tiempo t=1, buscamos encontrar el conjunto y orden de actividades a realizar tal que se minimice el castigo."
   ]
  },
  {
   "cell_type": "markdown",
   "metadata": {},
   "source": [
    "### 16.1 Algoritmo"
   ]
  },
  {
   "cell_type": "code",
   "execution_count": 5,
   "metadata": {},
   "outputs": [],
   "source": [
    "def insertar (hacer, d, noHacer):\n",
    "    for i in range (len(hacer)-1, 0, -1):\n",
    "        if d[hacer[i]] < d[hacer[i-1]]:\n",
    "            if d[hacer[i-1]] > hacer[i]:\n",
    "                hacer[i], hacer[i-1] = hacer[i-1], hacer[i]\n",
    "            else:\n",
    "                noHacer.append(hacer[i])\n",
    "                del hacer[i]\n",
    "                break\n",
    "        else:\n",
    "            break\n",
    "    return hacer\n",
    "\n",
    "def selectorActividades (d, c, hacer, noHacer):\n",
    "    for i in range (len(d)):\n",
    "        maximo = 0\n",
    "        for i in range (len(c)):\n",
    "            if i in hacer or i in noHacer:\n",
    "                continue\n",
    "            if c[i] > c[maximo] or maximo in hacer or maximo in noHacer:\n",
    "                maximo = i\n",
    "                continue\n",
    "            if c[i] == c[maximo]:\n",
    "                if d[i] < d[maximo]:\n",
    "                    maximo = i\n",
    "        if d[maximo] > len(hacer) or d[hacer[d[maximo]-1]] > d[maximo]:\n",
    "            hacer.append(maximo)\n",
    "            hacer = insertar(hacer, d, noHacer)\n",
    "        else:\n",
    "            noHacer.append(maximo)\n",
    "    # print ('Hacer: ', hacer)\n",
    "    # print ('No hacer: ', noHacer)\n",
    "\n",
    "#deadline\n",
    "d = [4,2,4,3,1,4,6]\n",
    "#castigos\n",
    "c = [70,60,50,40,30,20,10]\n",
    "\n",
    "hacer = []\n",
    "noHacer = []\n",
    "selectorActividades(d, c, hacer, noHacer)"
   ]
  },
  {
   "cell_type": "markdown",
   "metadata": {},
   "source": [
    "### 16.2 Verificación"
   ]
  },
  {
   "cell_type": "markdown",
   "metadata": {},
   "source": [
    "**Invariante:** Las actividades elegidas son las de mayor castigo, están en orden en que se realizarán y están a tiempo.  \n",
    "**Inicilización:** La primera actividad en ser escogida es la de mayor castigo y al ser la primera en ser escogida es seguro que estará a tiempo.  \n",
    "**Mantenimiento:** Cuando se analiza la actividad con el i-ésimo mayor castigo, se verifica que se pueda realizar a tiempo sin hacer que una actividad de mayor castigo quede fuera de tiempo, si no es posible, se descarta la actividad.  \n",
    "**Finalización:** Finalizamos cuando para cada actividad ya se decidió si hacerla o no. "
   ]
  },
  {
   "cell_type": "markdown",
   "metadata": {},
   "source": [
    "### 16.3 Análisis del tiempo de ejecución"
   ]
  },
  {
   "cell_type": "markdown",
   "metadata": {},
   "source": [
    "Notamos que la función insertar tiene tiempo de ejecución $O(n)$ ya que a lo más recorre todo el arreglo.  \n",
    "Luego analizando la función selectorActividades: La línea 1 tiene tiempo de ejecución $\\theta(n)$. Las líneas 2 y 4 a 11 son constantes. La línea 3 al igual que la línea 1 es $\\theta(n)$. La línea 14 , que manda llamar a insertar tiene tiempo de ejecución $\\theta(n)$. El resto de líneas son constantes. Como el ciclo for de la línea 1 envuenlve a todo el algoritmo, podemos decir que el tiempo de ejecución es:  \n",
    "$T(n) = O(n^2)$"
   ]
  },
  {
   "cell_type": "markdown",
   "metadata": {},
   "source": [
    "### 16.4 Experimentación con el tiempo de ejecución"
   ]
  },
  {
   "cell_type": "markdown",
   "metadata": {},
   "source": [
    "Vamos a realizar 16 ejecuciones del algoritmo para entradas de tamaño 100*i con entradas aleatorias con $i\\in\\{1,\\dots,16\\}$. Luego tomaremos el timempo que tarda el algoritmo con cada arreglo."
   ]
  },
  {
   "cell_type": "code",
   "execution_count": 8,
   "metadata": {},
   "outputs": [
    {
     "name": "stdout",
     "output_type": "stream",
     "text": [
      "100 elementos: 0.00857689999975264\n",
      "200 elementos: 0.06024789999992208\n",
      "300 elementos: 0.1823941000002378\n",
      "400 elementos: 0.4128125999995973\n",
      "500 elementos: 0.7813109999997323\n",
      "600 elementos: 1.3361270999994304\n",
      "700 elementos: 2.100616799999443\n",
      "800 elementos: 3.090547100000549\n",
      "900 elementos: 4.369278600000143\n",
      "1000 elementos: 5.994652700000188\n",
      "1100 elementos: 7.911693199999718\n",
      "1200 elementos: 10.248132599999735\n",
      "1300 elementos: 12.966901699999653\n",
      "1400 elementos: 16.120690900000227\n",
      "1500 elementos: 19.597400300000118\n",
      "1600 elementos: 23.717426700000033\n"
     ]
    },
    {
     "data": {
      "text/plain": [
       "[<matplotlib.lines.Line2D at 0x1ac3d20f250>]"
      ]
     },
     "execution_count": 8,
     "metadata": {},
     "output_type": "execute_result"
    },
    {
     "data": {
      "image/png": "[encoded data removed]",
      "text/plain": [
       "<Figure size 432x288 with 1 Axes>"
      ]
     },
     "metadata": {
      "needs_background": "light"
     },
     "output_type": "display_data"
    }
   ],
   "source": [
    "from timeit import default_timer\n",
    "import matplotlib.pyplot as plt\n",
    "import numpy as np\n",
    "\n",
    "y=[]\n",
    "x=[]\n",
    "for i in range (16):\n",
    "    d = np.random.randint(1,100*(i+1), size=100*(i+1))\n",
    "    c = np.random.randint(1,1000*(i+1), size=100*(i+1))\n",
    "    hacer = []\n",
    "    noHacer = []\n",
    "    inicio = default_timer()\n",
    "    selectorActividades(d, c, hacer, noHacer)\n",
    "    fin = default_timer()\n",
    "    print(str(100*(i+1)) + ' elementos: ' + str(fin-inicio))\n",
    "    x.append(100*(i+1))\n",
    "    y.append(fin-inicio)\n",
    "\n",
    "plt.plot(x, y)"
   ]
  },
  {
   "cell_type": "markdown",
   "metadata": {},
   "source": [
    "Ahora ajustaremos una curva cuadrática vía mínimos cuadrados (en naranja) y la dibujaremos encima de la curva azul."
   ]
  },
  {
   "cell_type": "code",
   "execution_count": 9,
   "metadata": {},
   "outputs": [
    {
     "data": {
      "text/plain": [
       "Text(0, 0.5, 'segundos')"
      ]
     },
     "execution_count": 9,
     "metadata": {},
     "output_type": "execute_result"
    },
    {
     "data": {
      "image/png": "[encoded data removed]",
      "text/plain": [
       "<Figure size 432x288 with 1 Axes>"
      ]
     },
     "metadata": {
      "needs_background": "light"
     },
     "output_type": "display_data"
    }
   ],
   "source": [
    "M = np.zeros((17,7))\n",
    "suma = 0\n",
    "for k in range(4):\n",
    "    suma = 0\n",
    "    for i in range(16):\n",
    "        M[i,k] = x[i]**(k+1)\n",
    "        suma += M[i,k]\n",
    "    M[16,k] = suma\n",
    "\n",
    "for k in range(3):\n",
    "    suma = 0\n",
    "    for i in range(16):\n",
    "        M[i,4+k] = y[i]*(x[i]**k)\n",
    "        suma += M[i,4+k]\n",
    "    M[16,4+k] = suma\n",
    "\n",
    "MatrizDeCoeficientes = np.zeros((3,3))\n",
    "for i in range (3):\n",
    "    for j in range (3):\n",
    "        if i+j>0:\n",
    "            MatrizDeCoeficientes[i,j] = M[16,i+j-1]\n",
    "        else:\n",
    "            MatrizDeCoeficientes[i,j] = 16\n",
    "\n",
    "MatrizDeResultados = np.zeros((3,1))\n",
    "for i in range(3):\n",
    "    MatrizDeResultados[i,0]=M[16,4+i]\n",
    "\n",
    "#Multiplicar la inversa de lamatriz de coeficientes por la matriz de resultados\n",
    "coeficientes = np.dot(np.linalg.inv(MatrizDeCoeficientes), MatrizDeResultados)\n",
    "\n",
    "def f(x):\n",
    "    return coeficientes[0] + coeficientes[1]*x + coeficientes[2]*x*x\n",
    "plt.plot(x, y)\n",
    "plt.plot(x, f(x))\n",
    "plt.xlabel('tamaño de la entrada x 100')\n",
    "plt.ylabel('segundos')"
   ]
  }
 ],
 "metadata": {
  "kernelspec": {
   "display_name": "Python 3.10.2 64-bit",
   "language": "python",
   "name": "python3"
  },
  "language_info": {
   "codemirror_mode": {
    "name": "ipython",
    "version": 3
   },
   "file_extension": ".py",
   "mimetype": "text/x-python",
   "name": "python",
   "nbconvert_exporter": "python",
   "pygments_lexer": "ipython3",
   "version": "3.10.2"
  },
  "orig_nbformat": 4,
  "vscode": {
   "interpreter": {
    "hash": "4ae8321023a43e8750d8ff3593eda6e0e7606e9c5757d8cb19436b51b76db73b"
   }
  }
 },
 "nbformat": 4,
 "nbformat_minor": 2
}
