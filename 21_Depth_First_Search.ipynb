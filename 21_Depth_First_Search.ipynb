{
 "cells": [
  {
   "cell_type": "markdown",
   "id": "a360c975",
   "metadata": {},
   "source": [
    "<h2>Algortimo de Búsqueda Depth First</h2>"
   ]
  },
  {
   "cell_type": "markdown",
   "id": "e436f90d",
   "metadata": {},
   "source": [
    "Este algortimo es un método de búsqueda dentro de gráficas y su pricnipal característica, como su nombre lo dice es que realiza una búsqueda lo más profunda posible, cuando decimos lo más profunda posbible nos referimos a que de el nodo origen va a tomar una adjacencia y de esa va a tomar una nueva y se va a deter hasta que ya sea un nodo sin NUEVAS adjacencias.<br>\n",
    "\n",
    "Después de haber hecho esto, va a regresar al nivel anterior a buscar en las demás adjacencias, cuando termine voleverá a subir de nivel, esto va a repetir hasta que regresa el nivel del nodo origen y haya buscado en todas las adjacencias de éste.<br>\n",
    "\n",
    "Este es un algortimo recursivo y para lograr implementarlo acudimos a la Programación Orientada a Objetos, donde vamos a definir 2 clases:<br>\n",
    "1- Nodo<br>\n",
    "2- Gráfica"
   ]
  },
  {
   "cell_type": "markdown",
   "id": "43c9a058",
   "metadata": {},
   "source": [
    "<h4>Clase Nodo</h4>\n",
    "En esta clase le vamos a dar diferentes atributos y métodos a cada nodo los cuales nos van a ayudar a poder implementar el código lo más parecido posible al pseudo código que usaremos como refencia.<br>\n",
    "\n",
    "Los atributos que va a tener cada nodo serán los siguientes:<br>\n",
    "- ID<br>\n",
    "- Color<br>\n",
    "- Predecesor<br>\n",
    "- Lista de Adjacencias<br>\n",
    "<br>\n",
    "Los métodos que va a tener un nodo son:<br>\n",
    "- nueva_adjacencia<br>\n",
    "- imprime_lista_adjacencias<br>\n",
    "- DFS_VISIT\n",
    "<br>\n",
    "Este último método (DFS_VISIT) es uno que vamos a usar para realizar la Búsqueda Depth First y el pseudocódigo que usamos como referencia es el siguiente (Cormen, p. 604):<br>\n",
    "<img src=\"https://github.com/GenaroGA/AnalisisAlgoritmos/blob/main/img/pseudo_dfs_visit.jpg?raw=true\" alt=\"Pseudocodigo DFS-VISIT\" />\n"
   ]
  },
  {
   "cell_type": "code",
   "execution_count": 262,
   "id": "634d85c3",
   "metadata": {},
   "outputs": [],
   "source": [
    "class Nodo:\n",
    "    #constructor\n",
    "    def __init__(self):\n",
    "        self.id = \"ID\"\n",
    "        self.color = \"Rojo\"\n",
    "        self.predecesor = \"\"\n",
    "        #usamos una lista para almacenar las adjacencias de cada nodo\n",
    "        self.lista_adjacencias = []     \n",
    "\n",
    "    #con este método podemos agregar una nueva adjacencia a la lista de adjacencias de este nodo en particular\n",
    "    def nueva_adjacencia(self, nodo_adjacente):\n",
    "        self.lista_adjacencias.append(nodo_adjacente)\n",
    "    \n",
    "    #método que imprime las adjacencias del nodo\n",
    "    def imprime_lista_adjacencias(self):\n",
    "        for i in range(len(self.lista_adjacencias)):\n",
    "            print(\"Nodo\", self.id, \": \",self.lista_adjacencias[i].id)\n",
    "            \n",
    "    def DFS_VISIT(self, tiempo):\n",
    "        tiempo = tiempo + 1\n",
    "        self.color = \"GRIS\"\n",
    "        for i in range(len(self.lista_adjacencias)):\n",
    "            if self.lista_adjacencias[i].color == \"Blanco\":\n",
    "                self.lista_adjacencias[i].predecesor = self\n",
    "                self.lista_adjacencias[i].DFS_VISIT(tiempo)\n",
    "        self.color = \"Negro\"\n",
    "        timpo = tiempo + 1\n",
    "     "
   ]
  },
  {
   "cell_type": "markdown",
   "id": "927dd6ed",
   "metadata": {},
   "source": [
    "<h4>Función DFS_VISIT:</h4>\n",
    "Esta función es una función recursiva y lo que hace es primero marca de gris a al nodo donde nos encontramos, esto indica que el nodo ya fue descubierto, posteriormenete va a buscar dentro de la lista de adjacencias todos los nodos que tengan color blanco, lo cual indicaría que no han sido descubiertos, en caso de entoncrar nodos blancos va a modificar su nodo predecesor para que sea el nodo cual el cual entramos a la función y posterioirmente va a ejecutar otra vez la función DFS_VISIT, ahpi es donde está la recursión, una vez que termin+ó con toda la lista de adjacencias del nodo \"original\", va a cmabiar el color de éste a negro y con esto indicar que este nodo ya fue descubierto y aparte ya se hizo el recorrido por toda su lista de adjacencia."
   ]
  },
  {
   "cell_type": "code",
   "execution_count": 263,
   "id": "4a3354bb",
   "metadata": {},
   "outputs": [],
   "source": [
    "CERO = Nodo()\n",
    "CERO.id = \"0\"\n",
    "UNO = Nodo()\n",
    "UNO.id = \"1\"\n",
    "DOS = Nodo()\n",
    "DOS.id = \"2\"\n",
    "TRES = Nodo()\n",
    "TRES.id = \"3\"\n",
    "CUATRO = Nodo()\n",
    "CUATRO.id = \"4\""
   ]
  },
  {
   "cell_type": "markdown",
   "id": "8e0ec06d",
   "metadata": {},
   "source": [
    "<h4>Clase Gráfica</h4>\n",
    "En esta clase le vamos a dar diferentes atributos y métodos a cada gráfica, los cuales nos van a ayudar a poder implementar el código lo más parecido posible al pseudo código que usaremos como refencia.<br>\n",
    "\n",
    "Los atributos que va a tener cada nodo serán los siguientes:<br>\n",
    "- Número de nodos en la gráfica (n)<br>\n",
    "- Lista con los nodos (Objetos)<br>\n",
    "- Un indicador de si es una gráfica dirigda o no<br>\n",
    "<br>\n",
    "Los métodos que va a tener una gráfica son:<br>\n",
    "- agrega_nodo<br>\n",
    "- agrega_adjacencia<br>\n",
    "- DFS\n",
    "<br>\n",
    "Este último método (DFS) es uno que vamos a usar para realizar la Búsqueda Depth First y el pseudocódigo que usamos como referencia es el siguiente (Cormen, p. 604):<br>\n",
    "<img src=\"https://github.com/GenaroGA/AnalisisAlgoritmos/blob/main/img/pseudo_dfs.jpg?raw=true\" alt=\"Pseudocodigo DFS\" />\n"
   ]
  },
  {
   "cell_type": "code",
   "execution_count": 264,
   "id": "cfdce7bd",
   "metadata": {},
   "outputs": [],
   "source": [
    "class Grafica:\n",
    "    #constructor\n",
    "    def __init__(self, n, dirigida=True):\n",
    "        self.n = n\n",
    "        self.lista_nodos = [Nodo() for nodo in range (self.n)]\n",
    "        self.dirigida = dirigida\n",
    "         \n",
    "    #metodo que agrega nodos a una lista    \n",
    "    def agrega_nodo(self, Nodo):\n",
    "        self.lista_nodos.append(Nodo)\n",
    "\n",
    "    #con este método podemos crear la gráfica, agergando las conexiones entre nodos\n",
    "    def agrega_adjacencia(self, nodo1, nodo2):\n",
    "        nodo1.nueva_adjacencia(nodo2)\n",
    "        \n",
    "        #en caso de que no sea una gráfica dirigida se captura la adjacencia en ambas direcciones\n",
    "        if not self.dirigida:\n",
    "            nodo2.nueva_adjacencia(nodo1)\n",
    "    \n",
    "\n",
    "    def DFS(self):\n",
    "        for i in range(len(self.lista_nodos)):\n",
    "            self.lista_nodos[i].color = \"Blanco\"\n",
    "            self.lista_nodos[i].predecesor = \"NIL\"\n",
    "        tiempo = 0\n",
    "        for i in range(len(self.lista_nodos)):\n",
    "            if self.lista_nodos[i].color == \"Blanco\":\n",
    "                self.lista_nodos[i].DFS_VISIT(tiempo)\n",
    "                "
   ]
  },
  {
   "cell_type": "markdown",
   "id": "3e1a3028",
   "metadata": {},
   "source": [
    "<h4>Función DFS:</h4>\n",
    "Esta función NO es recuersiva y su funcionamiento general es el siguiente:<br>\n",
    "- Inicializa a todos los nodos en la gráfica, asignandoles el color blanco y definiendo su predecesor como \"NIL\".<br>\n",
    "- Posterioirmente, dentro de la lista de nodos va a buscar en todos aquellos que tengan color blanco y va a ejecutar la función DFS_VISIT en esos nodos."
   ]
  },
  {
   "cell_type": "markdown",
   "id": "ef0349ae",
   "metadata": {},
   "source": [
    "<h3>Prueba del algortimo</h3>\n",
    "Se va a correr el algoritmo para verficiar que funcione correctamente, la matriz que se va a crear es la siguiente:<br>\n",
    "<img src=\"https://github.com/GenaroGA/AnalisisAlgoritmos/blob/main/img/grafica_1.jpg?raw=true\" alt=\"Gráfica 1\" />"
   ]
  },
  {
   "cell_type": "code",
   "execution_count": 265,
   "id": "b3f3e0ef",
   "metadata": {},
   "outputs": [],
   "source": [
    "G = Grafica(5)\n",
    "G.agrega_nodo(CERO)\n",
    "G.agrega_nodo(UNO)\n",
    "G.agrega_nodo(DOS)\n",
    "G.agrega_nodo(TRES)\n",
    "G.agrega_nodo(CUATRO)\n",
    "G.agrega_adjacencia(CERO,UNO)\n",
    "G.agrega_adjacencia(UNO,TRES)\n",
    "G.agrega_adjacencia(TRES,CUATRO)\n",
    "G.agrega_adjacencia(DOS,TRES)\n",
    "G.agrega_adjacencia(CERO,DOS)"
   ]
  },
  {
   "cell_type": "code",
   "execution_count": 266,
   "id": "2e5c7f21",
   "metadata": {},
   "outputs": [],
   "source": [
    "G.DFS()"
   ]
  },
  {
   "cell_type": "code",
   "execution_count": 267,
   "id": "3159ccac",
   "metadata": {},
   "outputs": [
    {
     "name": "stdout",
     "output_type": "stream",
     "text": [
      "Negro\n"
     ]
    }
   ],
   "source": [
    "print(TRES.color)"
   ]
  },
  {
   "cell_type": "code",
   "execution_count": 268,
   "id": "c380d054",
   "metadata": {},
   "outputs": [],
   "source": [
    "#hacemos una función donde podamos imprimir la ruta de un nodo origen a un nodo destino\n",
    "#asi vamos a ocupar el atrubiuto de predecesor y confirmamos el funcionamiento correcto\n",
    "def print_path(G, s, v):\n",
    "    if v.id == s.id:\n",
    "        print(s.id)\n",
    "    \n",
    "    elif v.predecesor == \"NIL\":\n",
    "        print(\"No hay camino de s hacia v\")\n",
    "    \n",
    "    else:\n",
    "        print_path(G, s, v.predecesor)\n",
    "        print(v.id)"
   ]
  },
  {
   "cell_type": "code",
   "execution_count": 269,
   "id": "96a06c83",
   "metadata": {},
   "outputs": [
    {
     "name": "stdout",
     "output_type": "stream",
     "text": [
      "0\n",
      "1\n",
      "3\n"
     ]
    }
   ],
   "source": [
    "print_path(G, CERO, TRES)"
   ]
  },
  {
   "cell_type": "markdown",
   "id": "03e4f722",
   "metadata": {},
   "source": [
    "<h3>Verificación del algoritmo</h3>\n",
    "<br>\n",
    "<b>Inicialización:</b> Es necesario mencionar que para poder ejecutar las funciones es necesario primero tener configurara / creada la gráfica con la que trabajaremos.<br>\n",
    "La incialización va a suceder cuando se ejecute la funcion DFS, ya que en el primero ciclo for:<br>\n",
    "for i in range(len(self.lista_nodos)):<br>\n",
    "       self.lista_nodos[i].color = \"Blanco\"<br>\n",
    "       self.lista_nodos[i].predecesor = \"NIL\"<br>\n",
    "<br>\n",
    "Se está asiganando el color blanco a todos los nodos. Por lo que van a entrar a la condición del if dentro del siguienete for. \n",
    "<br><br>\n",
    "<b>Mantenimiento:</b> En el siguiente ciclo for, se va a entrar a todos los nodos de la lista de nodos que tegan el color blanco y cada vez que esto suceda se va a ejecutar la función DFS_VISIT, en esa función por lo menos 1 nodo va a cambiar a color negro, pero gracias a a a la recurisón pueden ser más de 1 ya que cambiarían de color además de ese nodo, todas sus adjacecnias y las adjacencias de sus adjacencias.\n",
    "<br><br>\n",
    "<b>Fin:</b> El algortimo se detiene cuando la lista de nodos se ha recorrido por completo, esto nos garantiza, aparte de la finalización (ya que es una gráfica con nodos finitos), que todos los nodos van a tener color negro cuando se haya terminado el ciclo, incluso si fuera una gráfica disconexa.<br>"
   ]
  },
  {
   "cell_type": "markdown",
   "id": "66b16239",
   "metadata": {},
   "source": [
    "<h3>Timepo de ejecución</h3>\n",
    "<b>Función DFS:</b><br>\n",
    "El primer ciclo for de la función toma un tiempo de &Theta; (V) donde V es el número de nodos que tiene la gráfica<br>\n",
    "<br>\n",
    "El segundo ciclo for cambia ya que ahpi es donde se ejecuta la función DFS_VISIT, ésta segundo función se ejecuta una vez por cada adjacencia que tenga el nodo en cuestión, cada adjacencia implica una arista por lo tanto sería &Theta; (e) donde e es el número de aristas del nodo y como esta función podría ejecutarse para cada nodo de la gráfica, serían todas la aristas de la gráfica, lo que es E (total de aristas).<br>\n",
    "<br>\n",
    "Por lo tanto el tiempo de ejecución va a ser &Theta; (V + E)<br>"
   ]
  },
  {
   "cell_type": "code",
   "execution_count": null,
   "id": "b781213a",
   "metadata": {},
   "outputs": [],
   "source": []
  }
 ],
 "metadata": {
  "kernelspec": {
   "display_name": "Python 3 (ipykernel)",
   "language": "python",
   "name": "python3"
  },
  "language_info": {
   "codemirror_mode": {
    "name": "ipython",
    "version": 3
   },
   "file_extension": ".py",
   "mimetype": "text/x-python",
   "name": "python",
   "nbconvert_exporter": "python",
   "pygments_lexer": "ipython3",
   "version": "3.10.8"
  }
 },
 "nbformat": 4,
 "nbformat_minor": 5
}
