{
 "cells": [
  {
   "cell_type": "markdown",
   "id": "d5361954",
   "metadata": {},
   "source": [
    "## 15 Huffman"
   ]
  },
  {
   "cell_type": "markdown",
   "id": "20ccd617",
   "metadata": {},
   "source": [
    "Este algoritmo optimiza la compresion de una cadena de texto. Para poder ejecutarlo necesitaremos la siguiente implementacion de un min-heap"
   ]
  },
  {
   "cell_type": "code",
   "execution_count": 1,
   "id": "f131c032",
   "metadata": {},
   "outputs": [
    {
     "data": {
      "text/plain": [
       "min_heap_insert (generic function with 1 method)"
      ]
     },
     "metadata": {},
     "output_type": "display_data"
    }
   ],
   "source": [
    "mutable struct Node\n",
    "    char::Union{Char,Nothing}\n",
    "    freq::Int\n",
    "    left::Union{Node,Nothing}\n",
    "    right::Union{Node,Nothing}\n",
    "end\n",
    "\n",
    "mutable struct Heap\n",
    "    array::Vector{Node}\n",
    "    heap_size::Int\n",
    "end\n",
    "\n",
    "parent(i::Int) = floor(Int, i / 2)\n",
    "\n",
    "left(i::Int) = 2 * i\n",
    "\n",
    "right(i::Int) = 2 * i + 1\n",
    "\n",
    "function min_heapify(A::Heap, i::Int)\n",
    "    l = left(i)\n",
    "    r = right(i)\n",
    "    smallest::Int = i\n",
    "    if l <= A.heap_size && A.array[l].freq < A.array[smallest].freq\n",
    "        smallest = l\n",
    "    end\n",
    "    if r <= A.heap_size && A.array[r].freq < A.array[smallest].freq\n",
    "        smallest = r\n",
    "    end\n",
    "    if smallest != i\n",
    "        aux::Node = A.array[smallest]\n",
    "        A.array[smallest] = A.array[i]\n",
    "        A.array[i] = aux\n",
    "        min_heapify(A, smallest)\n",
    "    end\n",
    "end\n",
    "\n",
    "function build_min_heap(A::Heap)\n",
    "    A.heap_size = length(A.array)\n",
    "    i = floor(Int, A.heap_size / 2)\n",
    "    while i > 0\n",
    "        min_heapify(A, i)\n",
    "        i = i - 1\n",
    "    end\n",
    "end\n",
    "\n",
    "function heap_extract_min(A::Heap)\n",
    "    min::Node = A.array[1]\n",
    "    A.array[1] = A.array[A.heap_size]\n",
    "    A.heap_size = A.heap_size - 1\n",
    "    min_heapify(A, 1)\n",
    "    return min\n",
    "end\n",
    "\n",
    "function heap_decrease_key(A::Heap, i::Int, key::Node)\n",
    "    A.array[i] = key\n",
    "    while i > 1 && A.array[parent(i)].freq > A.array[i].freq\n",
    "        aux::Node = A.array[parent(i)]\n",
    "        A.array[parent(i)] = A.array[i]\n",
    "        A.array[i] = aux\n",
    "        i = parent(i)\n",
    "    end\n",
    "end\n",
    "\n",
    "function min_heap_insert(A::Heap, key::Node)\n",
    "    A.heap_size = A.heap_size + 1\n",
    "    heap_decrease_key(A, A.heap_size, key)\n",
    "end"
   ]
  },
  {
   "cell_type": "markdown",
   "id": "65cef87a",
   "metadata": {},
   "source": [
    "### 15.1 Algoritmo"
   ]
  },
  {
   "cell_type": "code",
   "execution_count": 3,
   "id": "aab7df61",
   "metadata": {},
   "outputs": [
    {
     "name": "stdout",
     "output_type": "stream",
     "text": [
      "f  0\n",
      "c  100\n",
      "d  101\n",
      "a  1100\n",
      "b  1101\n",
      "e  111\n"
     ]
    }
   ],
   "source": [
    "function count_freq(str::String)\n",
    "    dct = Dict{Char,Int}()\n",
    "    for chr in str\n",
    "        if !haskey(dct, chr)\n",
    "            dct[chr] = 1\n",
    "        else\n",
    "            dct[chr] += 1\n",
    "        end\n",
    "    end\n",
    "    return dct\n",
    "end\n",
    "\n",
    "function huffman(table::Dict)\n",
    "    A = Heap([Node(chr, frq, nothing, nothing) for (chr, frq) in table], 0)\n",
    "    build_min_heap(A)\n",
    "    while A.heap_size > 1\n",
    "        left = heap_extract_min(A)\n",
    "        right = heap_extract_min(A)\n",
    "        min_heap_insert(A, Node(nothing, left.freq + right.freq, left, right))\n",
    "    end\n",
    "    return heap_extract_min(A)\n",
    "end\n",
    "\n",
    "\n",
    "function printencoding(node::Union{Node,Nothing}, code::String)\n",
    "    if isnothing(node)\n",
    "        return\n",
    "    end\n",
    "\n",
    "    if !isnothing(node.char)\n",
    "        println(node.char == ' ' ? \"_\" : node.char, \"  \", code)\n",
    "    end\n",
    "    printencoding(node.left, code * \"0\")\n",
    "    printencoding(node.right, code * \"1\")\n",
    "end\n",
    "\n",
    "const msg = \"aaaaabbbbbbbbbccccccccccccdddddddddddddeeeeeeeeeeeeeeeefffffffffffffffffffffffffffffffffffffffffffff\"\n",
    "\n",
    "printencoding(huffman(count_freq(msg)), \"\")"
   ]
  },
  {
   "cell_type": "markdown",
   "id": "3ab3dde0",
   "metadata": {},
   "source": [
    "### 15.2 Verificación"
   ]
  },
  {
   "cell_type": "markdown",
   "id": "174422fb",
   "metadata": {},
   "source": [
    "$Lema$: Sea $C$ un alfabeto en donde cada  $c \\in C$ tiene una frecuencia $c.freq$. Sea $x$ y $y$ los dos caracteres de $C$ teniendo las frecuencias mas pequeñas. Entonces existe una codificacion prejifa optima para $C$ en donde las codigos de $x$ y $y$ tienen la misma longitud y difieren solo en el ultimo bit.\n",
    "\n",
    "$Lema$: Sea $C'$ el alfabeto $C$ con los caracteres $x$ y $y$ removidos y un nuevo caracter $z$ agregado, tal que $C' = C - \\{x, y\\} \\cup \\{z\\}$. Se define $freq$ de los caracteres de $C'$ de la misma forma a los de $C$ excepto que $z.freq = x.freq + y.freq$. Sea $T'$ cualquier arbol que representa una codificacion prejifa optima para $C'$. Entonces el arbol $T$, obtenido de $T'$ remplazando el nodo hoja $z$ por un nodo interno teniendo $x$ y $y$ como hijos, representa una codificacion prejifa optima para $C$.\n",
    "\n",
    "Apartir de estos dos lemas podemos ver directamente que el algoritmo de huffman es correcto. $A$ representa un min-heap de arboles, en cada iteracion se eligen dos pares por lo tanto una vez que el heap tenga tamaño uno termina su ejecucion. En cada iteracion iteracion se toman los caracteres con menor frecuencia y se unen insertando un nodo en el heap que es padre de estos dos, por lo tanto en la codificacion final estos dos caracteres diferenciaran solo en su ultimo bit. Este proceso se repite hasta optener un solo arbol, y el por el segundo lema este va a ser una codificacion prefija optima."
   ]
  },
  {
   "cell_type": "markdown",
   "id": "91d9eca6",
   "metadata": {},
   "source": [
    "### 15.3 Análisis del tiempo de ejecución"
   ]
  },
  {
   "cell_type": "markdown",
   "id": "0ec268b9",
   "metadata": {},
   "source": [
    "La primera linea se ejecuta en $\\Theta(n)$, solo carga las frecuencias del texto a cifrar. La segunda linea es $O(n)$. Las demas operaciones en el heap cuestan $O(\\lg n)$, como el while loop se ejecuta $n$ veces, entonces la complejidad total del algoritmo es $O(n \\lg n)$."
   ]
  },
  {
   "cell_type": "markdown",
   "id": "b0f3a555",
   "metadata": {},
   "source": [
    "### 15.4 Experimentación en el tiempo de ejecución"
   ]
  },
  {
   "cell_type": "code",
   "execution_count": 7,
   "id": "fe9930ca",
   "metadata": {},
   "outputs": [],
   "source": [
    "using BenchmarkTools\n",
    "using Random\n",
    "using Plots"
   ]
  },
  {
   "cell_type": "markdown",
   "id": "c690f161",
   "metadata": {},
   "source": [
    "Vamos a realizar 20 ejecuciones del algoritmo con strings aleatorias de tamaño $k = 1, 2, \\dots, 20$."
   ]
  },
  {
   "cell_type": "code",
   "execution_count": 9,
   "id": "b3687070",
   "metadata": {},
   "outputs": [
    {
     "data": {
      "text/plain": [
       "20-element Vector{Float64}:\n",
       "  291.8918918918919\n",
       "  367.8048780487805\n",
       "  457.8680203045685\n",
       "  549.7326203208556\n",
       "  640.2439024390244\n",
       "  751.2820512820513\n",
       "  847.457627118644\n",
       "  933.3333333333334\n",
       " 1030.0\n",
       " 1110.0\n",
       " 1310.0\n",
       " 1500.0\n",
       " 1760.0\n",
       " 1877.7777777777778\n",
       " 2044.4444444444443\n",
       " 2155.5555555555557\n",
       " 2266.6666666666665\n",
       " 2388.8888888888887\n",
       " 2500.0\n",
       " 2577.777777777778"
      ]
     },
     "metadata": {},
     "output_type": "display_data"
    }
   ],
   "source": [
    "A = [@belapsed huffman(count_freq(randstring($i))) for i in 1:20] * 10^9"
   ]
  },
  {
   "cell_type": "code",
   "execution_count": 10,
   "id": "01eb8eae",
   "metadata": {},
   "outputs": [
    {
     "data": {
      "image/png": "[encoded data removed]",
      "image/svg+xml": "<?xml version=\"1.0\" encoding=\"utf-8\"?>\n<svg xmlns=\"http://www.w3.org/2000/svg\" xmlns:xlink=\"http://www.w3.org/1999/xlink\" width=\"600\" height=\"400\" viewBox=\"0 0 2400 1600\">\n<defs>\n  <clipPath id=\"clip110\">\n    <rect x=\"0\" y=\"0\" width=\"2400\" height=\"1600\"/>\n  </clipPath>\n</defs>\n<path clip-path=\"url(#clip110)\" d=\"\nM0 1600 L2400 1600 L2400 0 L0 0  Z\n  \" fill=\"#ffffff\" fill-rule=\"evenodd\" fill-opacity=\"1\"/>\n<defs>\n  <clipPath id=\"clip111\">\n    <rect x=\"480\" y=\"0\" width=\"1681\" height=\"1600\"/>\n  </clipPath>\n</defs>\n<path clip-path=\"url(#clip110)\" d=\"\nM201.019 1486.45 L2352.76 1486.45 L2352.76 47.2441 L201.019 47.2441  Z\n  \" fill=\"#ffffff\" fill-rule=\"evenodd\" fill-opacity=\"1\"/>\n<defs>\n  <clipPath id=\"clip112\">\n    <rect x=\"201\" y=\"47\" width=\"2153\" height=\"1440\"/>\n  </clipPath>\n</defs>\n<polyline clip-path=\"url(#clip112)\" style=\"stroke:#000000; stroke-linecap:round; stroke-linejoin:round; stroke-width:2; stroke-opacity:0.1; fill:none\" points=\"\n  689.273,1486.45 689.273,47.2441 \n  \"/>\n<polyline clip-path=\"url(#clip112)\" style=\"stroke:#000000; stroke-linecap:round; stroke-linejoin:round; stroke-width:2; stroke-opacity:0.1; fill:none\" points=\"\n  1223.47,1486.45 1223.47,47.2441 \n  \"/>\n<polyline clip-path=\"url(#clip112)\" style=\"stroke:#000000; stroke-linecap:round; stroke-linejoin:round; stroke-width:2; stroke-opacity:0.1; fill:none\" points=\"\n  1757.66,1486.45 1757.66,47.2441 \n  \"/>\n<polyline clip-path=\"url(#clip112)\" style=\"stroke:#000000; stroke-linecap:round; stroke-linejoin:round; stroke-width:2; stroke-opacity:0.1; fill:none\" points=\"\n  2291.86,1486.45 2291.86,47.2441 \n  \"/>\n<polyline clip-path=\"url(#clip110)\" style=\"stroke:#000000; stroke-linecap:round; stroke-linejoin:round; stroke-width:4; stroke-opacity:1; fill:none\" points=\"\n  201.019,1486.45 2352.76,1486.45 \n  \"/>\n<polyline clip-path=\"url(#clip110)\" style=\"stroke:#000000; stroke-linecap:round; stroke-linejoin:round; stroke-width:4; stroke-opacity:1; fill:none\" points=\"\n  689.273,1486.45 689.273,1467.55 \n  \"/>\n<polyline clip-path=\"url(#clip110)\" style=\"stroke:#000000; stroke-linecap:round; stroke-linejoin:round; stroke-width:4; stroke-opacity:1; fill:none\" points=\"\n  1223.47,1486.45 1223.47,1467.55 \n  \"/>\n<polyline clip-path=\"url(#clip110)\" style=\"stroke:#000000; stroke-linecap:round; stroke-linejoin:round; stroke-width:4; stroke-opacity:1; fill:none\" points=\"\n  1757.66,1486.45 1757.66,1467.55 \n  \"/>\n<polyline clip-path=\"url(#clip110)\" style=\"stroke:#000000; stroke-linecap:round; stroke-linejoin:round; stroke-width:4; stroke-opacity:1; fill:none\" points=\"\n  2291.86,1486.45 2291.86,1467.55 \n  \"/>\n<path clip-path=\"url(#clip110)\" d=\"M679.551 1514.29 L697.908 1514.29 L697.908 1518.22 L683.834 1518.22 L683.834 1526.7 Q684.852 1526.35 685.871 1526.19 Q686.889 1526 687.908 1526 Q693.695 1526 697.074 1529.17 Q700.454 1532.34 700.454 1537.76 Q700.454 1543.34 696.982 1546.44 Q693.509 1549.52 687.19 1549.52 Q685.014 1549.52 682.746 1549.15 Q680.5 1548.78 678.093 1548.04 L678.093 1543.34 Q680.176 1544.47 682.398 1545.03 Q684.621 1545.58 687.097 1545.58 Q691.102 1545.58 693.44 1543.48 Q695.778 1541.37 695.778 1537.76 Q695.778 1534.15 693.44 1532.04 Q691.102 1529.94 687.097 1529.94 Q685.222 1529.94 683.347 1530.35 Q681.496 1530.77 679.551 1531.65 L679.551 1514.29 Z\" fill=\"#000000\" fill-rule=\"evenodd\" fill-opacity=\"1\" /><path clip-path=\"url(#clip110)\" d=\"M1198.16 1544.91 L1205.79 1544.91 L1205.79 1518.55 L1197.48 1520.21 L1197.48 1515.95 L1205.75 1514.29 L1210.42 1514.29 L1210.42 1544.91 L1218.06 1544.91 L1218.06 1548.85 L1198.16 1548.85 L1198.16 1544.91 Z\" fill=\"#000000\" fill-rule=\"evenodd\" fill-opacity=\"1\" /><path clip-path=\"url(#clip110)\" d=\"M1237.51 1517.37 Q1233.9 1517.37 1232.07 1520.93 Q1230.26 1524.47 1230.26 1531.6 Q1230.26 1538.71 1232.07 1542.27 Q1233.9 1545.82 1237.51 1545.82 Q1241.14 1545.82 1242.95 1542.27 Q1244.78 1538.71 1244.78 1531.6 Q1244.78 1524.47 1242.95 1520.93 Q1241.14 1517.37 1237.51 1517.37 M1237.51 1513.66 Q1243.32 1513.66 1246.37 1518.27 Q1249.45 1522.85 1249.45 1531.6 Q1249.45 1540.33 1246.37 1544.94 Q1243.32 1549.52 1237.51 1549.52 Q1231.7 1549.52 1228.62 1544.94 Q1225.56 1540.33 1225.56 1531.6 Q1225.56 1522.85 1228.62 1518.27 Q1231.7 1513.66 1237.51 1513.66 Z\" fill=\"#000000\" fill-rule=\"evenodd\" fill-opacity=\"1\" /><path clip-path=\"url(#clip110)\" d=\"M1732.85 1544.91 L1740.49 1544.91 L1740.49 1518.55 L1732.18 1520.21 L1732.18 1515.95 L1740.44 1514.29 L1745.12 1514.29 L1745.12 1544.91 L1752.76 1544.91 L1752.76 1548.85 L1732.85 1548.85 L1732.85 1544.91 Z\" fill=\"#000000\" fill-rule=\"evenodd\" fill-opacity=\"1\" /><path clip-path=\"url(#clip110)\" d=\"M1762.25 1514.29 L1780.6 1514.29 L1780.6 1518.22 L1766.53 1518.22 L1766.53 1526.7 Q1767.55 1526.35 1768.57 1526.19 Q1769.58 1526 1770.6 1526 Q1776.39 1526 1779.77 1529.17 Q1783.15 1532.34 1783.15 1537.76 Q1783.15 1543.34 1779.68 1546.44 Q1776.2 1549.52 1769.89 1549.52 Q1767.71 1549.52 1765.44 1549.15 Q1763.2 1548.78 1760.79 1548.04 L1760.79 1543.34 Q1762.87 1544.47 1765.09 1545.03 Q1767.32 1545.58 1769.79 1545.58 Q1773.8 1545.58 1776.14 1543.48 Q1778.47 1541.37 1778.47 1537.76 Q1778.47 1534.15 1776.14 1532.04 Q1773.8 1529.94 1769.79 1529.94 Q1767.92 1529.94 1766.04 1530.35 Q1764.19 1530.77 1762.25 1531.65 L1762.25 1514.29 Z\" fill=\"#000000\" fill-rule=\"evenodd\" fill-opacity=\"1\" /><path clip-path=\"url(#clip110)\" d=\"M2270.63 1544.91 L2286.95 1544.91 L2286.95 1548.85 L2265.01 1548.85 L2265.01 1544.91 Q2267.67 1542.16 2272.25 1537.53 Q2276.86 1532.88 2278.04 1531.53 Q2280.28 1529.01 2281.16 1527.27 Q2282.07 1525.51 2282.07 1523.82 Q2282.07 1521.07 2280.12 1519.33 Q2278.2 1517.6 2275.1 1517.6 Q2272.9 1517.6 2270.45 1518.36 Q2268.02 1519.13 2265.24 1520.68 L2265.24 1515.95 Q2268.06 1514.82 2270.52 1514.24 Q2272.97 1513.66 2275.01 1513.66 Q2280.38 1513.66 2283.57 1516.35 Q2286.77 1519.03 2286.77 1523.52 Q2286.77 1525.65 2285.95 1527.57 Q2285.17 1529.47 2283.06 1532.07 Q2282.48 1532.74 2279.38 1535.95 Q2276.28 1539.15 2270.63 1544.91 Z\" fill=\"#000000\" fill-rule=\"evenodd\" fill-opacity=\"1\" /><path clip-path=\"url(#clip110)\" d=\"M2306.77 1517.37 Q2303.15 1517.37 2301.33 1520.93 Q2299.52 1524.47 2299.52 1531.6 Q2299.52 1538.71 2301.33 1542.27 Q2303.15 1545.82 2306.77 1545.82 Q2310.4 1545.82 2312.2 1542.27 Q2314.03 1538.71 2314.03 1531.6 Q2314.03 1524.47 2312.2 1520.93 Q2310.4 1517.37 2306.77 1517.37 M2306.77 1513.66 Q2312.58 1513.66 2315.63 1518.27 Q2318.71 1522.85 2318.71 1531.6 Q2318.71 1540.33 2315.63 1544.94 Q2312.58 1549.52 2306.77 1549.52 Q2300.95 1549.52 2297.88 1544.94 Q2294.82 1540.33 2294.82 1531.6 Q2294.82 1522.85 2297.88 1518.27 Q2300.95 1513.66 2306.77 1513.66 Z\" fill=\"#000000\" fill-rule=\"evenodd\" fill-opacity=\"1\" /><polyline clip-path=\"url(#clip112)\" style=\"stroke:#000000; stroke-linecap:round; stroke-linejoin:round; stroke-width:2; stroke-opacity:0.1; fill:none\" points=\"\n  201.019,1322.11 2352.76,1322.11 \n  \"/>\n<polyline clip-path=\"url(#clip112)\" style=\"stroke:#000000; stroke-linecap:round; stroke-linejoin:round; stroke-width:2; stroke-opacity:0.1; fill:none\" points=\"\n  201.019,1025.12 2352.76,1025.12 \n  \"/>\n<polyline clip-path=\"url(#clip112)\" style=\"stroke:#000000; stroke-linecap:round; stroke-linejoin:round; stroke-width:2; stroke-opacity:0.1; fill:none\" points=\"\n  201.019,728.14 2352.76,728.14 \n  \"/>\n<polyline clip-path=\"url(#clip112)\" style=\"stroke:#000000; stroke-linecap:round; stroke-linejoin:round; stroke-width:2; stroke-opacity:0.1; fill:none\" points=\"\n  201.019,431.157 2352.76,431.157 \n  \"/>\n<polyline clip-path=\"url(#clip112)\" style=\"stroke:#000000; stroke-linecap:round; stroke-linejoin:round; stroke-width:2; stroke-opacity:0.1; fill:none\" points=\"\n  201.019,134.174 2352.76,134.174 \n  \"/>\n<polyline clip-path=\"url(#clip110)\" style=\"stroke:#000000; stroke-linecap:round; stroke-linejoin:round; stroke-width:4; stroke-opacity:1; fill:none\" points=\"\n  201.019,1486.45 201.019,47.2441 \n  \"/>\n<polyline clip-path=\"url(#clip110)\" style=\"stroke:#000000; stroke-linecap:round; stroke-linejoin:round; stroke-width:4; stroke-opacity:1; fill:none\" points=\"\n  201.019,1322.11 219.917,1322.11 \n  \"/>\n<polyline clip-path=\"url(#clip110)\" style=\"stroke:#000000; stroke-linecap:round; stroke-linejoin:round; stroke-width:4; stroke-opacity:1; fill:none\" points=\"\n  201.019,1025.12 219.917,1025.12 \n  \"/>\n<polyline clip-path=\"url(#clip110)\" style=\"stroke:#000000; stroke-linecap:round; stroke-linejoin:round; stroke-width:4; stroke-opacity:1; fill:none\" points=\"\n  201.019,728.14 219.917,728.14 \n  \"/>\n<polyline clip-path=\"url(#clip110)\" style=\"stroke:#000000; stroke-linecap:round; stroke-linejoin:round; stroke-width:4; stroke-opacity:1; fill:none\" points=\"\n  201.019,431.157 219.917,431.157 \n  \"/>\n<polyline clip-path=\"url(#clip110)\" style=\"stroke:#000000; stroke-linecap:round; stroke-linejoin:round; stroke-width:4; stroke-opacity:1; fill:none\" points=\"\n  201.019,134.174 219.917,134.174 \n  \"/>\n<path clip-path=\"url(#clip110)\" d=\"M82.7975 1304.83 L101.154 1304.83 L101.154 1308.76 L87.0799 1308.76 L87.0799 1317.23 Q88.0984 1316.89 89.1169 1316.72 Q90.1354 1316.54 91.1539 1316.54 Q96.941 1316.54 100.321 1319.71 Q103.7 1322.88 103.7 1328.3 Q103.7 1333.88 100.228 1336.98 Q96.7558 1340.06 90.4364 1340.06 Q88.2604 1340.06 85.9919 1339.69 Q83.7466 1339.32 81.3392 1338.58 L81.3392 1333.88 Q83.4225 1335.01 85.6447 1335.57 Q87.8669 1336.12 90.3438 1336.12 Q94.3484 1336.12 96.6863 1334.02 Q99.0243 1331.91 99.0243 1328.3 Q99.0243 1324.69 96.6863 1322.58 Q94.3484 1320.47 90.3438 1320.47 Q88.4688 1320.47 86.5938 1320.89 Q84.7419 1321.31 82.7975 1322.19 L82.7975 1304.83 Z\" fill=\"#000000\" fill-rule=\"evenodd\" fill-opacity=\"1\" /><path clip-path=\"url(#clip110)\" d=\"M122.913 1307.91 Q119.302 1307.91 117.473 1311.47 Q115.668 1315.01 115.668 1322.14 Q115.668 1329.25 117.473 1332.81 Q119.302 1336.35 122.913 1336.35 Q126.547 1336.35 128.353 1332.81 Q130.182 1329.25 130.182 1322.14 Q130.182 1315.01 128.353 1311.47 Q126.547 1307.91 122.913 1307.91 M122.913 1304.2 Q128.723 1304.2 131.779 1308.81 Q134.857 1313.39 134.857 1322.14 Q134.857 1330.87 131.779 1335.47 Q128.723 1340.06 122.913 1340.06 Q117.103 1340.06 114.024 1335.47 Q110.969 1330.87 110.969 1322.14 Q110.969 1313.39 114.024 1308.81 Q117.103 1304.2 122.913 1304.2 Z\" fill=\"#000000\" fill-rule=\"evenodd\" fill-opacity=\"1\" /><path clip-path=\"url(#clip110)\" d=\"M153.075 1307.91 Q149.464 1307.91 147.635 1311.47 Q145.83 1315.01 145.83 1322.14 Q145.83 1329.25 147.635 1332.81 Q149.464 1336.35 153.075 1336.35 Q156.709 1336.35 158.515 1332.81 Q160.343 1329.25 160.343 1322.14 Q160.343 1315.01 158.515 1311.47 Q156.709 1307.91 153.075 1307.91 M153.075 1304.2 Q158.885 1304.2 161.941 1308.81 Q165.019 1313.39 165.019 1322.14 Q165.019 1330.87 161.941 1335.47 Q158.885 1340.06 153.075 1340.06 Q147.265 1340.06 144.186 1335.47 Q141.131 1330.87 141.131 1322.14 Q141.131 1313.39 144.186 1308.81 Q147.265 1304.2 153.075 1304.2 Z\" fill=\"#000000\" fill-rule=\"evenodd\" fill-opacity=\"1\" /><path clip-path=\"url(#clip110)\" d=\"M53.3995 1038.47 L61.0384 1038.47 L61.0384 1012.1 L52.7282 1013.77 L52.7282 1009.51 L60.9921 1007.84 L65.668 1007.84 L65.668 1038.47 L73.3068 1038.47 L73.3068 1042.4 L53.3995 1042.4 L53.3995 1038.47 Z\" fill=\"#000000\" fill-rule=\"evenodd\" fill-opacity=\"1\" /><path clip-path=\"url(#clip110)\" d=\"M92.7512 1010.92 Q89.1401 1010.92 87.3114 1014.49 Q85.5058 1018.03 85.5058 1025.16 Q85.5058 1032.26 87.3114 1035.83 Q89.1401 1039.37 92.7512 1039.37 Q96.3854 1039.37 98.1909 1035.83 Q100.02 1032.26 100.02 1025.16 Q100.02 1018.03 98.1909 1014.49 Q96.3854 1010.92 92.7512 1010.92 M92.7512 1007.22 Q98.5613 1007.22 101.617 1011.82 Q104.696 1016.41 104.696 1025.16 Q104.696 1033.88 101.617 1038.49 Q98.5613 1043.07 92.7512 1043.07 Q86.941 1043.07 83.8623 1038.49 Q80.8068 1033.88 80.8068 1025.16 Q80.8068 1016.41 83.8623 1011.82 Q86.941 1007.22 92.7512 1007.22 Z\" fill=\"#000000\" fill-rule=\"evenodd\" fill-opacity=\"1\" /><path clip-path=\"url(#clip110)\" d=\"M122.913 1010.92 Q119.302 1010.92 117.473 1014.49 Q115.668 1018.03 115.668 1025.16 Q115.668 1032.26 117.473 1035.83 Q119.302 1039.37 122.913 1039.37 Q126.547 1039.37 128.353 1035.83 Q130.182 1032.26 130.182 1025.16 Q130.182 1018.03 128.353 1014.49 Q126.547 1010.92 122.913 1010.92 M122.913 1007.22 Q128.723 1007.22 131.779 1011.82 Q134.857 1016.41 134.857 1025.16 Q134.857 1033.88 131.779 1038.49 Q128.723 1043.07 122.913 1043.07 Q117.103 1043.07 114.024 1038.49 Q110.969 1033.88 110.969 1025.16 Q110.969 1016.41 114.024 1011.82 Q117.103 1007.22 122.913 1007.22 Z\" fill=\"#000000\" fill-rule=\"evenodd\" fill-opacity=\"1\" /><path clip-path=\"url(#clip110)\" d=\"M153.075 1010.92 Q149.464 1010.92 147.635 1014.49 Q145.83 1018.03 145.83 1025.16 Q145.83 1032.26 147.635 1035.83 Q149.464 1039.37 153.075 1039.37 Q156.709 1039.37 158.515 1035.83 Q160.343 1032.26 160.343 1025.16 Q160.343 1018.03 158.515 1014.49 Q156.709 1010.92 153.075 1010.92 M153.075 1007.22 Q158.885 1007.22 161.941 1011.82 Q165.019 1016.41 165.019 1025.16 Q165.019 1033.88 161.941 1038.49 Q158.885 1043.07 153.075 1043.07 Q147.265 1043.07 144.186 1038.49 Q141.131 1033.88 141.131 1025.16 Q141.131 1016.41 144.186 1011.82 Q147.265 1007.22 153.075 1007.22 Z\" fill=\"#000000\" fill-rule=\"evenodd\" fill-opacity=\"1\" /><path clip-path=\"url(#clip110)\" d=\"M53.3995 741.485 L61.0384 741.485 L61.0384 715.119 L52.7282 716.786 L52.7282 712.527 L60.9921 710.86 L65.668 710.86 L65.668 741.485 L73.3068 741.485 L73.3068 745.42 L53.3995 745.42 L53.3995 741.485 Z\" fill=\"#000000\" fill-rule=\"evenodd\" fill-opacity=\"1\" /><path clip-path=\"url(#clip110)\" d=\"M82.7975 710.86 L101.154 710.86 L101.154 714.795 L87.0799 714.795 L87.0799 723.267 Q88.0984 722.92 89.1169 722.758 Q90.1354 722.573 91.1539 722.573 Q96.941 722.573 100.321 725.744 Q103.7 728.916 103.7 734.332 Q103.7 739.911 100.228 743.013 Q96.7558 746.091 90.4364 746.091 Q88.2604 746.091 85.9919 745.721 Q83.7466 745.351 81.3392 744.61 L81.3392 739.911 Q83.4225 741.045 85.6447 741.601 Q87.8669 742.156 90.3438 742.156 Q94.3484 742.156 96.6863 740.05 Q99.0243 737.943 99.0243 734.332 Q99.0243 730.721 96.6863 728.615 Q94.3484 726.508 90.3438 726.508 Q88.4688 726.508 86.5938 726.925 Q84.7419 727.341 82.7975 728.221 L82.7975 710.86 Z\" fill=\"#000000\" fill-rule=\"evenodd\" fill-opacity=\"1\" /><path clip-path=\"url(#clip110)\" d=\"M122.913 713.939 Q119.302 713.939 117.473 717.504 Q115.668 721.045 115.668 728.175 Q115.668 735.281 117.473 738.846 Q119.302 742.388 122.913 742.388 Q126.547 742.388 128.353 738.846 Q130.182 735.281 130.182 728.175 Q130.182 721.045 128.353 717.504 Q126.547 713.939 122.913 713.939 M122.913 710.235 Q128.723 710.235 131.779 714.842 Q134.857 719.425 134.857 728.175 Q134.857 736.902 131.779 741.508 Q128.723 746.091 122.913 746.091 Q117.103 746.091 114.024 741.508 Q110.969 736.902 110.969 728.175 Q110.969 719.425 114.024 714.842 Q117.103 710.235 122.913 710.235 Z\" fill=\"#000000\" fill-rule=\"evenodd\" fill-opacity=\"1\" /><path clip-path=\"url(#clip110)\" d=\"M153.075 713.939 Q149.464 713.939 147.635 717.504 Q145.83 721.045 145.83 728.175 Q145.83 735.281 147.635 738.846 Q149.464 742.388 153.075 742.388 Q156.709 742.388 158.515 738.846 Q160.343 735.281 160.343 728.175 Q160.343 721.045 158.515 717.504 Q156.709 713.939 153.075 713.939 M153.075 710.235 Q158.885 710.235 161.941 714.842 Q165.019 719.425 165.019 728.175 Q165.019 736.902 161.941 741.508 Q158.885 746.091 153.075 746.091 Q147.265 746.091 144.186 741.508 Q141.131 736.902 141.131 728.175 Q141.131 719.425 144.186 714.842 Q147.265 710.235 153.075 710.235 Z\" fill=\"#000000\" fill-rule=\"evenodd\" fill-opacity=\"1\" /><path clip-path=\"url(#clip110)\" d=\"M56.6171 444.502 L72.9365 444.502 L72.9365 448.437 L50.9921 448.437 L50.9921 444.502 Q53.6541 441.747 58.2375 437.117 Q62.8439 432.465 64.0245 431.122 Q66.2698 428.599 67.1494 426.863 Q68.0522 425.104 68.0522 423.414 Q68.0522 420.659 66.1078 418.923 Q64.1865 417.187 61.0847 417.187 Q58.8856 417.187 56.4319 417.951 Q54.0014 418.715 51.2236 420.266 L51.2236 415.544 Q54.0477 414.409 56.5014 413.831 Q58.955 413.252 60.9921 413.252 Q66.3624 413.252 69.5568 415.937 Q72.7513 418.622 72.7513 423.113 Q72.7513 425.243 71.9411 427.164 Q71.1541 429.062 69.0476 431.655 Q68.4689 432.326 65.367 435.543 Q62.2652 438.738 56.6171 444.502 Z\" fill=\"#000000\" fill-rule=\"evenodd\" fill-opacity=\"1\" /><path clip-path=\"url(#clip110)\" d=\"M92.7512 416.956 Q89.1401 416.956 87.3114 420.52 Q85.5058 424.062 85.5058 431.192 Q85.5058 438.298 87.3114 441.863 Q89.1401 445.404 92.7512 445.404 Q96.3854 445.404 98.1909 441.863 Q100.02 438.298 100.02 431.192 Q100.02 424.062 98.1909 420.52 Q96.3854 416.956 92.7512 416.956 M92.7512 413.252 Q98.5613 413.252 101.617 417.858 Q104.696 422.442 104.696 431.192 Q104.696 439.918 101.617 444.525 Q98.5613 449.108 92.7512 449.108 Q86.941 449.108 83.8623 444.525 Q80.8068 439.918 80.8068 431.192 Q80.8068 422.442 83.8623 417.858 Q86.941 413.252 92.7512 413.252 Z\" fill=\"#000000\" fill-rule=\"evenodd\" fill-opacity=\"1\" /><path clip-path=\"url(#clip110)\" d=\"M122.913 416.956 Q119.302 416.956 117.473 420.52 Q115.668 424.062 115.668 431.192 Q115.668 438.298 117.473 441.863 Q119.302 445.404 122.913 445.404 Q126.547 445.404 128.353 441.863 Q130.182 438.298 130.182 431.192 Q130.182 424.062 128.353 420.52 Q126.547 416.956 122.913 416.956 M122.913 413.252 Q128.723 413.252 131.779 417.858 Q134.857 422.442 134.857 431.192 Q134.857 439.918 131.779 444.525 Q128.723 449.108 122.913 449.108 Q117.103 449.108 114.024 444.525 Q110.969 439.918 110.969 431.192 Q110.969 422.442 114.024 417.858 Q117.103 413.252 122.913 413.252 Z\" fill=\"#000000\" fill-rule=\"evenodd\" fill-opacity=\"1\" /><path clip-path=\"url(#clip110)\" d=\"M153.075 416.956 Q149.464 416.956 147.635 420.52 Q145.83 424.062 145.83 431.192 Q145.83 438.298 147.635 441.863 Q149.464 445.404 153.075 445.404 Q156.709 445.404 158.515 441.863 Q160.343 438.298 160.343 431.192 Q160.343 424.062 158.515 420.52 Q156.709 416.956 153.075 416.956 M153.075 413.252 Q158.885 413.252 161.941 417.858 Q165.019 422.442 165.019 431.192 Q165.019 439.918 161.941 444.525 Q158.885 449.108 153.075 449.108 Q147.265 449.108 144.186 444.525 Q141.131 439.918 141.131 431.192 Q141.131 422.442 144.186 417.858 Q147.265 413.252 153.075 413.252 Z\" fill=\"#000000\" fill-rule=\"evenodd\" fill-opacity=\"1\" /><path clip-path=\"url(#clip110)\" d=\"M56.6171 147.518 L72.9365 147.518 L72.9365 151.454 L50.9921 151.454 L50.9921 147.518 Q53.6541 144.764 58.2375 140.134 Q62.8439 135.482 64.0245 134.139 Q66.2698 131.616 67.1494 129.88 Q68.0522 128.12 68.0522 126.431 Q68.0522 123.676 66.1078 121.94 Q64.1865 120.204 61.0847 120.204 Q58.8856 120.204 56.4319 120.968 Q54.0014 121.732 51.2236 123.283 L51.2236 118.56 Q54.0477 117.426 56.5014 116.847 Q58.955 116.269 60.9921 116.269 Q66.3624 116.269 69.5568 118.954 Q72.7513 121.639 72.7513 126.13 Q72.7513 128.259 71.9411 130.181 Q71.1541 132.079 69.0476 134.671 Q68.4689 135.343 65.367 138.56 Q62.2652 141.755 56.6171 147.518 Z\" fill=\"#000000\" fill-rule=\"evenodd\" fill-opacity=\"1\" /><path clip-path=\"url(#clip110)\" d=\"M82.7975 116.894 L101.154 116.894 L101.154 120.829 L87.0799 120.829 L87.0799 129.301 Q88.0984 128.954 89.1169 128.792 Q90.1354 128.607 91.1539 128.607 Q96.941 128.607 100.321 131.778 Q103.7 134.949 103.7 140.366 Q103.7 145.944 100.228 149.046 Q96.7558 152.125 90.4364 152.125 Q88.2604 152.125 85.9919 151.755 Q83.7466 151.384 81.3392 150.643 L81.3392 145.944 Q83.4225 147.079 85.6447 147.634 Q87.8669 148.19 90.3438 148.19 Q94.3484 148.19 96.6863 146.083 Q99.0243 143.977 99.0243 140.366 Q99.0243 136.755 96.6863 134.648 Q94.3484 132.542 90.3438 132.542 Q88.4688 132.542 86.5938 132.958 Q84.7419 133.375 82.7975 134.255 L82.7975 116.894 Z\" fill=\"#000000\" fill-rule=\"evenodd\" fill-opacity=\"1\" /><path clip-path=\"url(#clip110)\" d=\"M122.913 119.972 Q119.302 119.972 117.473 123.537 Q115.668 127.079 115.668 134.208 Q115.668 141.315 117.473 144.88 Q119.302 148.421 122.913 148.421 Q126.547 148.421 128.353 144.88 Q130.182 141.315 130.182 134.208 Q130.182 127.079 128.353 123.537 Q126.547 119.972 122.913 119.972 M122.913 116.269 Q128.723 116.269 131.779 120.875 Q134.857 125.458 134.857 134.208 Q134.857 142.935 131.779 147.542 Q128.723 152.125 122.913 152.125 Q117.103 152.125 114.024 147.542 Q110.969 142.935 110.969 134.208 Q110.969 125.458 114.024 120.875 Q117.103 116.269 122.913 116.269 Z\" fill=\"#000000\" fill-rule=\"evenodd\" fill-opacity=\"1\" /><path clip-path=\"url(#clip110)\" d=\"M153.075 119.972 Q149.464 119.972 147.635 123.537 Q145.83 127.079 145.83 134.208 Q145.83 141.315 147.635 144.88 Q149.464 148.421 153.075 148.421 Q156.709 148.421 158.515 144.88 Q160.343 141.315 160.343 134.208 Q160.343 127.079 158.515 123.537 Q156.709 119.972 153.075 119.972 M153.075 116.269 Q158.885 116.269 161.941 120.875 Q165.019 125.458 165.019 134.208 Q165.019 142.935 161.941 147.542 Q158.885 152.125 153.075 152.125 Q147.265 152.125 144.186 147.542 Q141.131 142.935 141.131 134.208 Q141.131 125.458 144.186 120.875 Q147.265 116.269 153.075 116.269 Z\" fill=\"#000000\" fill-rule=\"evenodd\" fill-opacity=\"1\" /><polyline clip-path=\"url(#clip112)\" style=\"stroke:#009af9; stroke-linecap:round; stroke-linejoin:round; stroke-width:4; stroke-opacity:1; fill:none\" points=\"\n  261.917,1445.72 368.756,1400.63 475.595,1347.13 582.434,1292.57 689.273,1238.81 796.112,1172.85 902.951,1115.73 1009.79,1064.72 1116.63,1007.3 1223.47,959.787 \n  1330.31,840.994 1437.15,728.14 1543.98,573.709 1650.82,503.753 1757.66,404.758 1864.5,338.762 1971.34,272.766 2078.18,200.17 2185.02,134.174 2291.86,87.9763 \n  \n  \"/>\n<path clip-path=\"url(#clip110)\" d=\"\nM1989.52 198.898 L2281.03 198.898 L2281.03 95.2176 L1989.52 95.2176  Z\n  \" fill=\"#ffffff\" fill-rule=\"evenodd\" fill-opacity=\"1\"/>\n<polyline clip-path=\"url(#clip110)\" style=\"stroke:#000000; stroke-linecap:round; stroke-linejoin:round; stroke-width:4; stroke-opacity:1; fill:none\" points=\"\n  1989.52,198.898 2281.03,198.898 2281.03,95.2176 1989.52,95.2176 1989.52,198.898 \n  \"/>\n<polyline clip-path=\"url(#clip110)\" style=\"stroke:#009af9; stroke-linecap:round; stroke-linejoin:round; stroke-width:4; stroke-opacity:1; fill:none\" points=\"\n  2013.43,147.058 2156.88,147.058 \n  \"/>\n<path clip-path=\"url(#clip110)\" d=\"M2194.63 166.745 Q2192.82 171.375 2191.11 172.787 Q2189.4 174.199 2186.53 174.199 L2183.12 174.199 L2183.12 170.634 L2185.62 170.634 Q2187.38 170.634 2188.35 169.8 Q2189.33 168.967 2190.51 165.865 L2191.27 163.921 L2180.78 138.412 L2185.3 138.412 L2193.4 158.689 L2201.5 138.412 L2206.02 138.412 L2194.63 166.745 Z\" fill=\"#000000\" fill-rule=\"evenodd\" fill-opacity=\"1\" /><path clip-path=\"url(#clip110)\" d=\"M2213.31 160.402 L2220.95 160.402 L2220.95 134.037 L2212.64 135.703 L2212.64 131.444 L2220.9 129.778 L2225.58 129.778 L2225.58 160.402 L2233.21 160.402 L2233.21 164.338 L2213.31 164.338 L2213.31 160.402 Z\" fill=\"#000000\" fill-rule=\"evenodd\" fill-opacity=\"1\" /></svg>\n",
      "text/html": [
       "<?xml version=\"1.0\" encoding=\"utf-8\"?>\n",
       "<svg xmlns=\"http://www.w3.org/2000/svg\" xmlns:xlink=\"http://www.w3.org/1999/xlink\" width=\"600\" height=\"400\" viewBox=\"0 0 2400 1600\">\n",
       "<defs>\n",
       "  <clipPath id=\"clip160\">\n",
       "    <rect x=\"0\" y=\"0\" width=\"2400\" height=\"1600\"/>\n",
       "  </clipPath>\n",
       "</defs>\n",
       "<path clip-path=\"url(#clip160)\" d=\"\n",
       "M0 1600 L2400 1600 L2400 0 L0 0  Z\n",
       "  \" fill=\"#ffffff\" fill-rule=\"evenodd\" fill-opacity=\"1\"/>\n",
       "<defs>\n",
       "  <clipPath id=\"clip161\">\n",
       "    <rect x=\"480\" y=\"0\" width=\"1681\" height=\"1600\"/>\n",
       "  </clipPath>\n",
       "</defs>\n",
       "<path clip-path=\"url(#clip160)\" d=\"\n",
       "M201.019 1486.45 L2352.76 1486.45 L2352.76 47.2441 L201.019 47.2441  Z\n",
       "  \" fill=\"#ffffff\" fill-rule=\"evenodd\" fill-opacity=\"1\"/>\n",
       "<defs>\n",
       "  <clipPath id=\"clip162\">\n",
       "    <rect x=\"201\" y=\"47\" width=\"2153\" height=\"1440\"/>\n",
       "  </clipPath>\n",
       "</defs>\n",
       "<polyline clip-path=\"url(#clip162)\" style=\"stroke:#000000; stroke-linecap:round; stroke-linejoin:round; stroke-width:2; stroke-opacity:0.1; fill:none\" points=\"\n",
       "  689.273,1486.45 689.273,47.2441 \n",
       "  \"/>\n",
       "<polyline clip-path=\"url(#clip162)\" style=\"stroke:#000000; stroke-linecap:round; stroke-linejoin:round; stroke-width:2; stroke-opacity:0.1; fill:none\" points=\"\n",
       "  1223.47,1486.45 1223.47,47.2441 \n",
       "  \"/>\n",
       "<polyline clip-path=\"url(#clip162)\" style=\"stroke:#000000; stroke-linecap:round; stroke-linejoin:round; stroke-width:2; stroke-opacity:0.1; fill:none\" points=\"\n",
       "  1757.66,1486.45 1757.66,47.2441 \n",
       "  \"/>\n",
       "<polyline clip-path=\"url(#clip162)\" style=\"stroke:#000000; stroke-linecap:round; stroke-linejoin:round; stroke-width:2; stroke-opacity:0.1; fill:none\" points=\"\n",
       "  2291.86,1486.45 2291.86,47.2441 \n",
       "  \"/>\n",
       "<polyline clip-path=\"url(#clip160)\" style=\"stroke:#000000; stroke-linecap:round; stroke-linejoin:round; stroke-width:4; stroke-opacity:1; fill:none\" points=\"\n",
       "  201.019,1486.45 2352.76,1486.45 \n",
       "  \"/>\n",
       "<polyline clip-path=\"url(#clip160)\" style=\"stroke:#000000; stroke-linecap:round; stroke-linejoin:round; stroke-width:4; stroke-opacity:1; fill:none\" points=\"\n",
       "  689.273,1486.45 689.273,1467.55 \n",
       "  \"/>\n",
       "<polyline clip-path=\"url(#clip160)\" style=\"stroke:#000000; stroke-linecap:round; stroke-linejoin:round; stroke-width:4; stroke-opacity:1; fill:none\" points=\"\n",
       "  1223.47,1486.45 1223.47,1467.55 \n",
       "  \"/>\n",
       "<polyline clip-path=\"url(#clip160)\" style=\"stroke:#000000; stroke-linecap:round; stroke-linejoin:round; stroke-width:4; stroke-opacity:1; fill:none\" points=\"\n",
       "  1757.66,1486.45 1757.66,1467.55 \n",
       "  \"/>\n",
       "<polyline clip-path=\"url(#clip160)\" style=\"stroke:#000000; stroke-linecap:round; stroke-linejoin:round; stroke-width:4; stroke-opacity:1; fill:none\" points=\"\n",
       "  2291.86,1486.45 2291.86,1467.55 \n",
       "  \"/>\n",
       "<path clip-path=\"url(#clip160)\" d=\"M679.551 1514.29 L697.908 1514.29 L697.908 1518.22 L683.834 1518.22 L683.834 1526.7 Q684.852 1526.35 685.871 1526.19 Q686.889 1526 687.908 1526 Q693.695 1526 697.074 1529.17 Q700.454 1532.34 700.454 1537.76 Q700.454 1543.34 696.982 1546.44 Q693.509 1549.52 687.19 1549.52 Q685.014 1549.52 682.746 1549.15 Q680.5 1548.78 678.093 1548.04 L678.093 1543.34 Q680.176 1544.47 682.398 1545.03 Q684.621 1545.58 687.097 1545.58 Q691.102 1545.58 693.44 1543.48 Q695.778 1541.37 695.778 1537.76 Q695.778 1534.15 693.44 1532.04 Q691.102 1529.94 687.097 1529.94 Q685.222 1529.94 683.347 1530.35 Q681.496 1530.77 679.551 1531.65 L679.551 1514.29 Z\" fill=\"#000000\" fill-rule=\"evenodd\" fill-opacity=\"1\" /><path clip-path=\"url(#clip160)\" d=\"M1198.16 1544.91 L1205.79 1544.91 L1205.79 1518.55 L1197.48 1520.21 L1197.48 1515.95 L1205.75 1514.29 L1210.42 1514.29 L1210.42 1544.91 L1218.06 1544.91 L1218.06 1548.85 L1198.16 1548.85 L1198.16 1544.91 Z\" fill=\"#000000\" fill-rule=\"evenodd\" fill-opacity=\"1\" /><path clip-path=\"url(#clip160)\" d=\"M1237.51 1517.37 Q1233.9 1517.37 1232.07 1520.93 Q1230.26 1524.47 1230.26 1531.6 Q1230.26 1538.71 1232.07 1542.27 Q1233.9 1545.82 1237.51 1545.82 Q1241.14 1545.82 1242.95 1542.27 Q1244.78 1538.71 1244.78 1531.6 Q1244.78 1524.47 1242.95 1520.93 Q1241.14 1517.37 1237.51 1517.37 M1237.51 1513.66 Q1243.32 1513.66 1246.37 1518.27 Q1249.45 1522.85 1249.45 1531.6 Q1249.45 1540.33 1246.37 1544.94 Q1243.32 1549.52 1237.51 1549.52 Q1231.7 1549.52 1228.62 1544.94 Q1225.56 1540.33 1225.56 1531.6 Q1225.56 1522.85 1228.62 1518.27 Q1231.7 1513.66 1237.51 1513.66 Z\" fill=\"#000000\" fill-rule=\"evenodd\" fill-opacity=\"1\" /><path clip-path=\"url(#clip160)\" d=\"M1732.85 1544.91 L1740.49 1544.91 L1740.49 1518.55 L1732.18 1520.21 L1732.18 1515.95 L1740.44 1514.29 L1745.12 1514.29 L1745.12 1544.91 L1752.76 1544.91 L1752.76 1548.85 L1732.85 1548.85 L1732.85 1544.91 Z\" fill=\"#000000\" fill-rule=\"evenodd\" fill-opacity=\"1\" /><path clip-path=\"url(#clip160)\" d=\"M1762.25 1514.29 L1780.6 1514.29 L1780.6 1518.22 L1766.53 1518.22 L1766.53 1526.7 Q1767.55 1526.35 1768.57 1526.19 Q1769.58 1526 1770.6 1526 Q1776.39 1526 1779.77 1529.17 Q1783.15 1532.34 1783.15 1537.76 Q1783.15 1543.34 1779.68 1546.44 Q1776.2 1549.52 1769.89 1549.52 Q1767.71 1549.52 1765.44 1549.15 Q1763.2 1548.78 1760.79 1548.04 L1760.79 1543.34 Q1762.87 1544.47 1765.09 1545.03 Q1767.32 1545.58 1769.79 1545.58 Q1773.8 1545.58 1776.14 1543.48 Q1778.47 1541.37 1778.47 1537.76 Q1778.47 1534.15 1776.14 1532.04 Q1773.8 1529.94 1769.79 1529.94 Q1767.92 1529.94 1766.04 1530.35 Q1764.19 1530.77 1762.25 1531.65 L1762.25 1514.29 Z\" fill=\"#000000\" fill-rule=\"evenodd\" fill-opacity=\"1\" /><path clip-path=\"url(#clip160)\" d=\"M2270.63 1544.91 L2286.95 1544.91 L2286.95 1548.85 L2265.01 1548.85 L2265.01 1544.91 Q2267.67 1542.16 2272.25 1537.53 Q2276.86 1532.88 2278.04 1531.53 Q2280.28 1529.01 2281.16 1527.27 Q2282.07 1525.51 2282.07 1523.82 Q2282.07 1521.07 2280.12 1519.33 Q2278.2 1517.6 2275.1 1517.6 Q2272.9 1517.6 2270.45 1518.36 Q2268.02 1519.13 2265.24 1520.68 L2265.24 1515.95 Q2268.06 1514.82 2270.52 1514.24 Q2272.97 1513.66 2275.01 1513.66 Q2280.38 1513.66 2283.57 1516.35 Q2286.77 1519.03 2286.77 1523.52 Q2286.77 1525.65 2285.95 1527.57 Q2285.17 1529.47 2283.06 1532.07 Q2282.48 1532.74 2279.38 1535.95 Q2276.28 1539.15 2270.63 1544.91 Z\" fill=\"#000000\" fill-rule=\"evenodd\" fill-opacity=\"1\" /><path clip-path=\"url(#clip160)\" d=\"M2306.77 1517.37 Q2303.15 1517.37 2301.33 1520.93 Q2299.52 1524.47 2299.52 1531.6 Q2299.52 1538.71 2301.33 1542.27 Q2303.15 1545.82 2306.77 1545.82 Q2310.4 1545.82 2312.2 1542.27 Q2314.03 1538.71 2314.03 1531.6 Q2314.03 1524.47 2312.2 1520.93 Q2310.4 1517.37 2306.77 1517.37 M2306.77 1513.66 Q2312.58 1513.66 2315.63 1518.27 Q2318.71 1522.85 2318.71 1531.6 Q2318.71 1540.33 2315.63 1544.94 Q2312.58 1549.52 2306.77 1549.52 Q2300.95 1549.52 2297.88 1544.94 Q2294.82 1540.33 2294.82 1531.6 Q2294.82 1522.85 2297.88 1518.27 Q2300.95 1513.66 2306.77 1513.66 Z\" fill=\"#000000\" fill-rule=\"evenodd\" fill-opacity=\"1\" /><polyline clip-path=\"url(#clip162)\" style=\"stroke:#000000; stroke-linecap:round; stroke-linejoin:round; stroke-width:2; stroke-opacity:0.1; fill:none\" points=\"\n",
       "  201.019,1322.11 2352.76,1322.11 \n",
       "  \"/>\n",
       "<polyline clip-path=\"url(#clip162)\" style=\"stroke:#000000; stroke-linecap:round; stroke-linejoin:round; stroke-width:2; stroke-opacity:0.1; fill:none\" points=\"\n",
       "  201.019,1025.12 2352.76,1025.12 \n",
       "  \"/>\n",
       "<polyline clip-path=\"url(#clip162)\" style=\"stroke:#000000; stroke-linecap:round; stroke-linejoin:round; stroke-width:2; stroke-opacity:0.1; fill:none\" points=\"\n",
       "  201.019,728.14 2352.76,728.14 \n",
       "  \"/>\n",
       "<polyline clip-path=\"url(#clip162)\" style=\"stroke:#000000; stroke-linecap:round; stroke-linejoin:round; stroke-width:2; stroke-opacity:0.1; fill:none\" points=\"\n",
       "  201.019,431.157 2352.76,431.157 \n",
       "  \"/>\n",
       "<polyline clip-path=\"url(#clip162)\" style=\"stroke:#000000; stroke-linecap:round; stroke-linejoin:round; stroke-width:2; stroke-opacity:0.1; fill:none\" points=\"\n",
       "  201.019,134.174 2352.76,134.174 \n",
       "  \"/>\n",
       "<polyline clip-path=\"url(#clip160)\" style=\"stroke:#000000; stroke-linecap:round; stroke-linejoin:round; stroke-width:4; stroke-opacity:1; fill:none\" points=\"\n",
       "  201.019,1486.45 201.019,47.2441 \n",
       "  \"/>\n",
       "<polyline clip-path=\"url(#clip160)\" style=\"stroke:#000000; stroke-linecap:round; stroke-linejoin:round; stroke-width:4; stroke-opacity:1; fill:none\" points=\"\n",
       "  201.019,1322.11 219.917,1322.11 \n",
       "  \"/>\n",
       "<polyline clip-path=\"url(#clip160)\" style=\"stroke:#000000; stroke-linecap:round; stroke-linejoin:round; stroke-width:4; stroke-opacity:1; fill:none\" points=\"\n",
       "  201.019,1025.12 219.917,1025.12 \n",
       "  \"/>\n",
       "<polyline clip-path=\"url(#clip160)\" style=\"stroke:#000000; stroke-linecap:round; stroke-linejoin:round; stroke-width:4; stroke-opacity:1; fill:none\" points=\"\n",
       "  201.019,728.14 219.917,728.14 \n",
       "  \"/>\n",
       "<polyline clip-path=\"url(#clip160)\" style=\"stroke:#000000; stroke-linecap:round; stroke-linejoin:round; stroke-width:4; stroke-opacity:1; fill:none\" points=\"\n",
       "  201.019,431.157 219.917,431.157 \n",
       "  \"/>\n",
       "<polyline clip-path=\"url(#clip160)\" style=\"stroke:#000000; stroke-linecap:round; stroke-linejoin:round; stroke-width:4; stroke-opacity:1; fill:none\" points=\"\n",
       "  201.019,134.174 219.917,134.174 \n",
       "  \"/>\n",
       "<path clip-path=\"url(#clip160)\" d=\"M82.7975 1304.83 L101.154 1304.83 L101.154 1308.76 L87.0799 1308.76 L87.0799 1317.23 Q88.0984 1316.89 89.1169 1316.72 Q90.1354 1316.54 91.1539 1316.54 Q96.941 1316.54 100.321 1319.71 Q103.7 1322.88 103.7 1328.3 Q103.7 1333.88 100.228 1336.98 Q96.7558 1340.06 90.4364 1340.06 Q88.2604 1340.06 85.9919 1339.69 Q83.7466 1339.32 81.3392 1338.58 L81.3392 1333.88 Q83.4225 1335.01 85.6447 1335.57 Q87.8669 1336.12 90.3438 1336.12 Q94.3484 1336.12 96.6863 1334.02 Q99.0243 1331.91 99.0243 1328.3 Q99.0243 1324.69 96.6863 1322.58 Q94.3484 1320.47 90.3438 1320.47 Q88.4688 1320.47 86.5938 1320.89 Q84.7419 1321.31 82.7975 1322.19 L82.7975 1304.83 Z\" fill=\"#000000\" fill-rule=\"evenodd\" fill-opacity=\"1\" /><path clip-path=\"url(#clip160)\" d=\"M122.913 1307.91 Q119.302 1307.91 117.473 1311.47 Q115.668 1315.01 115.668 1322.14 Q115.668 1329.25 117.473 1332.81 Q119.302 1336.35 122.913 1336.35 Q126.547 1336.35 128.353 1332.81 Q130.182 1329.25 130.182 1322.14 Q130.182 1315.01 128.353 1311.47 Q126.547 1307.91 122.913 1307.91 M122.913 1304.2 Q128.723 1304.2 131.779 1308.81 Q134.857 1313.39 134.857 1322.14 Q134.857 1330.87 131.779 1335.47 Q128.723 1340.06 122.913 1340.06 Q117.103 1340.06 114.024 1335.47 Q110.969 1330.87 110.969 1322.14 Q110.969 1313.39 114.024 1308.81 Q117.103 1304.2 122.913 1304.2 Z\" fill=\"#000000\" fill-rule=\"evenodd\" fill-opacity=\"1\" /><path clip-path=\"url(#clip160)\" d=\"M153.075 1307.91 Q149.464 1307.91 147.635 1311.47 Q145.83 1315.01 145.83 1322.14 Q145.83 1329.25 147.635 1332.81 Q149.464 1336.35 153.075 1336.35 Q156.709 1336.35 158.515 1332.81 Q160.343 1329.25 160.343 1322.14 Q160.343 1315.01 158.515 1311.47 Q156.709 1307.91 153.075 1307.91 M153.075 1304.2 Q158.885 1304.2 161.941 1308.81 Q165.019 1313.39 165.019 1322.14 Q165.019 1330.87 161.941 1335.47 Q158.885 1340.06 153.075 1340.06 Q147.265 1340.06 144.186 1335.47 Q141.131 1330.87 141.131 1322.14 Q141.131 1313.39 144.186 1308.81 Q147.265 1304.2 153.075 1304.2 Z\" fill=\"#000000\" fill-rule=\"evenodd\" fill-opacity=\"1\" /><path clip-path=\"url(#clip160)\" d=\"M53.3995 1038.47 L61.0384 1038.47 L61.0384 1012.1 L52.7282 1013.77 L52.7282 1009.51 L60.9921 1007.84 L65.668 1007.84 L65.668 1038.47 L73.3068 1038.47 L73.3068 1042.4 L53.3995 1042.4 L53.3995 1038.47 Z\" fill=\"#000000\" fill-rule=\"evenodd\" fill-opacity=\"1\" /><path clip-path=\"url(#clip160)\" d=\"M92.7512 1010.92 Q89.1401 1010.92 87.3114 1014.49 Q85.5058 1018.03 85.5058 1025.16 Q85.5058 1032.26 87.3114 1035.83 Q89.1401 1039.37 92.7512 1039.37 Q96.3854 1039.37 98.1909 1035.83 Q100.02 1032.26 100.02 1025.16 Q100.02 1018.03 98.1909 1014.49 Q96.3854 1010.92 92.7512 1010.92 M92.7512 1007.22 Q98.5613 1007.22 101.617 1011.82 Q104.696 1016.41 104.696 1025.16 Q104.696 1033.88 101.617 1038.49 Q98.5613 1043.07 92.7512 1043.07 Q86.941 1043.07 83.8623 1038.49 Q80.8068 1033.88 80.8068 1025.16 Q80.8068 1016.41 83.8623 1011.82 Q86.941 1007.22 92.7512 1007.22 Z\" fill=\"#000000\" fill-rule=\"evenodd\" fill-opacity=\"1\" /><path clip-path=\"url(#clip160)\" d=\"M122.913 1010.92 Q119.302 1010.92 117.473 1014.49 Q115.668 1018.03 115.668 1025.16 Q115.668 1032.26 117.473 1035.83 Q119.302 1039.37 122.913 1039.37 Q126.547 1039.37 128.353 1035.83 Q130.182 1032.26 130.182 1025.16 Q130.182 1018.03 128.353 1014.49 Q126.547 1010.92 122.913 1010.92 M122.913 1007.22 Q128.723 1007.22 131.779 1011.82 Q134.857 1016.41 134.857 1025.16 Q134.857 1033.88 131.779 1038.49 Q128.723 1043.07 122.913 1043.07 Q117.103 1043.07 114.024 1038.49 Q110.969 1033.88 110.969 1025.16 Q110.969 1016.41 114.024 1011.82 Q117.103 1007.22 122.913 1007.22 Z\" fill=\"#000000\" fill-rule=\"evenodd\" fill-opacity=\"1\" /><path clip-path=\"url(#clip160)\" d=\"M153.075 1010.92 Q149.464 1010.92 147.635 1014.49 Q145.83 1018.03 145.83 1025.16 Q145.83 1032.26 147.635 1035.83 Q149.464 1039.37 153.075 1039.37 Q156.709 1039.37 158.515 1035.83 Q160.343 1032.26 160.343 1025.16 Q160.343 1018.03 158.515 1014.49 Q156.709 1010.92 153.075 1010.92 M153.075 1007.22 Q158.885 1007.22 161.941 1011.82 Q165.019 1016.41 165.019 1025.16 Q165.019 1033.88 161.941 1038.49 Q158.885 1043.07 153.075 1043.07 Q147.265 1043.07 144.186 1038.49 Q141.131 1033.88 141.131 1025.16 Q141.131 1016.41 144.186 1011.82 Q147.265 1007.22 153.075 1007.22 Z\" fill=\"#000000\" fill-rule=\"evenodd\" fill-opacity=\"1\" /><path clip-path=\"url(#clip160)\" d=\"M53.3995 741.485 L61.0384 741.485 L61.0384 715.119 L52.7282 716.786 L52.7282 712.527 L60.9921 710.86 L65.668 710.86 L65.668 741.485 L73.3068 741.485 L73.3068 745.42 L53.3995 745.42 L53.3995 741.485 Z\" fill=\"#000000\" fill-rule=\"evenodd\" fill-opacity=\"1\" /><path clip-path=\"url(#clip160)\" d=\"M82.7975 710.86 L101.154 710.86 L101.154 714.795 L87.0799 714.795 L87.0799 723.267 Q88.0984 722.92 89.1169 722.758 Q90.1354 722.573 91.1539 722.573 Q96.941 722.573 100.321 725.744 Q103.7 728.916 103.7 734.332 Q103.7 739.911 100.228 743.013 Q96.7558 746.091 90.4364 746.091 Q88.2604 746.091 85.9919 745.721 Q83.7466 745.351 81.3392 744.61 L81.3392 739.911 Q83.4225 741.045 85.6447 741.601 Q87.8669 742.156 90.3438 742.156 Q94.3484 742.156 96.6863 740.05 Q99.0243 737.943 99.0243 734.332 Q99.0243 730.721 96.6863 728.615 Q94.3484 726.508 90.3438 726.508 Q88.4688 726.508 86.5938 726.925 Q84.7419 727.341 82.7975 728.221 L82.7975 710.86 Z\" fill=\"#000000\" fill-rule=\"evenodd\" fill-opacity=\"1\" /><path clip-path=\"url(#clip160)\" d=\"M122.913 713.939 Q119.302 713.939 117.473 717.504 Q115.668 721.045 115.668 728.175 Q115.668 735.281 117.473 738.846 Q119.302 742.388 122.913 742.388 Q126.547 742.388 128.353 738.846 Q130.182 735.281 130.182 728.175 Q130.182 721.045 128.353 717.504 Q126.547 713.939 122.913 713.939 M122.913 710.235 Q128.723 710.235 131.779 714.842 Q134.857 719.425 134.857 728.175 Q134.857 736.902 131.779 741.508 Q128.723 746.091 122.913 746.091 Q117.103 746.091 114.024 741.508 Q110.969 736.902 110.969 728.175 Q110.969 719.425 114.024 714.842 Q117.103 710.235 122.913 710.235 Z\" fill=\"#000000\" fill-rule=\"evenodd\" fill-opacity=\"1\" /><path clip-path=\"url(#clip160)\" d=\"M153.075 713.939 Q149.464 713.939 147.635 717.504 Q145.83 721.045 145.83 728.175 Q145.83 735.281 147.635 738.846 Q149.464 742.388 153.075 742.388 Q156.709 742.388 158.515 738.846 Q160.343 735.281 160.343 728.175 Q160.343 721.045 158.515 717.504 Q156.709 713.939 153.075 713.939 M153.075 710.235 Q158.885 710.235 161.941 714.842 Q165.019 719.425 165.019 728.175 Q165.019 736.902 161.941 741.508 Q158.885 746.091 153.075 746.091 Q147.265 746.091 144.186 741.508 Q141.131 736.902 141.131 728.175 Q141.131 719.425 144.186 714.842 Q147.265 710.235 153.075 710.235 Z\" fill=\"#000000\" fill-rule=\"evenodd\" fill-opacity=\"1\" /><path clip-path=\"url(#clip160)\" d=\"M56.6171 444.502 L72.9365 444.502 L72.9365 448.437 L50.9921 448.437 L50.9921 444.502 Q53.6541 441.747 58.2375 437.117 Q62.8439 432.465 64.0245 431.122 Q66.2698 428.599 67.1494 426.863 Q68.0522 425.104 68.0522 423.414 Q68.0522 420.659 66.1078 418.923 Q64.1865 417.187 61.0847 417.187 Q58.8856 417.187 56.4319 417.951 Q54.0014 418.715 51.2236 420.266 L51.2236 415.544 Q54.0477 414.409 56.5014 413.831 Q58.955 413.252 60.9921 413.252 Q66.3624 413.252 69.5568 415.937 Q72.7513 418.622 72.7513 423.113 Q72.7513 425.243 71.9411 427.164 Q71.1541 429.062 69.0476 431.655 Q68.4689 432.326 65.367 435.543 Q62.2652 438.738 56.6171 444.502 Z\" fill=\"#000000\" fill-rule=\"evenodd\" fill-opacity=\"1\" /><path clip-path=\"url(#clip160)\" d=\"M92.7512 416.956 Q89.1401 416.956 87.3114 420.52 Q85.5058 424.062 85.5058 431.192 Q85.5058 438.298 87.3114 441.863 Q89.1401 445.404 92.7512 445.404 Q96.3854 445.404 98.1909 441.863 Q100.02 438.298 100.02 431.192 Q100.02 424.062 98.1909 420.52 Q96.3854 416.956 92.7512 416.956 M92.7512 413.252 Q98.5613 413.252 101.617 417.858 Q104.696 422.442 104.696 431.192 Q104.696 439.918 101.617 444.525 Q98.5613 449.108 92.7512 449.108 Q86.941 449.108 83.8623 444.525 Q80.8068 439.918 80.8068 431.192 Q80.8068 422.442 83.8623 417.858 Q86.941 413.252 92.7512 413.252 Z\" fill=\"#000000\" fill-rule=\"evenodd\" fill-opacity=\"1\" /><path clip-path=\"url(#clip160)\" d=\"M122.913 416.956 Q119.302 416.956 117.473 420.52 Q115.668 424.062 115.668 431.192 Q115.668 438.298 117.473 441.863 Q119.302 445.404 122.913 445.404 Q126.547 445.404 128.353 441.863 Q130.182 438.298 130.182 431.192 Q130.182 424.062 128.353 420.52 Q126.547 416.956 122.913 416.956 M122.913 413.252 Q128.723 413.252 131.779 417.858 Q134.857 422.442 134.857 431.192 Q134.857 439.918 131.779 444.525 Q128.723 449.108 122.913 449.108 Q117.103 449.108 114.024 444.525 Q110.969 439.918 110.969 431.192 Q110.969 422.442 114.024 417.858 Q117.103 413.252 122.913 413.252 Z\" fill=\"#000000\" fill-rule=\"evenodd\" fill-opacity=\"1\" /><path clip-path=\"url(#clip160)\" d=\"M153.075 416.956 Q149.464 416.956 147.635 420.52 Q145.83 424.062 145.83 431.192 Q145.83 438.298 147.635 441.863 Q149.464 445.404 153.075 445.404 Q156.709 445.404 158.515 441.863 Q160.343 438.298 160.343 431.192 Q160.343 424.062 158.515 420.52 Q156.709 416.956 153.075 416.956 M153.075 413.252 Q158.885 413.252 161.941 417.858 Q165.019 422.442 165.019 431.192 Q165.019 439.918 161.941 444.525 Q158.885 449.108 153.075 449.108 Q147.265 449.108 144.186 444.525 Q141.131 439.918 141.131 431.192 Q141.131 422.442 144.186 417.858 Q147.265 413.252 153.075 413.252 Z\" fill=\"#000000\" fill-rule=\"evenodd\" fill-opacity=\"1\" /><path clip-path=\"url(#clip160)\" d=\"M56.6171 147.518 L72.9365 147.518 L72.9365 151.454 L50.9921 151.454 L50.9921 147.518 Q53.6541 144.764 58.2375 140.134 Q62.8439 135.482 64.0245 134.139 Q66.2698 131.616 67.1494 129.88 Q68.0522 128.12 68.0522 126.431 Q68.0522 123.676 66.1078 121.94 Q64.1865 120.204 61.0847 120.204 Q58.8856 120.204 56.4319 120.968 Q54.0014 121.732 51.2236 123.283 L51.2236 118.56 Q54.0477 117.426 56.5014 116.847 Q58.955 116.269 60.9921 116.269 Q66.3624 116.269 69.5568 118.954 Q72.7513 121.639 72.7513 126.13 Q72.7513 128.259 71.9411 130.181 Q71.1541 132.079 69.0476 134.671 Q68.4689 135.343 65.367 138.56 Q62.2652 141.755 56.6171 147.518 Z\" fill=\"#000000\" fill-rule=\"evenodd\" fill-opacity=\"1\" /><path clip-path=\"url(#clip160)\" d=\"M82.7975 116.894 L101.154 116.894 L101.154 120.829 L87.0799 120.829 L87.0799 129.301 Q88.0984 128.954 89.1169 128.792 Q90.1354 128.607 91.1539 128.607 Q96.941 128.607 100.321 131.778 Q103.7 134.949 103.7 140.366 Q103.7 145.944 100.228 149.046 Q96.7558 152.125 90.4364 152.125 Q88.2604 152.125 85.9919 151.755 Q83.7466 151.384 81.3392 150.643 L81.3392 145.944 Q83.4225 147.079 85.6447 147.634 Q87.8669 148.19 90.3438 148.19 Q94.3484 148.19 96.6863 146.083 Q99.0243 143.977 99.0243 140.366 Q99.0243 136.755 96.6863 134.648 Q94.3484 132.542 90.3438 132.542 Q88.4688 132.542 86.5938 132.958 Q84.7419 133.375 82.7975 134.255 L82.7975 116.894 Z\" fill=\"#000000\" fill-rule=\"evenodd\" fill-opacity=\"1\" /><path clip-path=\"url(#clip160)\" d=\"M122.913 119.972 Q119.302 119.972 117.473 123.537 Q115.668 127.079 115.668 134.208 Q115.668 141.315 117.473 144.88 Q119.302 148.421 122.913 148.421 Q126.547 148.421 128.353 144.88 Q130.182 141.315 130.182 134.208 Q130.182 127.079 128.353 123.537 Q126.547 119.972 122.913 119.972 M122.913 116.269 Q128.723 116.269 131.779 120.875 Q134.857 125.458 134.857 134.208 Q134.857 142.935 131.779 147.542 Q128.723 152.125 122.913 152.125 Q117.103 152.125 114.024 147.542 Q110.969 142.935 110.969 134.208 Q110.969 125.458 114.024 120.875 Q117.103 116.269 122.913 116.269 Z\" fill=\"#000000\" fill-rule=\"evenodd\" fill-opacity=\"1\" /><path clip-path=\"url(#clip160)\" d=\"M153.075 119.972 Q149.464 119.972 147.635 123.537 Q145.83 127.079 145.83 134.208 Q145.83 141.315 147.635 144.88 Q149.464 148.421 153.075 148.421 Q156.709 148.421 158.515 144.88 Q160.343 141.315 160.343 134.208 Q160.343 127.079 158.515 123.537 Q156.709 119.972 153.075 119.972 M153.075 116.269 Q158.885 116.269 161.941 120.875 Q165.019 125.458 165.019 134.208 Q165.019 142.935 161.941 147.542 Q158.885 152.125 153.075 152.125 Q147.265 152.125 144.186 147.542 Q141.131 142.935 141.131 134.208 Q141.131 125.458 144.186 120.875 Q147.265 116.269 153.075 116.269 Z\" fill=\"#000000\" fill-rule=\"evenodd\" fill-opacity=\"1\" /><polyline clip-path=\"url(#clip162)\" style=\"stroke:#009af9; stroke-linecap:round; stroke-linejoin:round; stroke-width:4; stroke-opacity:1; fill:none\" points=\"\n",
       "  261.917,1445.72 368.756,1400.63 475.595,1347.13 582.434,1292.57 689.273,1238.81 796.112,1172.85 902.951,1115.73 1009.79,1064.72 1116.63,1007.3 1223.47,959.787 \n",
       "  1330.31,840.994 1437.15,728.14 1543.98,573.709 1650.82,503.753 1757.66,404.758 1864.5,338.762 1971.34,272.766 2078.18,200.17 2185.02,134.174 2291.86,87.9763 \n",
       "  \n",
       "  \"/>\n",
       "<path clip-path=\"url(#clip160)\" d=\"\n",
       "M1989.52 198.898 L2281.03 198.898 L2281.03 95.2176 L1989.52 95.2176  Z\n",
       "  \" fill=\"#ffffff\" fill-rule=\"evenodd\" fill-opacity=\"1\"/>\n",
       "<polyline clip-path=\"url(#clip160)\" style=\"stroke:#000000; stroke-linecap:round; stroke-linejoin:round; stroke-width:4; stroke-opacity:1; fill:none\" points=\"\n",
       "  1989.52,198.898 2281.03,198.898 2281.03,95.2176 1989.52,95.2176 1989.52,198.898 \n",
       "  \"/>\n",
       "<polyline clip-path=\"url(#clip160)\" style=\"stroke:#009af9; stroke-linecap:round; stroke-linejoin:round; stroke-width:4; stroke-opacity:1; fill:none\" points=\"\n",
       "  2013.43,147.058 2156.88,147.058 \n",
       "  \"/>\n",
       "<path clip-path=\"url(#clip160)\" d=\"M2194.63 166.745 Q2192.82 171.375 2191.11 172.787 Q2189.4 174.199 2186.53 174.199 L2183.12 174.199 L2183.12 170.634 L2185.62 170.634 Q2187.38 170.634 2188.35 169.8 Q2189.33 168.967 2190.51 165.865 L2191.27 163.921 L2180.78 138.412 L2185.3 138.412 L2193.4 158.689 L2201.5 138.412 L2206.02 138.412 L2194.63 166.745 Z\" fill=\"#000000\" fill-rule=\"evenodd\" fill-opacity=\"1\" /><path clip-path=\"url(#clip160)\" d=\"M2213.31 160.402 L2220.95 160.402 L2220.95 134.037 L2212.64 135.703 L2212.64 131.444 L2220.9 129.778 L2225.58 129.778 L2225.58 160.402 L2233.21 160.402 L2233.21 164.338 L2213.31 164.338 L2213.31 160.402 Z\" fill=\"#000000\" fill-rule=\"evenodd\" fill-opacity=\"1\" /></svg>\n"
      ]
     },
     "metadata": {},
     "output_type": "display_data"
    }
   ],
   "source": [
    "plot(A)"
   ]
  }
 ],
 "metadata": {
  "kernelspec": {
   "display_name": "Julia 1.7.3",
   "language": "julia",
   "name": "julia-1.7"
  },
  "language_info": {
   "file_extension": ".jl",
   "mimetype": "application/julia",
   "name": "julia",
   "version": "1.7.3"
  }
 },
 "nbformat": 4,
 "nbformat_minor": 5
}
